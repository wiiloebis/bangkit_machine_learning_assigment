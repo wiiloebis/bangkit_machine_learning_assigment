{
  "nbformat": 4,
  "nbformat_minor": 0,
  "metadata": {
    "colab": {
      "name": "cnn_model.ipynb",
      "provenance": [],
      "collapsed_sections": [],
      "toc_visible": true,
      "machine_shape": "hm",
      "include_colab_link": true
    },
    "kernelspec": {
      "name": "python3",
      "display_name": "Python 3"
    },
    "accelerator": "GPU"
  },
  "cells": [
    {
      "cell_type": "markdown",
      "metadata": {
        "id": "view-in-github",
        "colab_type": "text"
      },
      "source": [
        "<a href=\"https://colab.research.google.com/github/wiiloebis/bangkit_machine_learning_assigment/blob/master/cnn_model.ipynb\" target=\"_parent\"><img src=\"https://colab.research.google.com/assets/colab-badge.svg\" alt=\"Open In Colab\"/></a>"
      ]
    },
    {
      "cell_type": "code",
      "metadata": {
        "id": "zLULNXOShHUr",
        "colab_type": "code",
        "colab": {}
      },
      "source": [
        "import tensorflow as tf"
      ],
      "execution_count": 0,
      "outputs": []
    },
    {
      "cell_type": "code",
      "metadata": {
        "id": "Wxv61iXEF3ir",
        "colab_type": "code",
        "outputId": "f5cdac55-1f8a-4b23-f91c-92af87a6a87a",
        "colab": {
          "base_uri": "https://localhost:8080/",
          "height": 34
        }
      },
      "source": [
        "tf.__version__"
      ],
      "execution_count": 0,
      "outputs": [
        {
          "output_type": "execute_result",
          "data": {
            "text/plain": [
              "'2.2.0-rc2'"
            ]
          },
          "metadata": {
            "tags": []
          },
          "execution_count": 3
        }
      ]
    },
    {
      "cell_type": "code",
      "metadata": {
        "id": "xaYfpP089CPx",
        "colab_type": "code",
        "outputId": "0d8d9682-9ae1-4c5c-810e-14b24391fd71",
        "colab": {
          "base_uri": "https://localhost:8080/",
          "height": 34
        }
      },
      "source": [
        "from google.colab import drive\n",
        "drive.mount('/content/drive')"
      ],
      "execution_count": 0,
      "outputs": [
        {
          "output_type": "stream",
          "text": [
            "Drive already mounted at /content/drive; to attempt to forcibly remount, call drive.mount(\"/content/drive\", force_remount=True).\n"
          ],
          "name": "stdout"
        }
      ]
    },
    {
      "cell_type": "code",
      "metadata": {
        "id": "wssKsEEsfKEM",
        "colab_type": "code",
        "colab": {}
      },
      "source": [
        "import matplotlib.pyplot as plt\n",
        "import numpy as np\n",
        "from tensorflow.keras import layers\n",
        "import time\n",
        "import os, sys\n",
        "import pandas as pd\n",
        "from IPython import display\n",
        "os.listdir(path='.')"
      ],
      "execution_count": 0,
      "outputs": []
    },
    {
      "cell_type": "markdown",
      "metadata": {
        "id": "1Wn_CaFOG3cC",
        "colab_type": "text"
      },
      "source": [
        "# Define function to get file path in a directory"
      ]
    },
    {
      "cell_type": "code",
      "metadata": {
        "id": "Gl-iFlzGGmNJ",
        "colab_type": "code",
        "colab": {}
      },
      "source": [
        "def get_file_path_in_dir(dir_name):\n",
        "    ''' Get the full path name of files/folders in\n",
        "    directory specified by path to directory in\n",
        "    argument \"dir_name\" and return it as a list\n",
        "\n",
        "    dir_name is a Path from the directory of your current working script to the folder that you want to\n",
        "    check all of the subfolder/file\n",
        "    example:\n",
        "    pwd\n",
        "    /usr/Documents\n",
        "    ls .\n",
        "    Music\n",
        "    document.txt\n",
        "\n",
        "    get_file_path_in_dir('usr/Documents')\n",
        "    returns\n",
        "    [/usr/Documents/Music,\n",
        "    /usr/Documents/document.txt]\n",
        "    '''\n",
        "    target_dir = os.listdir(dir_name)\n",
        "    dir_list = []\n",
        "    for entry in target_dir:\n",
        "        full_path = os.path.join(dir_name, entry)\n",
        "        dir_list.append(full_path)\n",
        "    \n",
        "    return dir_list"
      ],
      "execution_count": 0,
      "outputs": []
    },
    {
      "cell_type": "markdown",
      "metadata": {
        "id": "-qzaB4r_HA2H",
        "colab_type": "text"
      },
      "source": [
        "# Get the full path of each subdirectory in a directory specify by the variable train_dir_name\n",
        "train_dir_name contain path from current working directory(relative path) to the directory containing"
      ]
    },
    {
      "cell_type": "code",
      "metadata": {
        "id": "SfYexpoiHKJM",
        "colab_type": "code",
        "colab": {}
      },
      "source": [
        "# get every path to subfolder/file in train_dir_name folder\n",
        "train_dir_name = 'plant_disease\\\\plan_disease_aug\\\\train\\\\'\n",
        "train_data_dir = get_file_path_in_dir(train_dir_name)"
      ],
      "execution_count": 0,
      "outputs": []
    },
    {
      "cell_type": "code",
      "metadata": {
        "id": "1GQq7hv0HRHU",
        "colab_type": "code",
        "colab": {}
      },
      "source": [
        "def get_sub_dir_names(path_to_dir):\n",
        "    '''Get the name of all file/folder in a directory specified\n",
        "    by the path \"path_to_dir\" and return it as list\n",
        "    example:\n",
        "    pwd\n",
        "    /usr/Documents\n",
        "    ls .\n",
        "    Music\n",
        "    documents.txt\n",
        "\n",
        "    get_sub_dir_names('usr/Documents')\n",
        "    returns\n",
        "    ['Music',\n",
        "    'documents.txt']\n",
        "\n",
        "    '''\n",
        "    subdir_path_list = get_file_path_in_dir(path_to_dir)\n",
        "    subdir_name_list = []\n",
        "    for subdir in subdir_path_list:\n",
        "        subdir_name_list.append(subdir.split(\"\\\\\")[-1])\n",
        "    return subdir_name_list"
      ],
      "execution_count": 0,
      "outputs": []
    },
    {
      "cell_type": "code",
      "metadata": {
        "id": "pduLKXLnHUzN",
        "colab_type": "code",
        "colab": {}
      },
      "source": [
        "tomato_class_list = get_sub_dir_names(train_dir_name)\n",
        "tomato_class_list"
      ],
      "execution_count": 0,
      "outputs": []
    },
    {
      "cell_type": "code",
      "metadata": {
        "id": "5GiAcraSHWuq",
        "colab_type": "code",
        "colab": {}
      },
      "source": [
        "import PIL\n",
        "from PIL import Image, ImageOps"
      ],
      "execution_count": 0,
      "outputs": []
    },
    {
      "cell_type": "code",
      "metadata": {
        "id": "_ivYNT7HHZCr",
        "colab_type": "code",
        "colab": {}
      },
      "source": [
        "def image_to_ndarray(path_to_image):\n",
        "    \"\"\"read image from the file path name and\n",
        "    convert the image to np array with dimension of 200x200x3 pixel\n",
        "    example:\n",
        "    image_to_ndarray(\"usr/Documents/fish.jpg\")\n",
        "    returns\n",
        "    np.array\n",
        "    where np.array.shape is (100,100,3)\n",
        "    \"\"\"\n",
        "    image = Image.open(path_to_image)\n",
        "    # Resize image to 100x100 pixel\n",
        "    image_resize = ImageOps.fit(image, (100, 100), Image.ANTIALIAS)\n",
        "    data = np.asarray(image_resize)\n",
        "    return data"
      ],
      "execution_count": 0,
      "outputs": []
    },
    {
      "cell_type": "markdown",
      "metadata": {
        "id": "1eAtZ6JZHeV5",
        "colab_type": "text"
      },
      "source": [
        "# Read Train image dataset to np array\n",
        "we will also map each label of the image"
      ]
    },
    {
      "cell_type": "code",
      "metadata": {
        "id": "kQ0aZa6eHg38",
        "colab_type": "code",
        "colab": {}
      },
      "source": [
        "def read_image_dir_to_np_array(dir_name, class_list):\n",
        "    \"\"\"take path to directory name which contains images file,\n",
        "       read the image into np array, and return list of image and its corresponding label\"\"\"\n",
        "    image_dataset = []\n",
        "    label = []\n",
        "    for cla in class_list:\n",
        "        class_items = get_file_path_in_dir(dir_name+\"\\\\\"+cla)\n",
        "        for item in class_items:\n",
        "            data = image_to_ndarray(item)\n",
        "            image_dataset.append(data)\n",
        "            label.append(cla)\n",
        "\n",
        "    return image_dataset, label"
      ],
      "execution_count": 0,
      "outputs": []
    },
    {
      "cell_type": "code",
      "metadata": {
        "id": "VSqXLd5yHlof",
        "colab_type": "code",
        "colab": {}
      },
      "source": [
        "train_numpy_dataset, label_train = read_image_dir_to_np_array(train_dir_name, tomato_class_list)"
      ],
      "execution_count": 0,
      "outputs": []
    },
    {
      "cell_type": "markdown",
      "metadata": {
        "id": "sPjqf-_EHpk0",
        "colab_type": "text"
      },
      "source": [
        "# Convert array of image into numpy array\n",
        "the dimension of the array is as follows: (m, h, w, 3) where m is the number of image, h is the height of each image, w is the width of the image, and 3 is for the number of color channel(RGB)"
      ]
    },
    {
      "cell_type": "code",
      "metadata": {
        "id": "N5ZtwJJuHsGA",
        "colab_type": "code",
        "colab": {}
      },
      "source": [
        "train_numpy_dataset = np.array(train_numpy_dataset)\n",
        "train_numpy_dataset.shape"
      ],
      "execution_count": 0,
      "outputs": []
    },
    {
      "cell_type": "code",
      "metadata": {
        "id": "rIIQxpKoHuA4",
        "colab_type": "code",
        "colab": {}
      },
      "source": [
        "# Create set of unique labels and make a dictionary that maps the label to unique integer number\n",
        "label_unique = list(set(label_train))\n",
        "label_dict = dict((label, index) for index, label in enumerate(label_unique))\n",
        "label_df = pd.DataFrame(label_dict.items(), columns=['Tomato Health', 'Health Label'])\n",
        "label_df.to_csv(\"category_to_num.csv\")"
      ],
      "execution_count": 0,
      "outputs": []
    },
    {
      "cell_type": "code",
      "metadata": {
        "id": "0ZooQpl1Hv6j",
        "colab_type": "code",
        "colab": {}
      },
      "source": [
        "label_dict"
      ],
      "execution_count": 0,
      "outputs": []
    },
    {
      "cell_type": "code",
      "metadata": {
        "id": "mTmrMLMFHxyv",
        "colab_type": "code",
        "colab": {}
      },
      "source": [
        "# label_train\n",
        "Image.fromarray(train_numpy_dataset[1])"
      ],
      "execution_count": 0,
      "outputs": []
    },
    {
      "cell_type": "code",
      "metadata": {
        "id": "6CqU4dnQHzuH",
        "colab_type": "code",
        "colab": {}
      },
      "source": [
        "# map train label to dictionary value\n",
        "train_numpy_label = np.array([label_dict[key] for key in label_train])\n",
        "train_numpy_label"
      ],
      "execution_count": 0,
      "outputs": []
    },
    {
      "cell_type": "code",
      "metadata": {
        "id": "WoMJ1IJ2H1g_",
        "colab_type": "code",
        "colab": {}
      },
      "source": [
        "train_numpy_label.shape"
      ],
      "execution_count": 0,
      "outputs": []
    },
    {
      "cell_type": "markdown",
      "metadata": {
        "id": "r2JjlUMpH4FC",
        "colab_type": "text"
      },
      "source": [
        "# Save train dataset and its label as npz file"
      ]
    },
    {
      "cell_type": "code",
      "metadata": {
        "id": "cxlMk4wGH7S2",
        "colab_type": "code",
        "colab": {}
      },
      "source": [
        "np.savez(\"tomato_leaves150.npz\", train_numpy_dataset, train_numpy_label)"
      ],
      "execution_count": 0,
      "outputs": []
    },
    {
      "cell_type": "markdown",
      "metadata": {
        "id": "47wsaEjxKdLk",
        "colab_type": "text"
      },
      "source": [
        "# Read validate dataset to np array"
      ]
    },
    {
      "cell_type": "code",
      "metadata": {
        "id": "Hxl5GenzKe53",
        "colab_type": "code",
        "colab": {}
      },
      "source": [
        "valid_dir_name = 'plant_disease\\\\plan_disease_aug\\\\valid\\\\'\n",
        "valid_numpy, label_valid = read_image_dir_to_np_array(valid_dir_name, tomato_class_list)\n",
        "valid_numpy_label = np.array([label_dict[key] for key in label_valid])"
      ],
      "execution_count": 0,
      "outputs": []
    },
    {
      "cell_type": "code",
      "metadata": {
        "id": "FAKsn7DcKg73",
        "colab_type": "code",
        "colab": {}
      },
      "source": [
        "# Convert list of validation image matrix into np array\n",
        "valid_numpy = np.array(valid_numpy)\n",
        "valid_numpy.shape"
      ],
      "execution_count": 0,
      "outputs": []
    },
    {
      "cell_type": "code",
      "metadata": {
        "id": "g1wlgBLgKiyQ",
        "colab_type": "code",
        "colab": {}
      },
      "source": [
        "np.savez(\"tomato_leaves_test100.npz\", valid_numpy, valid_numpy_label)"
      ],
      "execution_count": 0,
      "outputs": []
    },
    {
      "cell_type": "code",
      "metadata": {
        "id": "JTKYh7W9KlyK",
        "colab_type": "code",
        "colab": {}
      },
      "source": [
        "valid_numpy_label.shape"
      ],
      "execution_count": 0,
      "outputs": []
    },
    {
      "cell_type": "markdown",
      "metadata": {
        "id": "xRJNBQMKWKy0",
        "colab_type": "text"
      },
      "source": [
        "## Read train and test dataset, then shuffle it"
      ]
    },
    {
      "cell_type": "code",
      "metadata": {
        "id": "nAepkOyGfMCP",
        "colab_type": "code",
        "colab": {}
      },
      "source": [
        "npz_train = np.load('/content/drive/My Drive/tomato/tomato_leaves100.npz')\n"
      ],
      "execution_count": 0,
      "outputs": []
    },
    {
      "cell_type": "code",
      "metadata": {
        "id": "uvWNJuQULWW_",
        "colab_type": "code",
        "colab": {}
      },
      "source": [
        "#Check whether the file can be read and have the correct dimension\n",
        "train_x = npz_train['arr_0']\n",
        "train_y = npz_train['arr_1']\n",
        "train_x.shape\n",
        "train_y.shape"
      ],
      "execution_count": 0,
      "outputs": []
    },
    {
      "cell_type": "code",
      "metadata": {
        "id": "ZUdrbdt5dfD1",
        "colab_type": "code",
        "outputId": "f6803b36-cedf-46e2-bea2-08b4b53e3f61",
        "colab": {
          "base_uri": "https://localhost:8080/",
          "height": 34
        }
      },
      "source": [
        "x_train = npz_train['arr_0']\n",
        "y_train = npz_train['arr_1']\n",
        "y_train.shape"
      ],
      "execution_count": 0,
      "outputs": [
        {
          "output_type": "execute_result",
          "data": {
            "text/plain": [
              "(18345,)"
            ]
          },
          "metadata": {
            "tags": []
          },
          "execution_count": 6
        }
      ]
    },
    {
      "cell_type": "code",
      "metadata": {
        "id": "VbChCjGhoGCw",
        "colab_type": "code",
        "colab": {}
      },
      "source": [
        "# shuffle training data\n",
        "index_shuffle = np.random.permutation(len(x_train))\n",
        "x_train = x_train[index_shuffle]\n",
        "y_train = y_train[index_shuffle]"
      ],
      "execution_count": 0,
      "outputs": []
    },
    {
      "cell_type": "code",
      "metadata": {
        "id": "wYSFdxBoVakH",
        "colab_type": "code",
        "colab": {}
      },
      "source": [
        "npz_test = np.load('/content/drive/My Drive/tomato/tomato_leaves_test100.npz')\n",
        "x_test = npz_test['arr_0']\n",
        "y_test = npz_test['arr_1']"
      ],
      "execution_count": 0,
      "outputs": []
    },
    {
      "cell_type": "code",
      "metadata": {
        "id": "72aUWaYHcVnu",
        "colab_type": "code",
        "colab": {}
      },
      "source": [
        "# shuffle test data\n",
        "index_shuffle = np.random.permutation(len(x_test))\n",
        "x_test = x_test[index_shuffle]\n",
        "y_test = y_test[index_shuffle]"
      ],
      "execution_count": 0,
      "outputs": []
    },
    {
      "cell_type": "code",
      "metadata": {
        "id": "uX1NmfPdoeW5",
        "colab_type": "code",
        "outputId": "8035985d-7adb-4c62-d976-72641a078c07",
        "colab": {
          "base_uri": "https://localhost:8080/",
          "height": 34
        }
      },
      "source": [
        "y_test"
      ],
      "execution_count": 0,
      "outputs": [
        {
          "output_type": "execute_result",
          "data": {
            "text/plain": [
              "array([4, 7, 0, ..., 4, 8, 2], dtype=int32)"
            ]
          },
          "metadata": {
            "tags": []
          },
          "execution_count": 10
        }
      ]
    },
    {
      "cell_type": "markdown",
      "metadata": {
        "id": "s85MXhuiozbB",
        "colab_type": "text"
      },
      "source": [
        "## Plot sample image"
      ]
    },
    {
      "cell_type": "code",
      "metadata": {
        "id": "yO0usEHoo3_V",
        "colab_type": "code",
        "outputId": "786e3f5d-3822-4534-cee5-1dc2848d0c1c",
        "colab": {
          "base_uri": "https://localhost:8080/",
          "height": 285
        }
      },
      "source": [
        "plt.imshow(x_train[20])"
      ],
      "execution_count": 0,
      "outputs": [
        {
          "output_type": "execute_result",
          "data": {
            "text/plain": [
              "<matplotlib.image.AxesImage at 0x7fd9c5cd4048>"
            ]
          },
          "metadata": {
            "tags": []
          },
          "execution_count": 10
        },
        {
          "output_type": "display_data",
          "data": {
            "image/png": "[encoded data removed]",
            "text/plain": [
              "<Figure size 432x288 with 1 Axes>"
            ]
          },
          "metadata": {
            "tags": []
          }
        }
      ]
    },
    {
      "cell_type": "code",
      "metadata": {
        "id": "16uTXWjXpDiH",
        "colab_type": "code",
        "outputId": "afc5806c-960e-41b3-ed2d-1b08d1591610",
        "colab": {
          "base_uri": "https://localhost:8080/",
          "height": 285
        }
      },
      "source": [
        "plt.imshow(x_test[20])"
      ],
      "execution_count": 0,
      "outputs": [
        {
          "output_type": "execute_result",
          "data": {
            "text/plain": [
              "<matplotlib.image.AxesImage at 0x7fd9c58182e8>"
            ]
          },
          "metadata": {
            "tags": []
          },
          "execution_count": 11
        },
        {
          "output_type": "display_data",
          "data": {
            "image/png": "[encoded data removed]",
            "text/plain": [
              "<Figure size 432x288 with 1 Axes>"
            ]
          },
          "metadata": {
            "tags": []
          }
        }
      ]
    },
    {
      "cell_type": "markdown",
      "metadata": {
        "id": "yZv8seZVWPCB",
        "colab_type": "text"
      },
      "source": [
        "## Normalize the train and test data"
      ]
    },
    {
      "cell_type": "code",
      "metadata": {
        "id": "f4TctWO7VhIc",
        "colab_type": "code",
        "colab": {}
      },
      "source": [
        "x_train_norm = x_train / 255.0\n",
        "x_test_norm = x_test / 255.0"
      ],
      "execution_count": 0,
      "outputs": []
    },
    {
      "cell_type": "markdown",
      "metadata": {
        "id": "Gy0k9o25clge",
        "colab_type": "text"
      },
      "source": [
        "## Build a Neural Network"
      ]
    },
    {
      "cell_type": "code",
      "metadata": {
        "id": "2ratFEvwcol8",
        "colab_type": "code",
        "colab": {}
      },
      "source": [
        "# define plotting loss function\n",
        "\n",
        "def plot_curve(epochs, hist, list_of_metrics):\n",
        "  \"\"\"Plot a curve one or more classification metrics vs. epoch.\"\"\"\n",
        "\n",
        "  plt.figure()\n",
        "  plt.xlabel(\"Epoch\")\n",
        "  plt.ylabel(\"Value\")\n",
        "\n",
        "  for m in list_of_metrics:\n",
        "    x = hist[m]\n",
        "    plt.plot(epochs[1:], x[1:], label=m)\n",
        "\n",
        "  plt.legend()\n",
        "  plt.show()"
      ],
      "execution_count": 0,
      "outputs": []
    },
    {
      "cell_type": "code",
      "metadata": {
        "id": "1exl82DSctUY",
        "colab_type": "code",
        "colab": {}
      },
      "source": [
        "# define deep neural network model\n",
        "def create_model(learning_rate):\n",
        "  \"\"\"Create and compile deep neural net model\"\"\"\n",
        "  model = tf.keras.models.Sequential()\n",
        "\n",
        "  # Add the layer containing the feature columns to the model.\n",
        "  model.add(tf.keras.layers.Flatten(input_shape=(100, 100, 3)))\n",
        "\n",
        "  # Define the first hidden layer\n",
        "  model.add(tf.keras.layers.Dense(units=270,\n",
        "                                  activation='relu',\n",
        "                                  kernel_regularizer=tf.keras.regularizers.l2(0.15),\n",
        "                                  name='Hidden1'))\n",
        "  \n",
        "  # Define a dropout regularization layer. \n",
        "  model.add(tf.keras.layers.Dropout(rate=0.4))\n",
        "\n",
        "  # Define the output layer\n",
        "  model.add(tf.keras.layers.Dense(units=10,\n",
        "                                  activation='softmax',\n",
        "                                  name='Output'))\n",
        "  \n",
        "  model.compile(optimizer=tf.keras.optimizers.Adam(lr=learning_rate),\n",
        "                loss=\"sparse_categorical_crossentropy\",\n",
        "                metrics=['accuracy'])\n",
        "  \n",
        "  return model"
      ],
      "execution_count": 0,
      "outputs": []
    },
    {
      "cell_type": "markdown",
      "metadata": {
        "id": "Baz06TnaeHMk",
        "colab_type": "text"
      },
      "source": [
        "## Define training function"
      ]
    },
    {
      "cell_type": "code",
      "metadata": {
        "id": "pS1Dys0Vdsvw",
        "colab_type": "code",
        "colab": {}
      },
      "source": [
        "def train_model(model, train_features, train_label, epochs,\n",
        "                batch_size=None, validation_split=0.05):\n",
        "  \"\"\"Train the model by feeding it data.\"\"\"\n",
        "\n",
        "  history = model.fit(x=train_features, y=train_label, batch_size=batch_size,\n",
        "                      epochs=epochs, shuffle=True,\n",
        "                      validation_split=validation_split)\n",
        "  \n",
        "  # The list of epochs of the model\n",
        "  epochs = history.epoch\n",
        "\n",
        "  # gather a snapshot of the model's mean squared error\n",
        "  # at each epoch.\n",
        "  hist = pd.DataFrame(history.history)\n",
        "\n",
        "  return epochs, hist"
      ],
      "execution_count": 0,
      "outputs": []
    },
    {
      "cell_type": "code",
      "metadata": {
        "id": "xv45uK2Zew07",
        "colab_type": "code",
        "outputId": "f2bc8430-e63c-43aa-89ca-5c355664df12",
        "colab": {
          "base_uri": "https://localhost:8080/",
          "height": 386
        }
      },
      "source": [
        "# define the hyperparameters\n",
        "learning_rate = 0.00000009\n",
        "epochs = 120\n",
        "batch_size = 150\n",
        "validation_split = 0.4\n",
        "\n",
        "\n",
        "# Established model's topography\n",
        "my_model = create_model(learning_rate)\n",
        "\n",
        "# Train the model on normalized training set\n",
        "epochs, hist = train_model(my_model, x_train_norm, y_train, epochs,\n",
        "                          batch_size, validation_split)\n",
        "\n",
        "# plot accuracy vs epochs of training\n",
        "list_of_metrics_to_plot = ['accuracy'] \n",
        "plot_curve(epochs, hist, list_of_metrics_to_plot)"
      ],
      "execution_count": 0,
      "outputs": [
        {
          "output_type": "stream",
          "text": [
            "Epoch 1/120\n",
            "74/74 [==============================] - 3s 39ms/step - loss: 82.9221 - accuracy: 0.0948 - val_loss: 82.6945 - val_accuracy: 0.0846\n",
            "Epoch 2/120\n",
            "74/74 [==============================] - 2s 22ms/step - loss: 82.7497 - accuracy: 0.0927 - val_loss: 82.5528 - val_accuracy: 0.0754\n",
            "Epoch 3/120\n",
            "74/74 [==============================] - 2s 22ms/step - loss: 82.6143 - accuracy: 0.0954 - val_loss: 82.4420 - val_accuracy: 0.0790\n",
            "Epoch 4/120\n",
            "74/74 [==============================] - 2s 22ms/step - loss: 82.5132 - accuracy: 0.0977 - val_loss: 82.3480 - val_accuracy: 0.0902\n",
            "Epoch 5/120\n",
            "74/74 [==============================] - 2s 22ms/step - loss: 82.4096 - accuracy: 0.1027 - val_loss: 82.2627 - val_accuracy: 0.1008\n",
            "Epoch 6/120\n",
            "74/74 [==============================] - 2s 22ms/step - loss: 82.3246 - accuracy: 0.1039 - val_loss: 82.1805 - val_accuracy: 0.1090\n",
            "Epoch 7/120\n",
            "74/74 [==============================] - 2s 22ms/step - loss: 82.2323 - accuracy: 0.1129 - val_loss: 82.0998 - val_accuracy: 0.1186\n",
            "Epoch 8/120\n",
            "74/74 [==============================] - 2s 22ms/step - loss: 82.1484 - accuracy: 0.1118 - val_loss: 82.0190 - val_accuracy: 0.1265\n",
            "Epoch 9/120\n",
            "74/74 [==============================] - 2s 22ms/step - loss: 82.0585 - accuracy: 0.1156 - val_loss: 81.9386 - val_accuracy: 0.1349\n",
            "Epoch 10/120\n",
            "74/74 [==============================] - 2s 22ms/step - loss: 81.9845 - accuracy: 0.1127 - val_loss: 81.8583 - val_accuracy: 0.1394\n",
            "Epoch 11/120\n",
            "69/74 [==========================>...] - ETA: 0s - loss: 81.8939 - accuracy: 0.1185"
          ],
          "name": "stdout"
        }
      ]
    },
    {
      "cell_type": "code",
      "metadata": {
        "id": "xHLF_uiBqPvq",
        "colab_type": "code",
        "colab": {}
      },
      "source": [
        "my_model.evaluate(x=x_test_norm, y=y_test, batch_size=batch_size)"
      ],
      "execution_count": 0,
      "outputs": []
    },
    {
      "cell_type": "markdown",
      "metadata": {
        "id": "UO1OzmPb_SHM",
        "colab_type": "text"
      },
      "source": [
        "# Convolutional Neural Network model"
      ]
    },
    {
      "cell_type": "code",
      "metadata": {
        "id": "LVN1ubvyrRVx",
        "colab_type": "code",
        "colab": {}
      },
      "source": [
        "# define Convolutional Neural Network model.\n",
        "# we are implementing architecture inspired by Alexnet for our CNN model\n",
        "def create_cnn_model(learning_rate):\n",
        "  \"\"\"Create and compile deep neural net model\"\"\"\n",
        "  model = tf.keras.models.Sequential()\n",
        "\n",
        "  # Add 1st Convolutional layer\n",
        "  model.add(layers.Conv2D(filters=96, kernel_size=(11, 11), strides=(4,4), \n",
        "                          activation='relu', input_shape=(100, 100, 3), padding='valid'))\n",
        "  \n",
        "  # Max Pooling\n",
        "  model.add(layers.MaxPool2D(pool_size=(3,3), strides=(2,2), padding='valid'))\n",
        "  \n",
        "  # Add 2nd Convolutional layer\n",
        "  model.add(layers.Conv2D(filters=256, kernel_size=(5, 5), strides=(1,1), \n",
        "                          activation='relu', padding='same'))\n",
        "   # Max Pooling\n",
        "  model.add(layers.MaxPool2D(pool_size=(3,3), strides=(2,2), padding='valid'))\n",
        "\n",
        "  # Add 3rd Convolutional layer\n",
        "  model.add(layers.Conv2D(filters=384, kernel_size=(3, 3), strides=(1,1), \n",
        "                          activation='relu', padding='same'))\n",
        "  \n",
        "  # Add 4th Convolutional layer\n",
        "  model.add(layers.Conv2D(filters=384, kernel_size=(3, 3), strides=(1,1), \n",
        "                          activation='relu', padding='same'))\n",
        "  \n",
        "  # Add 5th Convolutional layer\n",
        "  model.add(layers.Conv2D(filters=256, kernel_size=(3, 3), strides=(1,1), \n",
        "                          activation='relu', padding='same'))\n",
        "\n",
        "  # Max pooling\n",
        "  model.add(layers.MaxPool2D(pool_size=(3,3), strides=(2,2), padding='valid'))\n",
        "\n",
        "  # passing to fully connected layer\n",
        "  model.add(layers.Flatten())\n",
        "  # Define the first fully connected layer\n",
        "  model.add(layers.Dense(units=9216, activation='relu', name='fully1'))\n",
        "\n",
        "  # Define a dropout regularization layer for first fully connected layer. \n",
        "  model.add(layers.Dropout(rate=0.5))\n",
        "\n",
        "  # Define the second fully connected layer\n",
        "  model.add(layers.Dense(units=4096, activation='relu', name='fully2'))\n",
        "\n",
        "  # Define a dropout regularization layer for second fully connected layer. \n",
        "  model.add(layers.Dropout(rate=0.5))\n",
        "\n",
        "  # Define third fully connected layer\n",
        "  model.add(layers.Dense(units=1000, activation='relu', name='fully3'))\n",
        "\n",
        "  # Define a dropout regularization layer for third fully connected layer. \n",
        "  model.add(layers.Dropout(rate=0.5))\n",
        "\n",
        "  # Define the output layer\n",
        "  model.add(layers.Dense(units=10,\n",
        "                                  activation='softmax',\n",
        "                                  name='Output'))\n",
        "  \n",
        "  model.compile(optimizer=tf.keras.optimizers.Adam(lr=learning_rate),\n",
        "                loss=\"sparse_categorical_crossentropy\",\n",
        "                metrics=['accuracy'])\n",
        "  \n",
        "  return model"
      ],
      "execution_count": 0,
      "outputs": []
    },
    {
      "cell_type": "code",
      "metadata": {
        "id": "xvHrXeCVlKAC",
        "colab_type": "code",
        "colab": {}
      },
      "source": [
        "# Established model's topography\n",
        "learning_rate = 0.0003\n",
        "my_cnn_model = create_cnn_model(learning_rate)"
      ],
      "execution_count": 0,
      "outputs": []
    },
    {
      "cell_type": "markdown",
      "metadata": {
        "id": "U2q_E6fzmCX0",
        "colab_type": "text"
      },
      "source": [
        "## Define train function for cnn model"
      ]
    },
    {
      "cell_type": "code",
      "metadata": {
        "id": "UI-DPZMXmDhn",
        "colab_type": "code",
        "colab": {}
      },
      "source": [
        "def train_cnn_model(model, train_features, train_label, epochs,\n",
        "                batch_size, validation_split=0.05):\n",
        "  \"\"\"Train the model by feeding it data.\"\"\"\n",
        "\n",
        "  history = model.fit(x=train_features, y=train_label, batch_size=batch_size,\n",
        "                      epochs=epochs, shuffle=True,\n",
        "                      validation_split=validation_split)\n",
        "  \n",
        "  # The list of epochs of the model\n",
        "  epochs = history.epoch\n",
        "\n",
        "  # gather a snapshot of the model's mean squared error\n",
        "  # at each epoch.\n",
        "  hist = pd.DataFrame(history.history)\n"
      ],
      "execution_count": 0,
      "outputs": []
    },
    {
      "cell_type": "code",
      "metadata": {
        "id": "2JroGjC0l9me",
        "colab_type": "code",
        "colab": {}
      },
      "source": [
        ""
      ],
      "execution_count": 0,
      "outputs": []
    },
    {
      "cell_type": "markdown",
      "metadata": {
        "id": "_VjLyb4yZNlh",
        "colab_type": "text"
      },
      "source": [
        "## Train CNN model"
      ]
    },
    {
      "cell_type": "code",
      "metadata": {
        "id": "wHPaVveg_RGM",
        "colab_type": "code",
        "outputId": "ea1f890f-32b7-4137-cc65-1bf3d116162d",
        "colab": {
          "base_uri": "https://localhost:8080/",
          "height": 1000
        }
      },
      "source": [
        "# define the hyperparameters\n",
        "epochs = 80\n",
        "batch_size = 1000\n",
        "validation_split = 0.4\n",
        "\n",
        "# Train the model on normalized training set\n",
        "epochs, hist = train_cnn_model(my_cnn_model, x_train_norm, y_train, epochs,\n",
        "                          batch_size, validation_split)\n",
        "\n",
        "# plot accuracy vs epochs of training\n",
        "list_of_metrics_to_plot = ['accuracy'] \n",
        "plot_curve(epochs, hist, list_of_metrics_to_plot)"
      ],
      "execution_count": 0,
      "outputs": [
        {
          "output_type": "stream",
          "text": [
            "Epoch 1/80\n",
            "12/12 [==============================] - 5s 389ms/step - loss: 2.2930 - accuracy: 0.1042 - val_loss: 2.2402 - val_accuracy: 0.1233\n",
            "Epoch 2/80\n",
            "12/12 [==============================] - 3s 244ms/step - loss: 2.2298 - accuracy: 0.1706 - val_loss: 2.0712 - val_accuracy: 0.1976\n",
            "Epoch 3/80\n",
            "12/12 [==============================] - 3s 244ms/step - loss: 2.2274 - accuracy: 0.1703 - val_loss: 2.2464 - val_accuracy: 0.1398\n",
            "Epoch 4/80\n",
            "12/12 [==============================] - 3s 244ms/step - loss: 2.1930 - accuracy: 0.1692 - val_loss: 2.1845 - val_accuracy: 0.1629\n",
            "Epoch 5/80\n",
            "12/12 [==============================] - 3s 244ms/step - loss: 2.0330 - accuracy: 0.1987 - val_loss: 1.9750 - val_accuracy: 0.2195\n",
            "Epoch 6/80\n",
            "12/12 [==============================] - 3s 242ms/step - loss: 1.9269 - accuracy: 0.2378 - val_loss: 2.4286 - val_accuracy: 0.1697\n",
            "Epoch 7/80\n",
            "12/12 [==============================] - 3s 244ms/step - loss: 2.0718 - accuracy: 0.2229 - val_loss: 1.9591 - val_accuracy: 0.2661\n",
            "Epoch 8/80\n",
            "12/12 [==============================] - 3s 242ms/step - loss: 1.9677 - accuracy: 0.2715 - val_loss: 2.0104 - val_accuracy: 0.2439\n",
            "Epoch 9/80\n",
            "12/12 [==============================] - 3s 243ms/step - loss: 2.0109 - accuracy: 0.2465 - val_loss: 1.9522 - val_accuracy: 0.2333\n",
            "Epoch 10/80\n",
            "12/12 [==============================] - 3s 245ms/step - loss: 1.9523 - accuracy: 0.2546 - val_loss: 1.9152 - val_accuracy: 0.2655\n",
            "Epoch 11/80\n",
            "12/12 [==============================] - 3s 241ms/step - loss: 1.8837 - accuracy: 0.2737 - val_loss: 1.7852 - val_accuracy: 0.3134\n",
            "Epoch 12/80\n",
            "12/12 [==============================] - 3s 243ms/step - loss: 1.7870 - accuracy: 0.3024 - val_loss: 1.7065 - val_accuracy: 0.3337\n",
            "Epoch 13/80\n",
            "12/12 [==============================] - 3s 243ms/step - loss: 1.6483 - accuracy: 0.3560 - val_loss: 1.9621 - val_accuracy: 0.3024\n",
            "Epoch 14/80\n",
            "12/12 [==============================] - 3s 244ms/step - loss: 1.8233 - accuracy: 0.3121 - val_loss: 1.7550 - val_accuracy: 0.3426\n",
            "Epoch 15/80\n",
            "12/12 [==============================] - 3s 243ms/step - loss: 1.5482 - accuracy: 0.3716 - val_loss: 1.5284 - val_accuracy: 0.4034\n",
            "Epoch 16/80\n",
            "12/12 [==============================] - 3s 245ms/step - loss: 1.4515 - accuracy: 0.4168 - val_loss: 1.5560 - val_accuracy: 0.4443\n",
            "Epoch 17/80\n",
            "12/12 [==============================] - 3s 244ms/step - loss: 1.4148 - accuracy: 0.4382 - val_loss: 1.4205 - val_accuracy: 0.4285\n",
            "Epoch 18/80\n",
            "12/12 [==============================] - 3s 245ms/step - loss: 1.4113 - accuracy: 0.4699 - val_loss: 1.5909 - val_accuracy: 0.3953\n",
            "Epoch 19/80\n",
            "12/12 [==============================] - 3s 243ms/step - loss: 1.5157 - accuracy: 0.4056 - val_loss: 1.4762 - val_accuracy: 0.4365\n",
            "Epoch 20/80\n",
            "12/12 [==============================] - 3s 241ms/step - loss: 1.3311 - accuracy: 0.4734 - val_loss: 1.4192 - val_accuracy: 0.4560\n",
            "Epoch 21/80\n",
            "12/12 [==============================] - 3s 244ms/step - loss: 1.2975 - accuracy: 0.4934 - val_loss: 2.3241 - val_accuracy: 0.2705\n",
            "Epoch 22/80\n",
            "12/12 [==============================] - 3s 244ms/step - loss: 1.4815 - accuracy: 0.4267 - val_loss: 1.7639 - val_accuracy: 0.3726\n",
            "Epoch 23/80\n",
            "12/12 [==============================] - 3s 245ms/step - loss: 1.3879 - accuracy: 0.4688 - val_loss: 1.2885 - val_accuracy: 0.5251\n",
            "Epoch 24/80\n",
            "12/12 [==============================] - 3s 243ms/step - loss: 1.2063 - accuracy: 0.5436 - val_loss: 1.4846 - val_accuracy: 0.4503\n",
            "Epoch 25/80\n",
            "12/12 [==============================] - 3s 242ms/step - loss: 1.1712 - accuracy: 0.5638 - val_loss: 1.7176 - val_accuracy: 0.4199\n",
            "Epoch 26/80\n",
            "12/12 [==============================] - 3s 245ms/step - loss: 1.2377 - accuracy: 0.5237 - val_loss: 1.1744 - val_accuracy: 0.5534\n",
            "Epoch 27/80\n",
            "12/12 [==============================] - 3s 242ms/step - loss: 1.0024 - accuracy: 0.6050 - val_loss: 1.0391 - val_accuracy: 0.6081\n",
            "Epoch 28/80\n",
            "12/12 [==============================] - 3s 243ms/step - loss: 0.8884 - accuracy: 0.6470 - val_loss: 0.9160 - val_accuracy: 0.6578\n",
            "Epoch 29/80\n",
            "12/12 [==============================] - 3s 243ms/step - loss: 0.8161 - accuracy: 0.6844 - val_loss: 1.0079 - val_accuracy: 0.6187\n",
            "Epoch 30/80\n",
            "12/12 [==============================] - 3s 241ms/step - loss: 0.8730 - accuracy: 0.6817 - val_loss: 1.5931 - val_accuracy: 0.5012\n",
            "Epoch 31/80\n",
            "12/12 [==============================] - 3s 243ms/step - loss: 1.1034 - accuracy: 0.6091 - val_loss: 1.0881 - val_accuracy: 0.6032\n",
            "Epoch 32/80\n",
            "12/12 [==============================] - 3s 242ms/step - loss: 0.9659 - accuracy: 0.6387 - val_loss: 1.2047 - val_accuracy: 0.5579\n",
            "Epoch 33/80\n",
            "12/12 [==============================] - 3s 244ms/step - loss: 0.8943 - accuracy: 0.6589 - val_loss: 0.8994 - val_accuracy: 0.6777\n",
            "Epoch 34/80\n",
            "12/12 [==============================] - 3s 241ms/step - loss: 0.7468 - accuracy: 0.7346 - val_loss: 1.7205 - val_accuracy: 0.5356\n",
            "Epoch 35/80\n",
            "12/12 [==============================] - 3s 243ms/step - loss: 0.9379 - accuracy: 0.6594 - val_loss: 1.0037 - val_accuracy: 0.6555\n",
            "Epoch 36/80\n",
            "12/12 [==============================] - 3s 244ms/step - loss: 0.7155 - accuracy: 0.7325 - val_loss: 0.8613 - val_accuracy: 0.6931\n",
            "Epoch 37/80\n",
            "12/12 [==============================] - 3s 244ms/step - loss: 0.6383 - accuracy: 0.7543 - val_loss: 0.6948 - val_accuracy: 0.7478\n",
            "Epoch 38/80\n",
            "12/12 [==============================] - 3s 242ms/step - loss: 0.5786 - accuracy: 0.7918 - val_loss: 1.2948 - val_accuracy: 0.5987\n",
            "Epoch 39/80\n",
            "12/12 [==============================] - 3s 242ms/step - loss: 0.7480 - accuracy: 0.7321 - val_loss: 0.7706 - val_accuracy: 0.7273\n",
            "Epoch 40/80\n",
            "12/12 [==============================] - 3s 241ms/step - loss: 0.5813 - accuracy: 0.7780 - val_loss: 0.9133 - val_accuracy: 0.6964\n",
            "Epoch 41/80\n",
            "12/12 [==============================] - 3s 242ms/step - loss: 0.5640 - accuracy: 0.7949 - val_loss: 0.6803 - val_accuracy: 0.7646\n",
            "Epoch 42/80\n",
            "12/12 [==============================] - 3s 243ms/step - loss: 0.5267 - accuracy: 0.8345 - val_loss: 2.6931 - val_accuracy: 0.3968\n",
            "Epoch 43/80\n",
            "12/12 [==============================] - 3s 244ms/step - loss: 1.4330 - accuracy: 0.5388 - val_loss: 1.1704 - val_accuracy: 0.5807\n",
            "Epoch 44/80\n",
            "12/12 [==============================] - 3s 244ms/step - loss: 0.9319 - accuracy: 0.6548 - val_loss: 1.1257 - val_accuracy: 0.6096\n",
            "Epoch 45/80\n",
            "12/12 [==============================] - 3s 244ms/step - loss: 0.7710 - accuracy: 0.7242 - val_loss: 0.7487 - val_accuracy: 0.7326\n",
            "Epoch 46/80\n",
            "12/12 [==============================] - 3s 242ms/step - loss: 0.6788 - accuracy: 0.7792 - val_loss: 1.0180 - val_accuracy: 0.6477\n",
            "Epoch 47/80\n",
            "12/12 [==============================] - 3s 245ms/step - loss: 1.1277 - accuracy: 0.6222 - val_loss: 1.0565 - val_accuracy: 0.6225\n",
            "Epoch 48/80\n",
            "12/12 [==============================] - 3s 242ms/step - loss: 0.7986 - accuracy: 0.7074 - val_loss: 1.0445 - val_accuracy: 0.6446\n",
            "Epoch 49/80\n",
            "12/12 [==============================] - 3s 241ms/step - loss: 0.7214 - accuracy: 0.7427 - val_loss: 1.1620 - val_accuracy: 0.6232\n",
            "Epoch 50/80\n",
            "12/12 [==============================] - 3s 243ms/step - loss: 0.7103 - accuracy: 0.7536 - val_loss: 0.8028 - val_accuracy: 0.7231\n",
            "Epoch 51/80\n",
            "12/12 [==============================] - 3s 246ms/step - loss: 0.5430 - accuracy: 0.8025 - val_loss: 0.6775 - val_accuracy: 0.7649\n",
            "Epoch 52/80\n",
            "12/12 [==============================] - 3s 243ms/step - loss: 0.4575 - accuracy: 0.8243 - val_loss: 0.6352 - val_accuracy: 0.7780\n",
            "Epoch 53/80\n",
            "12/12 [==============================] - 3s 243ms/step - loss: 0.3925 - accuracy: 0.8576 - val_loss: 0.6450 - val_accuracy: 0.7851\n",
            "Epoch 54/80\n",
            "12/12 [==============================] - 3s 242ms/step - loss: 0.4255 - accuracy: 0.8584 - val_loss: 0.8902 - val_accuracy: 0.7279\n",
            "Epoch 55/80\n",
            "12/12 [==============================] - 3s 242ms/step - loss: 0.5770 - accuracy: 0.7989 - val_loss: 1.0181 - val_accuracy: 0.6885\n",
            "Epoch 56/80\n",
            "12/12 [==============================] - 3s 244ms/step - loss: 0.5164 - accuracy: 0.8130 - val_loss: 0.6483 - val_accuracy: 0.7786\n",
            "Epoch 57/80\n",
            "12/12 [==============================] - 3s 244ms/step - loss: 0.4161 - accuracy: 0.8575 - val_loss: 0.9281 - val_accuracy: 0.7103\n",
            "Epoch 58/80\n",
            "12/12 [==============================] - 3s 244ms/step - loss: 0.5451 - accuracy: 0.8137 - val_loss: 0.7068 - val_accuracy: 0.7607\n",
            "Epoch 59/80\n",
            "12/12 [==============================] - 3s 244ms/step - loss: 0.4564 - accuracy: 0.8460 - val_loss: 1.4206 - val_accuracy: 0.6097\n",
            "Epoch 60/80\n",
            "12/12 [==============================] - 3s 241ms/step - loss: 0.6551 - accuracy: 0.7688 - val_loss: 0.6710 - val_accuracy: 0.7715\n",
            "Epoch 61/80\n",
            "12/12 [==============================] - 3s 243ms/step - loss: 0.4247 - accuracy: 0.8623 - val_loss: 0.6645 - val_accuracy: 0.7841\n",
            "Epoch 62/80\n",
            "12/12 [==============================] - 3s 242ms/step - loss: 0.4519 - accuracy: 0.8421 - val_loss: 1.0244 - val_accuracy: 0.6931\n",
            "Epoch 63/80\n",
            "12/12 [==============================] - 3s 243ms/step - loss: 0.4793 - accuracy: 0.8455 - val_loss: 1.1877 - val_accuracy: 0.6810\n",
            "Epoch 64/80\n",
            "12/12 [==============================] - 3s 243ms/step - loss: 0.7399 - accuracy: 0.7461 - val_loss: 1.0533 - val_accuracy: 0.6698\n",
            "Epoch 65/80\n",
            "12/12 [==============================] - 3s 242ms/step - loss: 0.5453 - accuracy: 0.8029 - val_loss: 0.6299 - val_accuracy: 0.7941\n",
            "Epoch 66/80\n",
            "12/12 [==============================] - 3s 244ms/step - loss: 0.3477 - accuracy: 0.8781 - val_loss: 0.5734 - val_accuracy: 0.8245\n",
            "Epoch 67/80\n",
            "12/12 [==============================] - 3s 243ms/step - loss: 0.3462 - accuracy: 0.8912 - val_loss: 0.8428 - val_accuracy: 0.7693\n",
            "Epoch 68/80\n",
            "12/12 [==============================] - 3s 243ms/step - loss: 0.4328 - accuracy: 0.8594 - val_loss: 1.1313 - val_accuracy: 0.6729\n",
            "Epoch 69/80\n",
            "12/12 [==============================] - 3s 243ms/step - loss: 0.4939 - accuracy: 0.8215 - val_loss: 0.6730 - val_accuracy: 0.7741\n",
            "Epoch 70/80\n",
            "12/12 [==============================] - 3s 241ms/step - loss: 0.3579 - accuracy: 0.8900 - val_loss: 0.5588 - val_accuracy: 0.8271\n",
            "Epoch 71/80\n",
            "12/12 [==============================] - 3s 244ms/step - loss: 0.2879 - accuracy: 0.8993 - val_loss: 0.5033 - val_accuracy: 0.8412\n",
            "Epoch 72/80\n",
            "12/12 [==============================] - 3s 244ms/step - loss: 0.2369 - accuracy: 0.9248 - val_loss: 0.6462 - val_accuracy: 0.8132\n",
            "Epoch 73/80\n",
            "12/12 [==============================] - 3s 242ms/step - loss: 0.2696 - accuracy: 0.9049 - val_loss: 0.5979 - val_accuracy: 0.8227\n",
            "Epoch 74/80\n",
            "12/12 [==============================] - 3s 242ms/step - loss: 0.2103 - accuracy: 0.9289 - val_loss: 1.0508 - val_accuracy: 0.7265\n",
            "Epoch 75/80\n",
            "12/12 [==============================] - 3s 241ms/step - loss: 0.4385 - accuracy: 0.8641 - val_loss: 0.5872 - val_accuracy: 0.8129\n",
            "Epoch 76/80\n",
            "12/12 [==============================] - 3s 242ms/step - loss: 0.2945 - accuracy: 0.8941 - val_loss: 0.5285 - val_accuracy: 0.8354\n",
            "Epoch 77/80\n",
            "12/12 [==============================] - 3s 243ms/step - loss: 0.2273 - accuracy: 0.9288 - val_loss: 0.6093 - val_accuracy: 0.8253\n",
            "Epoch 78/80\n",
            "12/12 [==============================] - 3s 245ms/step - loss: 0.2093 - accuracy: 0.9268 - val_loss: 0.7313 - val_accuracy: 0.8020\n",
            "Epoch 79/80\n",
            "12/12 [==============================] - 3s 242ms/step - loss: 0.2407 - accuracy: 0.9160 - val_loss: 0.4852 - val_accuracy: 0.8501\n",
            "Epoch 80/80\n",
            "12/12 [==============================] - 3s 237ms/step - loss: 0.1371 - accuracy: 0.9557 - val_loss: 0.4886 - val_accuracy: 0.8647\n"
          ],
          "name": "stdout"
        },
        {
          "output_type": "error",
          "ename": "TypeError",
          "evalue": "ignored",
          "traceback": [
            "\u001b[0;31m---------------------------------------------------------------------------\u001b[0m",
            "\u001b[0;31mTypeError\u001b[0m                                 Traceback (most recent call last)",
            "\u001b[0;32m<ipython-input-19-23804716965e>\u001b[0m in \u001b[0;36m<module>\u001b[0;34m()\u001b[0m\n\u001b[1;32m      5\u001b[0m \u001b[0;31m# Train the model on normalized training set\u001b[0m\u001b[0;34m\u001b[0m\u001b[0;34m\u001b[0m\u001b[0;34m\u001b[0m\u001b[0m\n\u001b[1;32m      6\u001b[0m epochs, hist = train_cnn_model(my_cnn_model, x_train_norm, y_train, epochs,\n\u001b[0;32m----> 7\u001b[0;31m                           batch_size, validation_split)\n\u001b[0m\u001b[1;32m      8\u001b[0m \u001b[0;34m\u001b[0m\u001b[0m\n\u001b[1;32m      9\u001b[0m \u001b[0;31m# plot accuracy vs epochs of training\u001b[0m\u001b[0;34m\u001b[0m\u001b[0;34m\u001b[0m\u001b[0;34m\u001b[0m\u001b[0m\n",
            "\u001b[0;31mTypeError\u001b[0m: 'NoneType' object is not iterable",
            "",
            "\u001b[0;31m---------------------------------------------------------------------------\u001b[0;32m\nNOTE: Current TensorFlow version is 2.2.0-rc2. To use TF 1.x instead,\nrestart your runtime (Ctrl+M .) and run \"%tensorflow_version 1.x\" before\nyou run \"import tensorflow\".\n\u001b[0;31m---------------------------------------------------------------------------\u001b[0m\n"
          ]
        }
      ]
    },
    {
      "cell_type": "code",
      "metadata": {
        "id": "_hjXKYzj_Ojo",
        "colab_type": "code",
        "colab": {}
      },
      "source": [
        "my_cnn_model.evaluate(x=x_test_norm, y=y_test, batch_size=batch_size)"
      ],
      "execution_count": 0,
      "outputs": []
    },
    {
      "cell_type": "code",
      "metadata": {
        "id": "IVtCoruX814L",
        "colab_type": "code",
        "colab": {}
      },
      "source": [
        ""
      ],
      "execution_count": 0,
      "outputs": []
    }
  ]
}