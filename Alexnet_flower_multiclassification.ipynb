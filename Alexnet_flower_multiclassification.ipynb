{
  "nbformat": 4,
  "nbformat_minor": 0,
  "metadata": {
    "colab": {
      "name": "Alexnet_flower_multiclassification.ipynb",
      "provenance": [],
      "collapsed_sections": [
        "Xxl3K7LFJ8Vh",
        "svP-Wd8XKBT5"
      ],
      "machine_shape": "hm",
      "include_colab_link": true
    },
    "kernelspec": {
      "name": "python3",
      "display_name": "Python 3"
    },
    "accelerator": "GPU"
  },
  "cells": [
    {
      "cell_type": "markdown",
      "metadata": {
        "id": "view-in-github",
        "colab_type": "text"
      },
      "source": [
        "<a href=\"https://colab.research.google.com/github/wiiloebis/bangkit_machine_learning_assigment/blob/master/Alexnet_flower_multiclassification.ipynb\" target=\"_parent\"><img src=\"https://colab.research.google.com/assets/colab-badge.svg\" alt=\"Open In Colab\"/></a>"
      ]
    },
    {
      "cell_type": "markdown",
      "metadata": {
        "colab_type": "text",
        "id": "eA13_adoVlwu"
      },
      "source": [
        "# Import the libs needed"
      ]
    },
    {
      "cell_type": "code",
      "metadata": {
        "id": "Zt5PjEFuIwsM",
        "colab_type": "code",
        "colab": {}
      },
      "source": [
        "%tensorflow_version 2.x"
      ],
      "execution_count": 1,
      "outputs": []
    },
    {
      "cell_type": "code",
      "metadata": {
        "colab_type": "code",
        "id": "uJa_TsdwUm5j",
        "colab": {
          "base_uri": "https://localhost:8080/",
          "height": 105
        },
        "outputId": "cf792e21-c30f-44d8-e898-22cca9b0dd0c"
      },
      "source": [
        "import numpy as np\n",
        "import pandas as pd\n",
        "import matplotlib.pyplot as plt\n",
        "import os, sys\n",
        "import tensorflow as tf\n",
        "from tensorflow.keras import layers\n",
        "os.listdir(path='.')\n",
        "try:\n",
        "    import split_folders\n",
        "except ModuleNotFoundError:\n",
        "    ! pip install split-folders"
      ],
      "execution_count": 2,
      "outputs": [
        {
          "output_type": "stream",
          "text": [
            "Collecting split-folders\n",
            "  Downloading https://files.pythonhosted.org/packages/20/67/29dda743e6d23ac1ea3d16704d8bbb48d65faf3f1b1eaf53153b3da56c56/split_folders-0.3.1-py3-none-any.whl\n",
            "Installing collected packages: split-folders\n",
            "Successfully installed split-folders-0.3.1\n"
          ],
          "name": "stdout"
        }
      ]
    },
    {
      "cell_type": "markdown",
      "metadata": {
        "colab_type": "text",
        "id": "9RYX9d4-U7H6"
      },
      "source": [
        "# Check Tensorflow Version"
      ]
    },
    {
      "cell_type": "code",
      "metadata": {
        "colab_type": "code",
        "id": "vbwOtRE9U11h",
        "colab": {
          "base_uri": "https://localhost:8080/",
          "height": 35
        },
        "outputId": "d29e92e2-6932-438e-9528-37ec0f1f94cb"
      },
      "source": [
        "tf.__version__"
      ],
      "execution_count": 3,
      "outputs": [
        {
          "output_type": "execute_result",
          "data": {
            "application/vnd.google.colaboratory.intrinsic": {
              "type": "string"
            },
            "text/plain": [
              "'2.2.0'"
            ]
          },
          "metadata": {
            "tags": []
          },
          "execution_count": 3
        }
      ]
    },
    {
      "cell_type": "code",
      "metadata": {
        "colab_type": "code",
        "id": "WtheiXKPXXK7",
        "colab": {
          "resources": {
            "http://localhost:8080/nbextensions/google.colab/files.js": {
              "data": "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",
              "ok": true,
              "headers": [
                [
                  "content-type",
                  "application/javascript"
                ]
              ],
              "status": 200,
              "status_text": ""
            }
          },
          "base_uri": "https://localhost:8080/",
          "height": 86
        },
        "outputId": "553f1516-1ada-4ff7-d6af-8596697b924d"
      },
      "source": [
        "# Preparing kaggle environment to download the dataset. For a reference of how to get kaggle.json, please see https://www.kaggle.com/general/74235\n",
        "! pip install -q kaggle\n",
        "from google.colab import files\n",
        "files.upload() # upload kaggle.jsontomato_class_list = get_sub_dir_names(train_dir_name)"
      ],
      "execution_count": 4,
      "outputs": [
        {
          "output_type": "display_data",
          "data": {
            "text/html": [
              "\n",
              "     <input type=\"file\" id=\"files-867d0e07-0228-4743-9d66-826c39fa3092\" name=\"files[]\" multiple disabled\n",
              "        style=\"border:none\" />\n",
              "     <output id=\"result-867d0e07-0228-4743-9d66-826c39fa3092\">\n",
              "      Upload widget is only available when the cell has been executed in the\n",
              "      current browser session. Please rerun this cell to enable.\n",
              "      </output>\n",
              "      <script src=\"/nbextensions/google.colab/files.js\"></script> "
            ],
            "text/plain": [
              "<IPython.core.display.HTML object>"
            ]
          },
          "metadata": {
            "tags": []
          }
        },
        {
          "output_type": "stream",
          "text": [
            "Saving kaggle.json to kaggle.json\n"
          ],
          "name": "stdout"
        },
        {
          "output_type": "execute_result",
          "data": {
            "text/plain": [
              "{'kaggle.json': b'{\"username\":\"winniseptiani\",\"key\":\"805a0b70529185cca7c56d880e4bd576\"}'}"
            ]
          },
          "metadata": {
            "tags": []
          },
          "execution_count": 4
        }
      ]
    },
    {
      "cell_type": "code",
      "metadata": {
        "id": "gZmRJDLqIUq6",
        "colab_type": "code",
        "colab": {
          "base_uri": "https://localhost:8080/",
          "height": 85
        },
        "outputId": "2f5ddfa0-e8f1-4d84-94d2-94cf1f03f16f"
      },
      "source": [
        "# Download and split the dataset into train/val dataset\n",
        "# The data set source https://www.kaggle.com/alxmamaev/flowers-recognition\n",
        "\n",
        "! mkdir ~/.kaggle\n",
        "! cp kaggle.json ~/.kaggle/\n",
        "! chmod 600 ~/.kaggle/kaggle.json\n",
        "! kaggle datasets download -d alxmamaev/flowers-recognition\n",
        "! unzip -q flowers-recognition.zip\n",
        "\n",
        "import split_folders\n",
        "collection_dir = 'flower_dataset'\n",
        "\n",
        "split_folders.ratio(input='flowers', output=collection_dir, ratio=(.7, .3))"
      ],
      "execution_count": 5,
      "outputs": [
        {
          "output_type": "stream",
          "text": [
            "Downloading flowers-recognition.zip to /content\n",
            " 98% 440M/450M [00:04<00:00, 115MB/s]\n",
            "100% 450M/450M [00:04<00:00, 109MB/s]\n"
          ],
          "name": "stdout"
        },
        {
          "output_type": "stream",
          "text": [
            "Copying files: 4326 files [00:01, 4179.98 files/s]\n"
          ],
          "name": "stderr"
        }
      ]
    },
    {
      "cell_type": "markdown",
      "metadata": {
        "colab_type": "text",
        "id": "ookKQj3QVx0G"
      },
      "source": [
        "# Define a function to get directories name/path"
      ]
    },
    {
      "cell_type": "code",
      "metadata": {
        "colab_type": "code",
        "id": "9MPQ4SaxV0lW",
        "colab": {}
      },
      "source": [
        "def get_file_path_in_dir(dir_name):\n",
        "    ''' Get the full path name of files/folders in\n",
        "    directory specified by path to directory in\n",
        "    argument \"dir_name\" and return it as a list\n",
        "\n",
        "    dir_name is a Path from the directory of your current working script to the folder that you want to\n",
        "    check all of the subfolder/file\n",
        "    example:\n",
        "    pwd\n",
        "    /usr/Documents\n",
        "    ls .\n",
        "    Music\n",
        "    document.txt\n",
        "\n",
        "    get_file_path_in_dir('usr/Documents')\n",
        "    returns\n",
        "    [/usr/Documents/Music,\n",
        "    /usr/Documents/document.txt]\n",
        "    '''\n",
        "    target_dir = os.listdir(dir_name)\n",
        "    dir_list = []\n",
        "    for entry in target_dir:\n",
        "        full_path = os.path.join(dir_name, entry)\n",
        "        dir_list.append(full_path)\n",
        "    \n",
        "    return dir_list"
      ],
      "execution_count": 6,
      "outputs": []
    },
    {
      "cell_type": "markdown",
      "metadata": {
        "colab_type": "text",
        "id": "irbunTDaXBYh"
      },
      "source": [
        "# Define a function to get folder/file in a directory"
      ]
    },
    {
      "cell_type": "code",
      "metadata": {
        "colab_type": "code",
        "id": "jNgdxM0gXCIU",
        "colab": {}
      },
      "source": [
        "def get_sub_dir_names(path_to_dir):\n",
        "    '''Get the name of all file/folder in a directory specified\n",
        "    by the path \"path_to_dir\" and return it as list\n",
        "    example:\n",
        "    pwd\n",
        "    /usr/Documents\n",
        "    ls .\n",
        "    Music\n",
        "    documents.txt\n",
        "\n",
        "    get_sub_dir_names('usr/Documents')\n",
        "    returns\n",
        "    ['Music',\n",
        "    'documents.txt']\n",
        "\n",
        "    '''\n",
        "    subdir_path_list = get_file_path_in_dir(path_to_dir)\n",
        "    subdir_name_list = []\n",
        "    for subdir in subdir_path_list:\n",
        "        subdir_name_list.append(subdir.split(\"\\\\\")[-1])\n",
        "    return subdir_name_list"
      ],
      "execution_count": 7,
      "outputs": []
    },
    {
      "cell_type": "markdown",
      "metadata": {
        "colab_type": "text",
        "id": "KjQVpEy2WK8b"
      },
      "source": [
        "# Get the full path of each subdirectory in a directory specify by the variable train_dir_name\n",
        "train_dir_name contain path from current working directory(relative path) to the directory containing"
      ]
    },
    {
      "cell_type": "code",
      "metadata": {
        "colab_type": "code",
        "id": "rQWn5C6FWPiO",
        "colab": {}
      },
      "source": [
        "# get every path to subfolder/file in train_dir_name folder\n",
        "train_dir_name = os.path.join(collection_dir, 'train')\n",
        "# train_dir_name = 'flower_dataset\\\\train\\\\'\n",
        "train_data_dir = get_file_path_in_dir(train_dir_name)"
      ],
      "execution_count": 13,
      "outputs": []
    },
    {
      "cell_type": "code",
      "metadata": {
        "id": "7GEPBuyyUVYk",
        "colab_type": "code",
        "colab": {}
      },
      "source": [
        "flower_class_list = get_sub_dir_names(train_dir_name)\n",
        "flower_class_list"
      ],
      "execution_count": null,
      "outputs": []
    },
    {
      "cell_type": "code",
      "metadata": {
        "colab_type": "code",
        "id": "dj28VeZjXcPz",
        "colab": {}
      },
      "source": [
        "import PIL\n",
        "from PIL import Image, ImageOps"
      ],
      "execution_count": 14,
      "outputs": []
    },
    {
      "cell_type": "code",
      "metadata": {
        "colab_type": "code",
        "id": "6NFf27xIXh3Q",
        "colab": {}
      },
      "source": [
        "def image_to_ndarray(path_to_image):\n",
        "    \"\"\"read image from the file path name and\n",
        "    convert the image to np array with dimension of 200x200x3 pixel\n",
        "    example:\n",
        "    image_to_ndarray(\"usr/Documents/fish.jpg\")\n",
        "    returns\n",
        "    np.array\n",
        "    where np.array.shape is (100,100,3)\n",
        "    \"\"\"\n",
        "    image = Image.open(path_to_image)\n",
        "    # Resize image to 100x100 pixel\n",
        "    image_resize = ImageOps.fit(image, (100, 100), Image.ANTIALIAS)\n",
        "    data = np.asarray(image_resize)\n",
        "    return data"
      ],
      "execution_count": 15,
      "outputs": []
    },
    {
      "cell_type": "markdown",
      "metadata": {
        "colab_type": "text",
        "id": "QbDQYwZxXmhi"
      },
      "source": [
        "# Read Train image dataset to np array\n",
        "we will also map each label of the image"
      ]
    },
    {
      "cell_type": "code",
      "metadata": {
        "colab_type": "code",
        "id": "YQWCAlfkXprf",
        "colab": {}
      },
      "source": [
        "def read_image_dir_to_np_array(dir_name, class_list):\n",
        "    \"\"\"take path to directory name which contains images file,\n",
        "       read the image into np array, and return list of image and its corresponding label\"\"\"\n",
        "    image_dataset = []\n",
        "    label = []\n",
        "    for cla in class_list:\n",
        "        class_items = get_file_path_in_dir(dir_name+\"\\\\\"+cla)\n",
        "        for item in class_items:\n",
        "            data = image_to_ndarray(item)\n",
        "            image_dataset.append(data)\n",
        "            label.append(cla)\n",
        "\n",
        "    return image_dataset, label"
      ],
      "execution_count": 16,
      "outputs": []
    },
    {
      "cell_type": "code",
      "metadata": {
        "colab_type": "code",
        "id": "0t9_AW88XsRH",
        "colab": {
          "base_uri": "https://localhost:8080/",
          "height": 164
        },
        "outputId": "e1efc3f3-d6b7-43b7-ab0e-5251c2daf16f"
      },
      "source": [
        "train_numpy_dataset, label_train = read_image_dir_to_np_array(train_dir_name, tomato_class_list)"
      ],
      "execution_count": 17,
      "outputs": [
        {
          "output_type": "error",
          "ename": "NameError",
          "evalue": "ignored",
          "traceback": [
            "\u001b[0;31m---------------------------------------------------------------------------\u001b[0m",
            "\u001b[0;31mNameError\u001b[0m                                 Traceback (most recent call last)",
            "\u001b[0;32m<ipython-input-17-e3e71d223977>\u001b[0m in \u001b[0;36m<module>\u001b[0;34m()\u001b[0m\n\u001b[0;32m----> 1\u001b[0;31m \u001b[0mtrain_numpy_dataset\u001b[0m\u001b[0;34m,\u001b[0m \u001b[0mlabel_train\u001b[0m \u001b[0;34m=\u001b[0m \u001b[0mread_image_dir_to_np_array\u001b[0m\u001b[0;34m(\u001b[0m\u001b[0mtrain_dir_name\u001b[0m\u001b[0;34m,\u001b[0m \u001b[0mtomato_class_list\u001b[0m\u001b[0;34m)\u001b[0m\u001b[0;34m\u001b[0m\u001b[0;34m\u001b[0m\u001b[0m\n\u001b[0m",
            "\u001b[0;31mNameError\u001b[0m: name 'tomato_class_list' is not defined"
          ]
        }
      ]
    },
    {
      "cell_type": "markdown",
      "metadata": {
        "colab_type": "text",
        "id": "e48vCqrRXwNe"
      },
      "source": [
        "# Convert array of image into numpy array\n",
        "the dimension of the array is as follows: (m, h, w, 3) where m is the number of image, h is the height of each image, w is the width of the image, and 3 is for the number of color channel(RGB)"
      ]
    },
    {
      "cell_type": "code",
      "metadata": {
        "colab_type": "code",
        "id": "Y0r94kHwX0Fr",
        "colab": {},
        "outputId": "b422f942-6384-4bec-da84-69520ed5823b"
      },
      "source": [
        "train_numpy_dataset = np.array(train_numpy_dataset)\n",
        "train_numpy_dataset.shape"
      ],
      "execution_count": null,
      "outputs": [
        {
          "output_type": "execute_result",
          "data": {
            "text/plain": [
              "(18345, 100, 100, 3)"
            ]
          },
          "metadata": {
            "tags": []
          },
          "execution_count": 11
        }
      ]
    },
    {
      "cell_type": "code",
      "metadata": {
        "colab_type": "code",
        "id": "lxOxlttgX0uv",
        "colab": {}
      },
      "source": [
        "# Create set of unique labels and make a dictionary that maps the label to unique integer number\n",
        "label_unique = list(set(label_train))\n",
        "label_dict = dict((label, index) for index, label in enumerate(label_unique))\n",
        "label_df = pd.DataFrame(label_dict.items(), columns=['Tomato Health', 'Health Label'])\n",
        "label_df.to_csv(\"category_to_num.csv\")"
      ],
      "execution_count": null,
      "outputs": []
    },
    {
      "cell_type": "code",
      "metadata": {
        "colab_type": "code",
        "id": "3IV5WLWqX4Us",
        "colab": {},
        "outputId": "cfe377d8-d4f1-4d65-9883-73a77fd26c67"
      },
      "source": [
        "label_dict"
      ],
      "execution_count": null,
      "outputs": [
        {
          "output_type": "execute_result",
          "data": {
            "text/plain": [
              "{'Tomato___Tomato_mosaic_virus': 0,\n",
              " 'Tomato___Bacterial_spot': 1,\n",
              " 'Tomato___Early_blight': 2,\n",
              " 'Tomato___Spider_mites Two-spotted_spider_mite': 3,\n",
              " 'Tomato___Septoria_leaf_spot': 4,\n",
              " 'Tomato___Late_blight': 5,\n",
              " 'Tomato___Leaf_Mold': 6,\n",
              " 'Tomato___healthy': 7,\n",
              " 'Tomato___Tomato_Yellow_Leaf_Curl_Virus': 8,\n",
              " 'Tomato___Target_Spot': 9}"
            ]
          },
          "metadata": {
            "tags": []
          },
          "execution_count": 13
        }
      ]
    },
    {
      "cell_type": "code",
      "metadata": {
        "colab_type": "code",
        "id": "cfHbKB_bX4wB",
        "colab": {},
        "outputId": "de047e7c-06b3-4882-b643-569417a634a7"
      },
      "source": [
        "# label_train\n",
        "Image.fromarray(train_numpy_dataset[1])"
      ],
      "execution_count": null,
      "outputs": [
        {
          "output_type": "execute_result",
          "data": {
            "image/png": "[encoded data removed]",
            "text/plain": [
              "<PIL.Image.Image image mode=RGB size=100x100 at 0x286DE24C6C8>"
            ]
          },
          "metadata": {
            "tags": []
          },
          "execution_count": 14
        }
      ]
    },
    {
      "cell_type": "code",
      "metadata": {
        "colab_type": "code",
        "id": "Ll47anfTX7FE",
        "colab": {},
        "outputId": "c88fe29f-39b8-4a81-85c5-34de1ed624fc"
      },
      "source": [
        "# map train label to dictionary value\n",
        "train_numpy_label = np.array([label_dict[key] for key in label_train])\n",
        "train_numpy_label"
      ],
      "execution_count": null,
      "outputs": [
        {
          "output_type": "execute_result",
          "data": {
            "text/plain": [
              "array([1, 1, 1, ..., 8, 8, 8])"
            ]
          },
          "metadata": {
            "tags": []
          },
          "execution_count": 15
        }
      ]
    },
    {
      "cell_type": "code",
      "metadata": {
        "colab_type": "code",
        "id": "__qpEk4TX8-v",
        "colab": {},
        "outputId": "ecfa4498-c2f8-448a-8683-ce448c0da162"
      },
      "source": [
        "train_numpy_label.shape"
      ],
      "execution_count": null,
      "outputs": [
        {
          "output_type": "execute_result",
          "data": {
            "text/plain": [
              "(18345,)"
            ]
          },
          "metadata": {
            "tags": []
          },
          "execution_count": 16
        }
      ]
    },
    {
      "cell_type": "markdown",
      "metadata": {
        "colab_type": "text",
        "id": "O3K6GAM0YA_x"
      },
      "source": [
        "# Save train dataset and its label as npz file"
      ]
    },
    {
      "cell_type": "code",
      "metadata": {
        "colab_type": "code",
        "id": "Sbu_au5OYDb8",
        "colab": {}
      },
      "source": [
        "np.savez(\"tomato_leaves100.npz\", train_numpy_dataset, train_numpy_label)"
      ],
      "execution_count": null,
      "outputs": []
    },
    {
      "cell_type": "markdown",
      "metadata": {
        "colab_type": "text",
        "id": "e4pLDRSxYKlO"
      },
      "source": [
        "# Read validate dataset to np array"
      ]
    },
    {
      "cell_type": "code",
      "metadata": {
        "colab_type": "code",
        "id": "8UWL1ipQYNO2",
        "colab": {}
      },
      "source": [
        "valid_dir_name = 'New Plant Diseases Dataset(Augmented)\\\\New Plant Diseases Dataset(Augmented)\\\\valid\\\\'\n",
        "valid_numpy, label_valid = read_image_dir_to_np_array(valid_dir_name, tomato_class_list)\n",
        "valid_numpy_label = np.array([label_dict[key] for key in label_valid])"
      ],
      "execution_count": null,
      "outputs": []
    },
    {
      "cell_type": "code",
      "metadata": {
        "colab_type": "code",
        "id": "p0bfdYDZYPMW",
        "colab": {},
        "outputId": "a6c63df0-c2f7-49f3-e7b0-0d60325916ab"
      },
      "source": [
        "# Convert list of validation image matrix into np array\n",
        "valid_numpy = np.array(valid_numpy)\n",
        "valid_numpy.shape"
      ],
      "execution_count": null,
      "outputs": [
        {
          "output_type": "execute_result",
          "data": {
            "text/plain": [
              "(4585, 100, 100, 3)"
            ]
          },
          "metadata": {
            "tags": []
          },
          "execution_count": 19
        }
      ]
    },
    {
      "cell_type": "code",
      "metadata": {
        "colab_type": "code",
        "id": "3iBCTgb0Yitz",
        "colab": {}
      },
      "source": [
        "np.savez(\"tomato_leaves_test100.npz\", valid_numpy, valid_numpy_label)"
      ],
      "execution_count": null,
      "outputs": []
    },
    {
      "cell_type": "code",
      "metadata": {
        "colab_type": "code",
        "id": "QME0Gq-hYmeb",
        "colab": {},
        "outputId": "60fedfb4-55ad-4448-ca14-2d5f2db3caa8"
      },
      "source": [
        "valid_numpy_label.shape"
      ],
      "execution_count": null,
      "outputs": [
        {
          "output_type": "execute_result",
          "data": {
            "text/plain": [
              "(4585,)"
            ]
          },
          "metadata": {
            "tags": []
          },
          "execution_count": 21
        }
      ]
    },
    {
      "cell_type": "markdown",
      "metadata": {
        "id": "dak4zvqfIUqO",
        "colab_type": "text"
      },
      "source": [
        "## Modelling"
      ]
    },
    {
      "cell_type": "code",
      "metadata": {
        "scrolled": false,
        "id": "K5xYRb3mIUqP",
        "colab_type": "code",
        "colab": {}
      },
      "source": [
        "npz_train = np.load('/content/drive/My Drive/tomato/tomato_leaves100.npz')"
      ],
      "execution_count": null,
      "outputs": []
    },
    {
      "cell_type": "code",
      "metadata": {
        "id": "q5XLryX1IUqT",
        "colab_type": "code",
        "colab": {
          "base_uri": "https://localhost:8080/",
          "height": 34
        },
        "outputId": "5a97a0f6-109e-4a16-de32-e55322244a7c"
      },
      "source": [
        "x_train = npz_train['arr_0']\n",
        "y_train = npz_train['arr_1']\n",
        "y_train.shape"
      ],
      "execution_count": null,
      "outputs": [
        {
          "output_type": "execute_result",
          "data": {
            "text/plain": [
              "(18345,)"
            ]
          },
          "metadata": {
            "tags": []
          },
          "execution_count": 8
        }
      ]
    },
    {
      "cell_type": "code",
      "metadata": {
        "id": "zteXnMnrIUqX",
        "colab_type": "code",
        "colab": {}
      },
      "source": [
        "# shuffle training data\n",
        "index_shuffle = np.random.permutation(len(x_train))\n",
        "x_train = x_train[index_shuffle]\n",
        "y_train = y_train[index_shuffle]"
      ],
      "execution_count": null,
      "outputs": []
    },
    {
      "cell_type": "code",
      "metadata": {
        "id": "Im91G2aUIUqc",
        "colab_type": "code",
        "colab": {}
      },
      "source": [
        "npz_test = np.load('/content/drive/My Drive/tomato/tomato_leaves_test100.npz')\n",
        "x_test = npz_test['arr_0']\n",
        "y_test = npz_test['arr_1']"
      ],
      "execution_count": null,
      "outputs": []
    },
    {
      "cell_type": "code",
      "metadata": {
        "id": "jwJD6D-UIUqi",
        "colab_type": "code",
        "colab": {}
      },
      "source": [
        "# shuffle test data\n",
        "index_shuffle = np.random.permutation(len(x_test))\n",
        "x_test = x_test[index_shuffle]\n",
        "y_test = y_test[index_shuffle]"
      ],
      "execution_count": null,
      "outputs": []
    },
    {
      "cell_type": "code",
      "metadata": {
        "id": "VNTEMXN3IUqp",
        "colab_type": "code",
        "colab": {
          "base_uri": "https://localhost:8080/",
          "height": 34
        },
        "outputId": "c13bea55-533e-48d9-87b0-3a659db07651"
      },
      "source": [
        "y_test"
      ],
      "execution_count": null,
      "outputs": [
        {
          "output_type": "execute_result",
          "data": {
            "text/plain": [
              "array([6, 8, 8, ..., 9, 7, 0], dtype=int32)"
            ]
          },
          "metadata": {
            "tags": []
          },
          "execution_count": 12
        }
      ]
    },
    {
      "cell_type": "code",
      "metadata": {
        "id": "WrlikhLmIUqu",
        "colab_type": "code",
        "colab": {
          "base_uri": "https://localhost:8080/",
          "height": 285
        },
        "outputId": "e1cc5493-d9df-4bcb-e500-6b6131c41514"
      },
      "source": [
        "plt.imshow(x_train[20])"
      ],
      "execution_count": null,
      "outputs": [
        {
          "output_type": "execute_result",
          "data": {
            "text/plain": [
              "<matplotlib.image.AxesImage at 0x7efd9f03af28>"
            ]
          },
          "metadata": {
            "tags": []
          },
          "execution_count": 13
        },
        {
          "output_type": "display_data",
          "data": {
            "image/png": "[encoded data removed]",
            "text/plain": [
              "<Figure size 432x288 with 1 Axes>"
            ]
          },
          "metadata": {
            "tags": []
          }
        }
      ]
    },
    {
      "cell_type": "code",
      "metadata": {
        "id": "xIkNTlL6IUq1",
        "colab_type": "code",
        "colab": {
          "base_uri": "https://localhost:8080/",
          "height": 285
        },
        "outputId": "01a6044c-d1e0-4624-e0c6-c52bd6010923"
      },
      "source": [
        "plt.imshow(x_test[20])"
      ],
      "execution_count": null,
      "outputs": [
        {
          "output_type": "execute_result",
          "data": {
            "text/plain": [
              "<matplotlib.image.AxesImage at 0x7efd0f451b38>"
            ]
          },
          "metadata": {
            "tags": []
          },
          "execution_count": 14
        },
        {
          "output_type": "display_data",
          "data": {
            "image/png": "[encoded data removed]",
            "text/plain": [
              "<Figure size 432x288 with 1 Axes>"
            ]
          },
          "metadata": {
            "tags": []
          }
        }
      ]
    },
    {
      "cell_type": "code",
      "metadata": {
        "id": "WXgb_1ilIUrG",
        "colab_type": "code",
        "colab": {}
      },
      "source": [
        "# define deep neural network model\n",
        "def create_model(learning_rate,neurons_number=270,regularizer=0.15,dropout_rate=0.4):\n",
        "  \"\"\"Create and compile deep neural net model\"\"\"\n",
        "  model = tf.keras.models.Sequential()\n",
        "\n",
        "  # Add the layer containing the feature columns to the model.\n",
        "  model.add(tf.keras.layers.Flatten(input_shape=(100, 100, 3)))\n",
        "\n",
        "  # Define the first hidden layer\n",
        "  model.add(tf.keras.layers.Dense(units=neurons_number,\n",
        "                                  activation='relu',\n",
        "                                  kernel_regularizer=tf.keras.regularizers.l2(regularizer),\n",
        "                                  name='Hidden1'))\n",
        "  \n",
        "  # Define a dropout regularization layer. \n",
        "  model.add(tf.keras.layers.Dropout(rate=dropout_rate))\n",
        "\n",
        "  # Define the output layer\n",
        "  model.add(tf.keras.layers.Dense(units=10,\n",
        "                                  activation='softmax',\n",
        "                                  name='Output'))\n",
        "  \n",
        "  model.compile(optimizer=tf.keras.optimizers.Adam(lr=learning_rate),\n",
        "                loss=\"sparse_categorical_crossentropy\",\n",
        "                metrics=['accuracy'])\n",
        "  \n",
        "  return model"
      ],
      "execution_count": null,
      "outputs": []
    },
    {
      "cell_type": "markdown",
      "metadata": {
        "id": "NJqXSN0eIUq_",
        "colab_type": "text"
      },
      "source": [
        "## Build a Neural Network"
      ]
    },
    {
      "cell_type": "code",
      "metadata": {
        "id": "Y05sRLobIUrB",
        "colab_type": "code",
        "colab": {}
      },
      "source": [
        "# define plotting loss function\n",
        "\n",
        "def plot_curve(epochs, hist, list_of_metrics):\n",
        "  \"\"\"Plot a curve one or more classification metrics vs. epoch.\"\"\"\n",
        "\n",
        "  plt.figure()\n",
        "  plt.xlabel(\"Epoch\")\n",
        "  plt.ylabel(\"Value\")\n",
        "\n",
        "  for m in list_of_metrics:\n",
        "    x = hist[m]\n",
        "    plt.plot(epochs[1:], x[1:], label=m)\n",
        "\n",
        "  plt.legend()\n",
        "  plt.show()"
      ],
      "execution_count": null,
      "outputs": []
    },
    {
      "cell_type": "code",
      "metadata": {
        "id": "sRBBgw-HIUrM",
        "colab_type": "code",
        "colab": {}
      },
      "source": [
        "def train_model(model, train_features, train_label, epochs,\n",
        "                batch_size=None, validation_split=0.05):\n",
        "  \"\"\"Train the model by feeding it data.\"\"\"\n",
        "\n",
        "  history = model.fit(x=train_features, y=train_label, batch_size=batch_size,\n",
        "                      epochs=epochs, shuffle=True,\n",
        "                      validation_split=validation_split)\n",
        "  \n",
        "  # The list of epochs of the model\n",
        "  epochs = history.epoch\n",
        "\n",
        "  # gather a snapshot of the model's mean squared error\n",
        "  # at each epoch.\n",
        "  hist = pd.DataFrame(history.history)\n",
        "\n",
        "  return epochs, hist"
      ],
      "execution_count": null,
      "outputs": []
    },
    {
      "cell_type": "code",
      "metadata": {
        "id": "VeIcfUSMIUrT",
        "colab_type": "code",
        "colab": {},
        "outputId": "7a347343-a3c9-440f-9f97-53a93a357a53"
      },
      "source": [
        "# define the hyperparameters\n",
        "learning_rate = 0.000008\n",
        "epochs = 70\n",
        "batch_size = 150\n",
        "validation_split = 0.4\n",
        "\n",
        "\n",
        "# Established model's topography\n",
        "my_model = create_model(learning_rate)\n",
        "\n",
        "# Train the model on normalized training set\n",
        "epochs, hist = train_model(my_model, x_train_norm, y_train, epochs,\n",
        "                          batch_size, validation_split)\n",
        "\n",
        "# plot accuracy vs epochs of training\n",
        "list_of_metrics_to_plot = ['accuracy'] \n",
        "plot_curve(epochs, hist, list_of_metrics_to_plot)"
      ],
      "execution_count": null,
      "outputs": [
        {
          "output_type": "stream",
          "text": [
            "Train on 11007 samples, validate on 7338 samples\n",
            "Epoch 1/70\n",
            "11007/11007 [==============================] - 18s 2ms/sample - loss: 79.1646 - accuracy: 0.1902 - val_loss: 75.4838 - val_accuracy: 0.3367\n",
            "Epoch 2/70\n",
            "11007/11007 [==============================] - 16s 1ms/sample - loss: 72.2025 - accuracy: 0.2928 - val_loss: 68.8167 - val_accuracy: 0.4116\n",
            "Epoch 3/70\n",
            "11007/11007 [==============================] - 15s 1ms/sample - loss: 65.8552 - accuracy: 0.3598 - val_loss: 62.7825 - val_accuracy: 0.4374\n",
            "Epoch 4/70\n",
            "11007/11007 [==============================] - 16s 1ms/sample - loss: 60.1131 - accuracy: 0.3853 - val_loss: 57.3185 - val_accuracy: 0.4550\n",
            "Epoch 5/70\n",
            "11007/11007 [==============================] - 16s 1ms/sample - loss: 54.8898 - accuracy: 0.4241 - val_loss: 52.3775 - val_accuracy: 0.4357\n",
            "Epoch 6/70\n",
            "11007/11007 [==============================] - 15s 1ms/sample - loss: 50.1454 - accuracy: 0.4410 - val_loss: 47.8385 - val_accuracy: 0.4975\n",
            "Epoch 7/70\n",
            "11007/11007 [==============================] - 15s 1ms/sample - loss: 45.8262 - accuracy: 0.4559 - val_loss: 43.7091 - val_accuracy: 0.5228\n",
            "Epoch 8/70\n",
            "11007/11007 [==============================] - 14s 1ms/sample - loss: 41.8807 - accuracy: 0.4783 - val_loss: 39.9521 - val_accuracy: 0.5279\n",
            "Epoch 9/70\n",
            "11007/11007 [==============================] - 14s 1ms/sample - loss: 38.2851 - accuracy: 0.4811 - val_loss: 36.5210 - val_accuracy: 0.5225\n",
            "Epoch 10/70\n",
            "11007/11007 [==============================] - 14s 1ms/sample - loss: 35.0093 - accuracy: 0.4943 - val_loss: 33.4048 - val_accuracy: 0.5447\n",
            "Epoch 11/70\n",
            "11007/11007 [==============================] - 15s 1ms/sample - loss: 32.0265 - accuracy: 0.4993 - val_loss: 30.5524 - val_accuracy: 0.5579\n",
            "Epoch 12/70\n",
            "11007/11007 [==============================] - 14s 1ms/sample - loss: 29.2983 - accuracy: 0.5114 - val_loss: 27.9643 - val_accuracy: 0.5507\n",
            "Epoch 13/70\n",
            "11007/11007 [==============================] - 14s 1ms/sample - loss: 26.8274 - accuracy: 0.5081 - val_loss: 25.5961 - val_accuracy: 0.5511\n",
            "Epoch 14/70\n",
            "11007/11007 [==============================] - 14s 1ms/sample - loss: 24.5601 - accuracy: 0.5210 - val_loss: 23.4493 - val_accuracy: 0.5604\n",
            "Epoch 15/70\n",
            "11007/11007 [==============================] - 15s 1ms/sample - loss: 22.5012 - accuracy: 0.5336 - val_loss: 21.5011 - val_accuracy: 0.5474\n",
            "Epoch 16/70\n",
            "11007/11007 [==============================] - 14s 1ms/sample - loss: 20.6387 - accuracy: 0.5376 - val_loss: 19.7199 - val_accuracy: 0.5702\n",
            "Epoch 17/70\n",
            "11007/11007 [==============================] - 14s 1ms/sample - loss: 18.9313 - accuracy: 0.5354 - val_loss: 18.0881 - val_accuracy: 0.5664\n",
            "Epoch 18/70\n",
            "11007/11007 [==============================] - 19s 2ms/sample - loss: 17.3883 - accuracy: 0.5392 - val_loss: 16.6076 - val_accuracy: 0.5848\n",
            "Epoch 19/70\n",
            "11007/11007 [==============================] - 18s 2ms/sample - loss: 15.9776 - accuracy: 0.5397 - val_loss: 15.2759 - val_accuracy: 0.5835\n",
            "Epoch 20/70\n",
            "11007/11007 [==============================] - 17s 2ms/sample - loss: 14.7007 - accuracy: 0.5489 - val_loss: 14.0689 - val_accuracy: 0.5690\n",
            "Epoch 21/70\n",
            "11007/11007 [==============================] - 16s 1ms/sample - loss: 13.5371 - accuracy: 0.5518 - val_loss: 12.9497 - val_accuracy: 0.5901\n",
            "Epoch 22/70\n",
            "11007/11007 [==============================] - 16s 1ms/sample - loss: 12.4766 - accuracy: 0.5527 - val_loss: 11.9563 - val_accuracy: 0.5780\n",
            "Epoch 23/70\n",
            "11007/11007 [==============================] - 16s 1ms/sample - loss: 11.5181 - accuracy: 0.5567 - val_loss: 11.0317 - val_accuracy: 0.5848\n",
            "Epoch 24/70\n",
            "11007/11007 [==============================] - 17s 2ms/sample - loss: 10.6315 - accuracy: 0.5648 - val_loss: 10.1966 - val_accuracy: 0.5852\n",
            "Epoch 25/70\n",
            "11007/11007 [==============================] - 17s 2ms/sample - loss: 9.8453 - accuracy: 0.5635 - val_loss: 9.4432 - val_accuracy: 0.6030\n",
            "Epoch 26/70\n",
            "11007/11007 [==============================] - 15s 1ms/sample - loss: 9.1163 - accuracy: 0.5729 - val_loss: 8.7555 - val_accuracy: 0.5908\n",
            "Epoch 27/70\n",
            "11007/11007 [==============================] - 15s 1ms/sample - loss: 8.4582 - accuracy: 0.5710 - val_loss: 8.1360 - val_accuracy: 0.5962\n",
            "Epoch 28/70\n",
            "11007/11007 [==============================] - 15s 1ms/sample - loss: 7.8601 - accuracy: 0.5753 - val_loss: 7.5605 - val_accuracy: 0.5921\n",
            "Epoch 29/70\n",
            "11007/11007 [==============================] - 13s 1ms/sample - loss: 7.3238 - accuracy: 0.5688 - val_loss: 7.0509 - val_accuracy: 0.5819\n",
            "Epoch 30/70\n",
            "11007/11007 [==============================] - 13s 1ms/sample - loss: 6.8207 - accuracy: 0.5748 - val_loss: 6.5683 - val_accuracy: 0.6018\n",
            "Epoch 31/70\n",
            "11007/11007 [==============================] - 14s 1ms/sample - loss: 6.3680 - accuracy: 0.5762 - val_loss: 6.1376 - val_accuracy: 0.6019\n",
            "Epoch 32/70\n",
            "11007/11007 [==============================] - 13s 1ms/sample - loss: 5.9533 - accuracy: 0.5846 - val_loss: 5.7718 - val_accuracy: 0.5809\n",
            "Epoch 33/70\n",
            "11007/11007 [==============================] - 13s 1ms/sample - loss: 5.5883 - accuracy: 0.5817 - val_loss: 5.3977 - val_accuracy: 0.5950\n",
            "Epoch 34/70\n",
            "11007/11007 [==============================] - 13s 1ms/sample - loss: 5.2339 - accuracy: 0.5898 - val_loss: 5.0514 - val_accuracy: 0.6117\n",
            "Epoch 35/70\n",
            "11007/11007 [==============================] - 13s 1ms/sample - loss: 4.9151 - accuracy: 0.5976 - val_loss: 4.7568 - val_accuracy: 0.6048\n",
            "Epoch 36/70\n",
            "11007/11007 [==============================] - 14s 1ms/sample - loss: 4.6370 - accuracy: 0.5862 - val_loss: 4.4865 - val_accuracy: 0.6145\n",
            "Epoch 37/70\n",
            "11007/11007 [==============================] - 13s 1ms/sample - loss: 4.3782 - accuracy: 0.5902 - val_loss: 4.2355 - val_accuracy: 0.6092\n",
            "Epoch 38/70\n",
            "11007/11007 [==============================] - 13s 1ms/sample - loss: 4.1383 - accuracy: 0.5912 - val_loss: 4.0288 - val_accuracy: 0.5988\n",
            "Epoch 39/70\n",
            "11007/11007 [==============================] - 13s 1ms/sample - loss: 3.9235 - accuracy: 0.5930 - val_loss: 3.8001 - val_accuracy: 0.6102\n",
            "Epoch 40/70\n",
            "11007/11007 [==============================] - 14s 1ms/sample - loss: 3.7196 - accuracy: 0.5904 - val_loss: 3.6263 - val_accuracy: 0.6013\n",
            "Epoch 41/70\n",
            "11007/11007 [==============================] - 13s 1ms/sample - loss: 3.5391 - accuracy: 0.5954 - val_loss: 3.4544 - val_accuracy: 0.6090\n",
            "Epoch 42/70\n",
            "11007/11007 [==============================] - 14s 1ms/sample - loss: 3.3777 - accuracy: 0.5935 - val_loss: 3.2984 - val_accuracy: 0.5869\n",
            "Epoch 43/70\n",
            "11007/11007 [==============================] - 13s 1ms/sample - loss: 3.2196 - accuracy: 0.6006 - val_loss: 3.1384 - val_accuracy: 0.6034\n",
            "Epoch 44/70\n",
            "11007/11007 [==============================] - 14s 1ms/sample - loss: 3.0809 - accuracy: 0.5934 - val_loss: 3.0193 - val_accuracy: 0.6150\n",
            "Epoch 45/70\n",
            "11007/11007 [==============================] - 14s 1ms/sample - loss: 2.9478 - accuracy: 0.5969 - val_loss: 2.8813 - val_accuracy: 0.6135\n",
            "Epoch 46/70\n",
            "11007/11007 [==============================] - 13s 1ms/sample - loss: 2.8348 - accuracy: 0.5987 - val_loss: 2.7791 - val_accuracy: 0.5988\n",
            "Epoch 47/70\n",
            "11007/11007 [==============================] - 13s 1ms/sample - loss: 2.7212 - accuracy: 0.6049 - val_loss: 2.6786 - val_accuracy: 0.6070\n",
            "Epoch 48/70\n",
            "11007/11007 [==============================] - 14s 1ms/sample - loss: 2.6221 - accuracy: 0.6030 - val_loss: 2.5711 - val_accuracy: 0.6149\n",
            "Epoch 49/70\n",
            "11007/11007 [==============================] - 14s 1ms/sample - loss: 2.5304 - accuracy: 0.6077 - val_loss: 2.4843 - val_accuracy: 0.6301\n",
            "Epoch 50/70\n",
            "11007/11007 [==============================] - 13s 1ms/sample - loss: 2.4453 - accuracy: 0.6061 - val_loss: 2.4008 - val_accuracy: 0.6217\n",
            "Epoch 51/70\n",
            "11007/11007 [==============================] - 13s 1ms/sample - loss: 2.3653 - accuracy: 0.6119 - val_loss: 2.3188 - val_accuracy: 0.6252\n",
            "Epoch 52/70\n",
            "11007/11007 [==============================] - 13s 1ms/sample - loss: 2.2983 - accuracy: 0.6023 - val_loss: 2.2628 - val_accuracy: 0.6075\n",
            "Epoch 53/70\n",
            "11007/11007 [==============================] - 14s 1ms/sample - loss: 2.2373 - accuracy: 0.6027 - val_loss: 2.2159 - val_accuracy: 0.6032\n",
            "Epoch 54/70\n",
            "11007/11007 [==============================] - 14s 1ms/sample - loss: 2.1789 - accuracy: 0.5995 - val_loss: 2.1303 - val_accuracy: 0.6255\n",
            "Epoch 55/70\n"
          ],
          "name": "stdout"
        },
        {
          "output_type": "stream",
          "text": [
            "11007/11007 [==============================] - 12s 1ms/sample - loss: 2.1175 - accuracy: 0.6057 - val_loss: 2.1283 - val_accuracy: 0.5872\n",
            "Epoch 56/70\n",
            "11007/11007 [==============================] - 14s 1ms/sample - loss: 2.0645 - accuracy: 0.6053 - val_loss: 2.0299 - val_accuracy: 0.6197\n",
            "Epoch 57/70\n",
            "11007/11007 [==============================] - 17s 2ms/sample - loss: 2.0151 - accuracy: 0.6072 - val_loss: 1.9867 - val_accuracy: 0.6308\n",
            "Epoch 58/70\n",
            "11007/11007 [==============================] - 13s 1ms/sample - loss: 1.9693 - accuracy: 0.6152 - val_loss: 1.9397 - val_accuracy: 0.6300\n",
            "Epoch 59/70\n",
            "11007/11007 [==============================] - 13s 1ms/sample - loss: 1.9354 - accuracy: 0.6087 - val_loss: 1.9383 - val_accuracy: 0.6030\n",
            "Epoch 60/70\n",
            "11007/11007 [==============================] - 13s 1ms/sample - loss: 1.8947 - accuracy: 0.6115 - val_loss: 1.8872 - val_accuracy: 0.6058\n",
            "Epoch 61/70\n",
            "11007/11007 [==============================] - 13s 1ms/sample - loss: 1.8601 - accuracy: 0.6123 - val_loss: 1.8596 - val_accuracy: 0.6082\n",
            "Epoch 62/70\n",
            "11007/11007 [==============================] - 14s 1ms/sample - loss: 1.8331 - accuracy: 0.6171 - val_loss: 1.8246 - val_accuracy: 0.6201\n",
            "Epoch 63/70\n",
            "11007/11007 [==============================] - 12s 1ms/sample - loss: 1.7976 - accuracy: 0.6180 - val_loss: 1.7877 - val_accuracy: 0.6216\n",
            "Epoch 64/70\n",
            "11007/11007 [==============================] - 13s 1ms/sample - loss: 1.7695 - accuracy: 0.6189 - val_loss: 1.7704 - val_accuracy: 0.6096\n",
            "Epoch 65/70\n",
            "11007/11007 [==============================] - 13s 1ms/sample - loss: 1.7542 - accuracy: 0.6118 - val_loss: 1.7363 - val_accuracy: 0.6251\n",
            "Epoch 66/70\n",
            "11007/11007 [==============================] - 14s 1ms/sample - loss: 1.7291 - accuracy: 0.6142 - val_loss: 1.7187 - val_accuracy: 0.6081\n",
            "Epoch 67/70\n",
            "11007/11007 [==============================] - 13s 1ms/sample - loss: 1.7051 - accuracy: 0.6145 - val_loss: 1.7038 - val_accuracy: 0.6124\n",
            "Epoch 68/70\n",
            "11007/11007 [==============================] - 13s 1ms/sample - loss: 1.6804 - accuracy: 0.6190 - val_loss: 1.6710 - val_accuracy: 0.6267\n",
            "Epoch 69/70\n",
            "11007/11007 [==============================] - 13s 1ms/sample - loss: 1.6674 - accuracy: 0.6142 - val_loss: 1.6669 - val_accuracy: 0.6252\n",
            "Epoch 70/70\n",
            "11007/11007 [==============================] - 13s 1ms/sample - loss: 1.6422 - accuracy: 0.6194 - val_loss: 1.6378 - val_accuracy: 0.6262\n"
          ],
          "name": "stdout"
        },
        {
          "output_type": "display_data",
          "data": {
            "image/png": "[encoded data removed]",
            "text/plain": [
              "<Figure size 432x288 with 1 Axes>"
            ]
          },
          "metadata": {
            "tags": [],
            "needs_background": "light"
          }
        }
      ]
    },
    {
      "cell_type": "code",
      "metadata": {
        "id": "UrZvUz1pIUrb",
        "colab_type": "code",
        "colab": {},
        "outputId": "4d0a7288-716d-444c-b8ef-2276571ab07b"
      },
      "source": [
        "my_model.evaluate(x=x_test_norm, y=y_test, batch_size=batch_size)"
      ],
      "execution_count": null,
      "outputs": [
        {
          "output_type": "stream",
          "text": [
            "4585/4585 [==============================] - 2s 521us/sample - loss: 1.6412 - accuracy: 0.6277\n"
          ],
          "name": "stdout"
        },
        {
          "output_type": "execute_result",
          "data": {
            "text/plain": [
              "[1.6411519827993513, 0.627699]"
            ]
          },
          "metadata": {
            "tags": []
          },
          "execution_count": 35
        }
      ]
    },
    {
      "cell_type": "code",
      "metadata": {
        "id": "uaDuNnJzbBjE",
        "colab_type": "code",
        "colab": {}
      },
      "source": [
        ""
      ],
      "execution_count": null,
      "outputs": []
    },
    {
      "cell_type": "markdown",
      "metadata": {
        "id": "ApqraewKJk2R",
        "colab_type": "text"
      },
      "source": [
        "# Convolutional Neural Network model"
      ]
    },
    {
      "cell_type": "code",
      "metadata": {
        "id": "LVN1ubvyrRVx",
        "colab_type": "code",
        "colab": {}
      },
      "source": [
        "# define Convolutional Neural Network model.\n",
        "# we are implementing AlexNet architecture  for our CNN model\n",
        "def create_cnn_model(learning_rate):\n",
        "  \"\"\"Create and compile deep neural net model\"\"\"\n",
        "  model = tf.keras.models.Sequential()\n",
        "\n",
        "  # Add 1st Convolutional layer\n",
        "  model.add(layers.Conv2D(filters=96, kernel_size=(11, 11), strides=(4,4), \n",
        "                          activation='relu', input_shape=(100, 100, 3), padding='valid'))\n",
        "  \n",
        "  # Max Pooling\n",
        "  model.add(layers.MaxPool2D(pool_size=(3,3), strides=(2,2), padding='valid'))\n",
        "  \n",
        "  # Add 2nd Convolutional layer\n",
        "  model.add(layers.Conv2D(filters=256, kernel_size=(5, 5), strides=(1,1), \n",
        "                          activation='relu', padding='same'))\n",
        "   # Max Pooling\n",
        "  model.add(layers.MaxPool2D(pool_size=(3,3), strides=(2,2), padding='valid'))\n",
        "\n",
        "  # Add 3rd Convolutional layer\n",
        "  model.add(layers.Conv2D(filters=384, kernel_size=(3, 3), strides=(1,1), \n",
        "                          activation='relu', padding='same'))\n",
        "  \n",
        "  # Add 4th Convolutional layer\n",
        "  model.add(layers.Conv2D(filters=384, kernel_size=(3, 3), strides=(1,1), \n",
        "                          activation='relu', padding='same'))\n",
        "  \n",
        "  # Add 5th Convolutional layer\n",
        "  model.add(layers.Conv2D(filters=256, kernel_size=(3, 3), strides=(1,1), \n",
        "                          activation='relu', padding='same'))\n",
        "\n",
        "  # Max pooling\n",
        "  model.add(layers.MaxPool2D(pool_size=(3,3), strides=(2,2), padding='valid'))\n",
        "\n",
        "  # passing to fully connected layer\n",
        "  model.add(layers.Flatten())\n",
        "  # Define the first fully connected layer\n",
        "  model.add(layers.Dense(units=9216, activation='relu', name='fully1'))\n",
        "\n",
        "  # Define a dropout regularization layer for first fully connected layer. \n",
        "  model.add(layers.Dropout(rate=0.5))\n",
        "\n",
        "  # Define the second fully connected layer\n",
        "  model.add(layers.Dense(units=4096, activation='relu', name='fully2'))\n",
        "\n",
        "  # Define a dropout regularization layer for second fully connected layer. \n",
        "  model.add(layers.Dropout(rate=0.5))\n",
        "\n",
        "  # Define third fully connected layer\n",
        "  model.add(layers.Dense(units=1000, activation='relu', name='fully3'))\n",
        "\n",
        "  # Define a dropout regularization layer for third fully connected layer. \n",
        "  model.add(layers.Dropout(rate=0.5))\n",
        "\n",
        "  # Define the output layer\n",
        "  model.add(layers.Dense(units=10,\n",
        "                                  activation='softmax',\n",
        "                                  name='Output'))\n",
        "  \n",
        "  model.compile(optimizer=tf.keras.optimizers.Adam(lr=learning_rate),\n",
        "                loss=\"sparse_categorical_crossentropy\",\n",
        "                metrics=['accuracy'])\n",
        "  \n",
        "  return model"
      ],
      "execution_count": null,
      "outputs": []
    },
    {
      "cell_type": "code",
      "metadata": {
        "id": "mUNXhYCcQYyE",
        "colab_type": "code",
        "colab": {}
      },
      "source": [
        "# define hyperparameters\n",
        "epochs = 22\n",
        "batch_size = 150\n",
        "validation_split = 0.4\n",
        "learning_rate = 0.00007"
      ],
      "execution_count": null,
      "outputs": []
    },
    {
      "cell_type": "code",
      "metadata": {
        "id": "xvHrXeCVlKAC",
        "colab_type": "code",
        "colab": {}
      },
      "source": [
        "# Established model's topography\n",
        "my_model = create_cnn_model(learning_rate)"
      ],
      "execution_count": null,
      "outputs": []
    },
    {
      "cell_type": "markdown",
      "metadata": {
        "id": "Xxl3K7LFJ8Vh",
        "colab_type": "text"
      },
      "source": [
        "## Define train function for cnn model"
      ]
    },
    {
      "cell_type": "code",
      "metadata": {
        "id": "3R9ykKMAJ5Pt",
        "colab_type": "code",
        "colab": {}
      },
      "source": [
        "def train_cnn_model(model, train_features, train_label, epochs,\n",
        "                batch_size, validation_split=0.05):\n",
        "  \"\"\"Train the model by feeding it data.\"\"\"\n",
        "\n",
        "  history = model.fit(x=train_features, y=train_label, batch_size=batch_size,\n",
        "                      epochs=epochs, shuffle=True,\n",
        "                      validation_split=validation_split)\n",
        "  \n",
        "  # The list of epochs of the model\n",
        "  epochs = history.epoch\n",
        "\n",
        "  # gather a snapshot of the model's mean squared error\n",
        "  # at each epoch.\n",
        "  hist = pd.DataFrame(history.history)\n",
        "\n",
        "  return epochs, hist"
      ],
      "execution_count": null,
      "outputs": []
    },
    {
      "cell_type": "markdown",
      "metadata": {
        "id": "svP-Wd8XKBT5",
        "colab_type": "text"
      },
      "source": [
        "## Train CNN model"
      ]
    },
    {
      "cell_type": "code",
      "metadata": {
        "id": "GvwrmxaJKC_R",
        "colab_type": "code",
        "colab": {
          "base_uri": "https://localhost:8080/",
          "height": 1000
        },
        "outputId": "bffc83d7-6ace-4a36-a4e0-06013a9f0300"
      },
      "source": [
        "# Train the model on normalized training set\n",
        "epochs, hist = train_cnn_model(my_model, x_train_norm, y_train, epochs, batch_size, validation_split)\n",
        "\n",
        "# plot accuracy vs epochs of training\n",
        "list_of_metrics_to_plot = ['accuracy'] \n",
        "plot_curve(epochs, hist, list_of_metrics_to_plot)"
      ],
      "execution_count": null,
      "outputs": [
        {
          "output_type": "stream",
          "text": [
            "Epoch 1/22\n",
            "74/74 [==============================] - 6s 76ms/step - loss: 2.2365 - accuracy: 0.1308 - val_loss: 2.0013 - val_accuracy: 0.2159\n",
            "Epoch 2/22\n",
            "74/74 [==============================] - 4s 55ms/step - loss: 1.8353 - accuracy: 0.2922 - val_loss: 1.7710 - val_accuracy: 0.3294\n",
            "Epoch 3/22\n",
            "74/74 [==============================] - 4s 55ms/step - loss: 1.5551 - accuracy: 0.4272 - val_loss: 1.2948 - val_accuracy: 0.5218\n",
            "Epoch 4/22\n",
            "74/74 [==============================] - 4s 55ms/step - loss: 1.1557 - accuracy: 0.5859 - val_loss: 0.8549 - val_accuracy: 0.7056\n",
            "Epoch 5/22\n",
            "74/74 [==============================] - 4s 55ms/step - loss: 0.8661 - accuracy: 0.6891 - val_loss: 0.7152 - val_accuracy: 0.7416\n",
            "Epoch 6/22\n",
            "74/74 [==============================] - 4s 55ms/step - loss: 0.7462 - accuracy: 0.7340 - val_loss: 0.6782 - val_accuracy: 0.7561\n",
            "Epoch 7/22\n",
            "74/74 [==============================] - 4s 55ms/step - loss: 0.6340 - accuracy: 0.7703 - val_loss: 0.6660 - val_accuracy: 0.7626\n",
            "Epoch 8/22\n",
            "74/74 [==============================] - 4s 55ms/step - loss: 0.5321 - accuracy: 0.8106 - val_loss: 0.5968 - val_accuracy: 0.7865\n",
            "Epoch 9/22\n",
            "74/74 [==============================] - 4s 55ms/step - loss: 0.4983 - accuracy: 0.8221 - val_loss: 0.4570 - val_accuracy: 0.8357\n",
            "Epoch 10/22\n",
            "74/74 [==============================] - 4s 56ms/step - loss: 0.4227 - accuracy: 0.8475 - val_loss: 0.5159 - val_accuracy: 0.8237\n",
            "Epoch 11/22\n",
            "74/74 [==============================] - 4s 56ms/step - loss: 0.3778 - accuracy: 0.8638 - val_loss: 0.4271 - val_accuracy: 0.8456\n",
            "Epoch 12/22\n",
            "74/74 [==============================] - 4s 55ms/step - loss: 0.3443 - accuracy: 0.8739 - val_loss: 0.5126 - val_accuracy: 0.8328\n",
            "Epoch 13/22\n",
            "74/74 [==============================] - 4s 55ms/step - loss: 0.3143 - accuracy: 0.8893 - val_loss: 0.3460 - val_accuracy: 0.8808\n",
            "Epoch 14/22\n",
            "74/74 [==============================] - 4s 55ms/step - loss: 0.2535 - accuracy: 0.9111 - val_loss: 0.3855 - val_accuracy: 0.8681\n",
            "Epoch 15/22\n",
            "74/74 [==============================] - 4s 55ms/step - loss: 0.2041 - accuracy: 0.9299 - val_loss: 0.3326 - val_accuracy: 0.8904\n",
            "Epoch 16/22\n",
            "74/74 [==============================] - 4s 55ms/step - loss: 0.2157 - accuracy: 0.9277 - val_loss: 0.4435 - val_accuracy: 0.8547\n",
            "Epoch 17/22\n",
            "74/74 [==============================] - 4s 55ms/step - loss: 0.1647 - accuracy: 0.9423 - val_loss: 0.4448 - val_accuracy: 0.8560\n",
            "Epoch 18/22\n",
            "74/74 [==============================] - 4s 55ms/step - loss: 0.1703 - accuracy: 0.9387 - val_loss: 0.4711 - val_accuracy: 0.8441\n",
            "Epoch 19/22\n",
            "74/74 [==============================] - 4s 55ms/step - loss: 0.1377 - accuracy: 0.9524 - val_loss: 0.3030 - val_accuracy: 0.9039\n",
            "Epoch 20/22\n",
            "74/74 [==============================] - 4s 55ms/step - loss: 0.0963 - accuracy: 0.9678 - val_loss: 0.4041 - val_accuracy: 0.8812\n",
            "Epoch 21/22\n",
            "74/74 [==============================] - 4s 55ms/step - loss: 0.0785 - accuracy: 0.9725 - val_loss: 0.2895 - val_accuracy: 0.9156\n",
            "Epoch 22/22\n",
            "74/74 [==============================] - 4s 55ms/step - loss: 0.0711 - accuracy: 0.9764 - val_loss: 0.4290 - val_accuracy: 0.8723\n"
          ],
          "name": "stdout"
        },
        {
          "output_type": "display_data",
          "data": {
            "image/png": "[encoded data removed]",
            "text/plain": [
              "<Figure size 432x288 with 1 Axes>"
            ]
          },
          "metadata": {
            "tags": []
          }
        }
      ]
    },
    {
      "cell_type": "code",
      "metadata": {
        "id": "bJKrCLcBJ_Vd",
        "colab_type": "code",
        "colab": {
          "base_uri": "https://localhost:8080/",
          "height": 50
        },
        "outputId": "f54f9d92-257d-4048-d47b-341b0f25d4e9"
      },
      "source": [
        "my_model.evaluate(x=x_test_norm, y=y_test, batch_size=batch_size)"
      ],
      "execution_count": null,
      "outputs": [
        {
          "output_type": "stream",
          "text": [
            "31/31 [==============================] - 1s 18ms/step - loss: 0.4593 - accuracy: 0.8661\n"
          ],
          "name": "stdout"
        },
        {
          "output_type": "execute_result",
          "data": {
            "text/plain": [
              "[0.4592846632003784, 0.8660850524902344]"
            ]
          },
          "metadata": {
            "tags": []
          },
          "execution_count": 22
        }
      ]
    }
  ]
}