{
  "nbformat": 4,
  "nbformat_minor": 0,
  "metadata": {
    "colab": {
      "name": "Tomato_Health_Condition_Classification (3).ipynb",
      "provenance": [],
      "collapsed_sections": [],
      "machine_shape": "hm",
      "include_colab_link": true
    },
    "kernelspec": {
      "name": "python3",
      "display_name": "Python 3"
    },
    "accelerator": "GPU"
  },
  "cells": [
    {
      "cell_type": "markdown",
      "metadata": {
        "id": "view-in-github",
        "colab_type": "text"
      },
      "source": [
        "<a href=\"https://colab.research.google.com/github/wiiloebis/bangkit_machine_learning_assigment/blob/master/Tomato_Health_Condition_Classification_(3).ipynb\" target=\"_parent\"><img src=\"https://colab.research.google.com/assets/colab-badge.svg\" alt=\"Open In Colab\"/></a>"
      ]
    },
    {
      "cell_type": "markdown",
      "metadata": {
        "colab_type": "text",
        "id": "eA13_adoVlwu"
      },
      "source": [
        "# Import the libs needed"
      ]
    },
    {
      "cell_type": "code",
      "metadata": {
        "id": "Zt5PjEFuIwsM",
        "colab_type": "code",
        "colab": {}
      },
      "source": [
        "%tensorflow_version 2.x"
      ],
      "execution_count": 1,
      "outputs": []
    },
    {
      "cell_type": "code",
      "metadata": {
        "colab_type": "code",
        "id": "uJa_TsdwUm5j",
        "colab": {
          "base_uri": "https://localhost:8080/",
          "height": 34
        },
        "outputId": "d1863e0f-5838-4372-96fa-c5f80837f352"
      },
      "source": [
        "import numpy as np\n",
        "import pandas as pd\n",
        "import matplotlib.pyplot as plt\n",
        "import os, sys\n",
        "import tensorflow as tf\n",
        "from tensorflow.keras import layers\n",
        "os.listdir(path='.')"
      ],
      "execution_count": 2,
      "outputs": [
        {
          "output_type": "execute_result",
          "data": {
            "text/plain": [
              "['.config', 'sample_data']"
            ]
          },
          "metadata": {
            "tags": []
          },
          "execution_count": 2
        }
      ]
    },
    {
      "cell_type": "markdown",
      "metadata": {
        "colab_type": "text",
        "id": "9RYX9d4-U7H6"
      },
      "source": [
        "# Check Tensorflow Version"
      ]
    },
    {
      "cell_type": "code",
      "metadata": {
        "colab_type": "code",
        "id": "vbwOtRE9U11h",
        "colab": {
          "base_uri": "https://localhost:8080/",
          "height": 35
        },
        "outputId": "41f9abc9-2073-47d6-b7ee-99431d9e8bc7"
      },
      "source": [
        "tf.__version__"
      ],
      "execution_count": 3,
      "outputs": [
        {
          "output_type": "execute_result",
          "data": {
            "application/vnd.google.colaboratory.intrinsic": {
              "type": "string"
            },
            "text/plain": [
              "'2.2.0'"
            ]
          },
          "metadata": {
            "tags": []
          },
          "execution_count": 3
        }
      ]
    },
    {
      "cell_type": "code",
      "metadata": {
        "id": "ZO7fsbqbWzHa",
        "colab_type": "code",
        "colab": {
          "resources": {
            "http://localhost:8080/nbextensions/google.colab/files.js": {
              "data": "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",
              "ok": true,
              "headers": [
                [
                  "content-type",
                  "application/javascript"
                ]
              ],
              "status": 200,
              "status_text": ""
            }
          },
          "base_uri": "https://localhost:8080/",
          "height": 86
        },
        "outputId": "5f7fdce7-d7d4-4222-aa6d-d4008538bd7d"
      },
      "source": [
        "! pip install -q kaggle\n",
        "from google.colab import files\n",
        "files.upload()"
      ],
      "execution_count": 4,
      "outputs": [
        {
          "output_type": "display_data",
          "data": {
            "text/html": [
              "\n",
              "     <input type=\"file\" id=\"files-f3af69fc-4737-48a2-9f32-64c902f912a6\" name=\"files[]\" multiple disabled\n",
              "        style=\"border:none\" />\n",
              "     <output id=\"result-f3af69fc-4737-48a2-9f32-64c902f912a6\">\n",
              "      Upload widget is only available when the cell has been executed in the\n",
              "      current browser session. Please rerun this cell to enable.\n",
              "      </output>\n",
              "      <script src=\"/nbextensions/google.colab/files.js\"></script> "
            ],
            "text/plain": [
              "<IPython.core.display.HTML object>"
            ]
          },
          "metadata": {
            "tags": []
          }
        },
        {
          "output_type": "stream",
          "text": [
            "Saving kaggle.json to kaggle.json\n"
          ],
          "name": "stdout"
        },
        {
          "output_type": "execute_result",
          "data": {
            "text/plain": [
              "{'kaggle.json': b'{\"username\":\"winniseptiani\",\"key\":\"805a0b70529185cca7c56d880e4bd576\"}'}"
            ]
          },
          "metadata": {
            "tags": []
          },
          "execution_count": 4
        }
      ]
    },
    {
      "cell_type": "code",
      "metadata": {
        "id": "EoelMvkbXQQs",
        "colab_type": "code",
        "colab": {
          "base_uri": "https://localhost:8080/",
          "height": 68
        },
        "outputId": "77261536-2b01-495f-c06f-8fe5648ef304"
      },
      "source": [
        "# Download and split the dataset into train/val dataset\n",
        "# The data set source https://www.kaggle.com/hereisburak/pins-face-recognition\n",
        "# import zipfile\n",
        "! mkdir ~/.kaggle\n",
        "! cp kaggle.json ~/.kaggle/\n",
        "! chmod 600 ~/.kaggle/kaggle.json\n",
        "! kaggle datasets download -d noulam/tomato\n",
        "! unzip -q tomato.zip\n",
        "# with zipfile.ZipFile('259770%2F544347%2Fbundle%2Farchive.zip', 'r') as zip_ref:\n",
        "#     zip_ref.extractall('/content/tomatoleaf')"
      ],
      "execution_count": 5,
      "outputs": [
        {
          "output_type": "stream",
          "text": [
            "Downloading tomato.zip to /content\n",
            " 99% 732M/743M [00:07<00:00, 139MB/s]\n",
            "100% 743M/743M [00:08<00:00, 97.0MB/s]\n"
          ],
          "name": "stdout"
        }
      ]
    },
    {
      "cell_type": "markdown",
      "metadata": {
        "colab_type": "text",
        "id": "ookKQj3QVx0G"
      },
      "source": [
        "# Define a function to get directories name/path"
      ]
    },
    {
      "cell_type": "code",
      "metadata": {
        "colab_type": "code",
        "id": "9MPQ4SaxV0lW",
        "colab": {}
      },
      "source": [
        "def get_file_path_in_dir(dir_name):\n",
        "    ''' Get the full path name of files/folders in\n",
        "    directory specified by path to directory in\n",
        "    argument \"dir_name\" and return it as a list\n",
        "\n",
        "    dir_name is a Path from the directory of your current working script to the folder that you want to\n",
        "    check all of the subfolder/file\n",
        "    example:\n",
        "    pwd\n",
        "    /usr/Documents\n",
        "    ls .\n",
        "    Music\n",
        "    document.txt\n",
        "\n",
        "    get_file_path_in_dir('usr/Documents')\n",
        "    returns\n",
        "    [/usr/Documents/Music,\n",
        "    /usr/Documents/document.txt]\n",
        "    '''\n",
        "    target_dir = os.listdir(dir_name)\n",
        "    dir_list = []\n",
        "    for entry in target_dir:\n",
        "        full_path = os.path.join(dir_name, entry)\n",
        "        dir_list.append(full_path)\n",
        "    \n",
        "    return dir_list"
      ],
      "execution_count": 6,
      "outputs": []
    },
    {
      "cell_type": "markdown",
      "metadata": {
        "colab_type": "text",
        "id": "irbunTDaXBYh"
      },
      "source": [
        "# Define a function to get folder/file in a directory"
      ]
    },
    {
      "cell_type": "code",
      "metadata": {
        "colab_type": "code",
        "id": "jNgdxM0gXCIU",
        "colab": {}
      },
      "source": [
        "def get_sub_dir_names(path_to_dir):\n",
        "    '''Get the name of all file/folder in a directory specified\n",
        "    by the path \"path_to_dir\" and return it as list\n",
        "    example:\n",
        "    pwd\n",
        "    /usr/Documents\n",
        "    ls .\n",
        "    Music\n",
        "    documents.txt\n",
        "\n",
        "    get_sub_dir_names('usr/Documents')\n",
        "    returns\n",
        "    ['Music',\n",
        "    'documents.txt']\n",
        "\n",
        "    '''\n",
        "    subdir_path_list = get_file_path_in_dir(path_to_dir)\n",
        "    subdir_name_list = []\n",
        "    for subdir in subdir_path_list:\n",
        "        subdir_name_list.append(subdir.split(\"\\\\\")[-1])\n",
        "    return subdir_name_list"
      ],
      "execution_count": 7,
      "outputs": []
    },
    {
      "cell_type": "markdown",
      "metadata": {
        "colab_type": "text",
        "id": "KjQVpEy2WK8b"
      },
      "source": [
        "# Get the full path of each subdirectory in a directory specify by the variable train_dir_name\n",
        "train_dir_name contain path from current working directory(relative path) to the directory containing"
      ]
    },
    {
      "cell_type": "code",
      "metadata": {
        "colab_type": "code",
        "id": "rQWn5C6FWPiO",
        "colab": {}
      },
      "source": [
        "# get every path to subfolder/file in train_dir_name folder\n",
        "# train_dir_name = 'New Plant Diseases Dataset(Augmented)\\\\New Plant Diseases Dataset(Augmented)\\\\train\\\\'\n",
        "train_dir_name = '/content/New Plant Diseases Dataset(Augmented)/train/'\n",
        "train_data_dir = get_file_path_in_dir(train_dir_name)"
      ],
      "execution_count": 8,
      "outputs": []
    },
    {
      "cell_type": "code",
      "metadata": {
        "colab_type": "code",
        "id": "WtheiXKPXXK7",
        "colab": {
          "base_uri": "https://localhost:8080/",
          "height": 187
        },
        "outputId": "848754f1-8b9c-4ac7-91d2-22b8da1e906c"
      },
      "source": [
        "tomato_class_list = os.listdir(train_dir_name)\n",
        "tomato_class_list"
      ],
      "execution_count": 9,
      "outputs": [
        {
          "output_type": "execute_result",
          "data": {
            "text/plain": [
              "['Tomato___Tomato_Yellow_Leaf_Curl_Virus',\n",
              " 'Tomato___Bacterial_spot',\n",
              " 'Tomato___Tomato_mosaic_virus',\n",
              " 'Tomato___Target_Spot',\n",
              " 'Tomato___Early_blight',\n",
              " 'Tomato___healthy',\n",
              " 'Tomato___Spider_mites Two-spotted_spider_mite',\n",
              " 'Tomato___Leaf_Mold',\n",
              " 'Tomato___Late_blight',\n",
              " 'Tomato___Septoria_leaf_spot']"
            ]
          },
          "metadata": {
            "tags": []
          },
          "execution_count": 9
        }
      ]
    },
    {
      "cell_type": "code",
      "metadata": {
        "colab_type": "code",
        "id": "dj28VeZjXcPz",
        "colab": {}
      },
      "source": [
        "import PIL\n",
        "from PIL import Image, ImageOps"
      ],
      "execution_count": 11,
      "outputs": []
    },
    {
      "cell_type": "code",
      "metadata": {
        "colab_type": "code",
        "id": "6NFf27xIXh3Q",
        "colab": {}
      },
      "source": [
        "def image_to_ndarray(path_to_image):\n",
        "    \"\"\"read image from the file path name and\n",
        "    convert the image to np array with dimension of 200x200x3 pixel\n",
        "    example:\n",
        "    image_to_ndarray(\"usr/Documents/fish.jpg\")\n",
        "    returns\n",
        "    np.array\n",
        "    where np.array.shape is (100,100,3)\n",
        "    \"\"\"\n",
        "    image = Image.open(path_to_image)\n",
        "    # Resize image to 100x100 pixel\n",
        "    image_resize = ImageOps.fit(image, (100, 100), Image.ANTIALIAS)\n",
        "    data = np.asarray(image_resize)\n",
        "    return data"
      ],
      "execution_count": 12,
      "outputs": []
    },
    {
      "cell_type": "markdown",
      "metadata": {
        "colab_type": "text",
        "id": "QbDQYwZxXmhi"
      },
      "source": [
        "# Read Train image dataset to np array\n",
        "we will also map each label of the image"
      ]
    },
    {
      "cell_type": "code",
      "metadata": {
        "colab_type": "code",
        "id": "YQWCAlfkXprf",
        "colab": {}
      },
      "source": [
        "def read_image_dir_to_np_array(dir_name, class_list):\n",
        "    \"\"\"take path to directory name which contains images file,\n",
        "       read the image into np array, and return list of image and its corresponding label\"\"\"\n",
        "    image_dataset = []\n",
        "    label = []\n",
        "    for cla in class_list:\n",
        "        class_items = get_file_path_in_dir(dir_name+\"/\"+cla)\n",
        "        print(\"class name: \", cla)\n",
        "        # class_items = get_file_path_in_dir(cla)\n",
        "        for item in class_items:\n",
        "            data = image_to_ndarray(item)\n",
        "            image_dataset.append(data)\n",
        "            label.append(cla)\n",
        "\n",
        "    return image_dataset, label"
      ],
      "execution_count": 15,
      "outputs": []
    },
    {
      "cell_type": "code",
      "metadata": {
        "colab_type": "code",
        "id": "0t9_AW88XsRH",
        "colab": {
          "base_uri": "https://localhost:8080/",
          "height": 187
        },
        "outputId": "e05659e6-c476-43e4-ead9-d7a59ad122f9"
      },
      "source": [
        "train_numpy_dataset, label_train = read_image_dir_to_np_array(train_dir_name, tomato_class_list)"
      ],
      "execution_count": 16,
      "outputs": [
        {
          "output_type": "stream",
          "text": [
            "class name:  Tomato___Tomato_Yellow_Leaf_Curl_Virus\n",
            "class name:  Tomato___Bacterial_spot\n",
            "class name:  Tomato___Tomato_mosaic_virus\n",
            "class name:  Tomato___Target_Spot\n",
            "class name:  Tomato___Early_blight\n",
            "class name:  Tomato___healthy\n",
            "class name:  Tomato___Spider_mites Two-spotted_spider_mite\n",
            "class name:  Tomato___Leaf_Mold\n",
            "class name:  Tomato___Late_blight\n",
            "class name:  Tomato___Septoria_leaf_spot\n"
          ],
          "name": "stdout"
        }
      ]
    },
    {
      "cell_type": "markdown",
      "metadata": {
        "colab_type": "text",
        "id": "e48vCqrRXwNe"
      },
      "source": [
        "# Convert array of image into numpy array\n",
        "the dimension of the array is as follows: (m, h, w, 3) where m is the number of image, h is the height of each image, w is the width of the image, and 3 is for the number of color channel(RGB)"
      ]
    },
    {
      "cell_type": "code",
      "metadata": {
        "colab_type": "code",
        "id": "Y0r94kHwX0Fr",
        "colab": {
          "base_uri": "https://localhost:8080/",
          "height": 34
        },
        "outputId": "2ee43fbe-47ed-45db-c735-40595a2397de"
      },
      "source": [
        "train_numpy_dataset = np.array(train_numpy_dataset)\n",
        "train_numpy_dataset.shape"
      ],
      "execution_count": 17,
      "outputs": [
        {
          "output_type": "execute_result",
          "data": {
            "text/plain": [
              "(18345, 100, 100, 3)"
            ]
          },
          "metadata": {
            "tags": []
          },
          "execution_count": 17
        }
      ]
    },
    {
      "cell_type": "code",
      "metadata": {
        "colab_type": "code",
        "id": "lxOxlttgX0uv",
        "colab": {}
      },
      "source": [
        "# Create set of unique labels and make a dictionary that maps the label to unique integer number\n",
        "label_unique = list(set(label_train))\n",
        "label_dict = dict((label, index) for index, label in enumerate(label_unique))\n",
        "label_df = pd.DataFrame(label_dict.items(), columns=['Tomato Health', 'Health Label'])\n",
        "label_df.to_csv(\"category_to_num.csv\")"
      ],
      "execution_count": 18,
      "outputs": []
    },
    {
      "cell_type": "code",
      "metadata": {
        "colab_type": "code",
        "id": "3IV5WLWqX4Us",
        "colab": {
          "base_uri": "https://localhost:8080/",
          "height": 187
        },
        "outputId": "368b050e-4489-49bd-ab7a-e4ce697477de"
      },
      "source": [
        "label_dict"
      ],
      "execution_count": 19,
      "outputs": [
        {
          "output_type": "execute_result",
          "data": {
            "text/plain": [
              "{'Tomato___Bacterial_spot': 6,\n",
              " 'Tomato___Early_blight': 1,\n",
              " 'Tomato___Late_blight': 9,\n",
              " 'Tomato___Leaf_Mold': 5,\n",
              " 'Tomato___Septoria_leaf_spot': 4,\n",
              " 'Tomato___Spider_mites Two-spotted_spider_mite': 7,\n",
              " 'Tomato___Target_Spot': 8,\n",
              " 'Tomato___Tomato_Yellow_Leaf_Curl_Virus': 2,\n",
              " 'Tomato___Tomato_mosaic_virus': 0,\n",
              " 'Tomato___healthy': 3}"
            ]
          },
          "metadata": {
            "tags": []
          },
          "execution_count": 19
        }
      ]
    },
    {
      "cell_type": "code",
      "metadata": {
        "colab_type": "code",
        "id": "cfHbKB_bX4wB",
        "colab": {
          "base_uri": "https://localhost:8080/",
          "height": 117
        },
        "outputId": "4bea6fc9-6b02-43cb-ee2c-591fbdb143c0"
      },
      "source": [
        "# label_train\n",
        "Image.fromarray(train_numpy_dataset[1])"
      ],
      "execution_count": 20,
      "outputs": [
        {
          "output_type": "execute_result",
          "data": {
            "image/png": "[encoded data removed]",
            "text/plain": [
              "<PIL.Image.Image image mode=RGB size=100x100 at 0x7F1900F14BE0>"
            ]
          },
          "metadata": {
            "tags": []
          },
          "execution_count": 20
        }
      ]
    },
    {
      "cell_type": "code",
      "metadata": {
        "colab_type": "code",
        "id": "Ll47anfTX7FE",
        "colab": {
          "base_uri": "https://localhost:8080/",
          "height": 34
        },
        "outputId": "8e8f0fd6-042c-4d99-9c4e-f3cee44c63e0"
      },
      "source": [
        "# map train label to dictionary value\n",
        "train_numpy_label = np.array([label_dict[key] for key in label_train])\n",
        "train_numpy_label"
      ],
      "execution_count": 30,
      "outputs": [
        {
          "output_type": "execute_result",
          "data": {
            "text/plain": [
              "array([4, 4, 4, ..., 1, 1, 1])"
            ]
          },
          "metadata": {
            "tags": []
          },
          "execution_count": 30
        }
      ]
    },
    {
      "cell_type": "code",
      "metadata": {
        "colab_type": "code",
        "id": "__qpEk4TX8-v",
        "colab": {
          "base_uri": "https://localhost:8080/",
          "height": 34
        },
        "outputId": "9574eb1f-78c5-4b31-d972-f3417500c092"
      },
      "source": [
        "train_numpy_label.shape"
      ],
      "execution_count": 31,
      "outputs": [
        {
          "output_type": "execute_result",
          "data": {
            "text/plain": [
              "(18345,)"
            ]
          },
          "metadata": {
            "tags": []
          },
          "execution_count": 31
        }
      ]
    },
    {
      "cell_type": "markdown",
      "metadata": {
        "colab_type": "text",
        "id": "O3K6GAM0YA_x"
      },
      "source": [
        "# Save train dataset and its label as npz file"
      ]
    },
    {
      "cell_type": "code",
      "metadata": {
        "colab_type": "code",
        "id": "Sbu_au5OYDb8",
        "colab": {}
      },
      "source": [
        "np.savez(\"tomato_leaves100.npz\", train_numpy_dataset, train_numpy_label)"
      ],
      "execution_count": 32,
      "outputs": []
    },
    {
      "cell_type": "markdown",
      "metadata": {
        "colab_type": "text",
        "id": "e4pLDRSxYKlO"
      },
      "source": [
        "# Read validate dataset to np array"
      ]
    },
    {
      "cell_type": "code",
      "metadata": {
        "colab_type": "code",
        "id": "8UWL1ipQYNO2",
        "colab": {
          "base_uri": "https://localhost:8080/",
          "height": 207
        },
        "outputId": "1ebe52dc-83e9-4145-9819-d5e618351190"
      },
      "source": [
        "valid_dir_name = 'New Plant Diseases Dataset(Augmented)\\\\New Plant Diseases Dataset(Augmented)\\\\valid\\\\'\n",
        "valid_numpy, label_valid = read_image_dir_to_np_array(valid_dir_name, tomato_class_list)\n",
        "valid_numpy_label = np.array([label_dict[key] for key in label_valid])"
      ],
      "execution_count": 33,
      "outputs": [
        {
          "output_type": "stream",
          "text": [
            "class name:  /content/new plant diseases dataset(augmented)/New Plant Diseases Dataset(Augmented)/train/Tomato___Tomato_Yellow_Leaf_Curl_Virus\n",
            "class name:  /content/new plant diseases dataset(augmented)/New Plant Diseases Dataset(Augmented)/train/Tomato___Bacterial_spot\n",
            "class name:  /content/new plant diseases dataset(augmented)/New Plant Diseases Dataset(Augmented)/train/Tomato___Tomato_mosaic_virus\n",
            "class name:  /content/new plant diseases dataset(augmented)/New Plant Diseases Dataset(Augmented)/train/Tomato___Target_Spot\n",
            "class name:  /content/new plant diseases dataset(augmented)/New Plant Diseases Dataset(Augmented)/train/Tomato___Early_blight\n",
            "class name:  /content/new plant diseases dataset(augmented)/New Plant Diseases Dataset(Augmented)/train/Tomato___healthy\n",
            "class name:  /content/new plant diseases dataset(augmented)/New Plant Diseases Dataset(Augmented)/train/Tomato___Spider_mites Two-spotted_spider_mite\n",
            "class name:  /content/new plant diseases dataset(augmented)/New Plant Diseases Dataset(Augmented)/train/Tomato___Leaf_Mold\n",
            "class name:  /content/new plant diseases dataset(augmented)/New Plant Diseases Dataset(Augmented)/train/Tomato___Late_blight\n",
            "class name:  /content/new plant diseases dataset(augmented)/New Plant Diseases Dataset(Augmented)/train/Tomato___Septoria_leaf_spot\n"
          ],
          "name": "stdout"
        }
      ]
    },
    {
      "cell_type": "code",
      "metadata": {
        "colab_type": "code",
        "id": "p0bfdYDZYPMW",
        "colab": {
          "base_uri": "https://localhost:8080/",
          "height": 34
        },
        "outputId": "d99ecacb-bb95-4c9a-b01f-f90c90db6705"
      },
      "source": [
        "# Convert list of validation image matrix into np array\n",
        "valid_numpy = np.array(valid_numpy)\n",
        "valid_numpy.shape"
      ],
      "execution_count": 34,
      "outputs": [
        {
          "output_type": "execute_result",
          "data": {
            "text/plain": [
              "(18345, 100, 100, 3)"
            ]
          },
          "metadata": {
            "tags": []
          },
          "execution_count": 34
        }
      ]
    },
    {
      "cell_type": "code",
      "metadata": {
        "colab_type": "code",
        "id": "3iBCTgb0Yitz",
        "colab": {}
      },
      "source": [
        "np.savez(\"tomato_leaves_test100.npz\", valid_numpy, valid_numpy_label)"
      ],
      "execution_count": 35,
      "outputs": []
    },
    {
      "cell_type": "code",
      "metadata": {
        "colab_type": "code",
        "id": "QME0Gq-hYmeb",
        "colab": {
          "base_uri": "https://localhost:8080/",
          "height": 34
        },
        "outputId": "7cd2f53f-819f-4344-a0e3-028bc1a5100b"
      },
      "source": [
        "valid_numpy_label.shape"
      ],
      "execution_count": 36,
      "outputs": [
        {
          "output_type": "execute_result",
          "data": {
            "text/plain": [
              "(18345,)"
            ]
          },
          "metadata": {
            "tags": []
          },
          "execution_count": 36
        }
      ]
    },
    {
      "cell_type": "markdown",
      "metadata": {
        "id": "dak4zvqfIUqO",
        "colab_type": "text"
      },
      "source": [
        "## Modelling"
      ]
    },
    {
      "cell_type": "code",
      "metadata": {
        "scrolled": false,
        "id": "K5xYRb3mIUqP",
        "colab_type": "code",
        "colab": {}
      },
      "source": [
        "npz_train = np.load('/content/tomato_leaves100.npz')"
      ],
      "execution_count": 38,
      "outputs": []
    },
    {
      "cell_type": "code",
      "metadata": {
        "id": "q5XLryX1IUqT",
        "colab_type": "code",
        "colab": {
          "base_uri": "https://localhost:8080/",
          "height": 34
        },
        "outputId": "4e3bd22b-861e-4cc4-8629-0cde23504847"
      },
      "source": [
        "x_train = npz_train['arr_0']\n",
        "y_train = npz_train['arr_1']\n",
        "y_train.shape"
      ],
      "execution_count": 39,
      "outputs": [
        {
          "output_type": "execute_result",
          "data": {
            "text/plain": [
              "(18345,)"
            ]
          },
          "metadata": {
            "tags": []
          },
          "execution_count": 39
        }
      ]
    },
    {
      "cell_type": "code",
      "metadata": {
        "id": "zteXnMnrIUqX",
        "colab_type": "code",
        "colab": {}
      },
      "source": [
        "# shuffle training data\n",
        "index_shuffle = np.random.permutation(len(x_train))\n",
        "x_train = x_train[index_shuffle]\n",
        "y_train = y_train[index_shuffle]"
      ],
      "execution_count": 44,
      "outputs": []
    },
    {
      "cell_type": "code",
      "metadata": {
        "id": "Im91G2aUIUqc",
        "colab_type": "code",
        "colab": {}
      },
      "source": [
        "npz_test = np.load('/content/tomato_leaves_test100.npz')\n",
        "x_test = npz_test['arr_0']\n",
        "y_test = npz_test['arr_1']"
      ],
      "execution_count": 45,
      "outputs": []
    },
    {
      "cell_type": "code",
      "metadata": {
        "id": "jwJD6D-UIUqi",
        "colab_type": "code",
        "colab": {}
      },
      "source": [
        "# shuffle test data\n",
        "index_shuffle = np.random.permutation(len(x_test))\n",
        "x_test = x_test[index_shuffle]\n",
        "y_test = y_test[index_shuffle]"
      ],
      "execution_count": 46,
      "outputs": []
    },
    {
      "cell_type": "code",
      "metadata": {
        "id": "VNTEMXN3IUqp",
        "colab_type": "code",
        "colab": {
          "base_uri": "https://localhost:8080/",
          "height": 34
        },
        "outputId": "ff0d46d6-b42f-42e9-d9be-f3775457c465"
      },
      "source": [
        "y_test"
      ],
      "execution_count": 47,
      "outputs": [
        {
          "output_type": "execute_result",
          "data": {
            "text/plain": [
              "array([7, 5, 3, ..., 7, 9, 0])"
            ]
          },
          "metadata": {
            "tags": []
          },
          "execution_count": 47
        }
      ]
    },
    {
      "cell_type": "code",
      "metadata": {
        "id": "WrlikhLmIUqu",
        "colab_type": "code",
        "colab": {
          "base_uri": "https://localhost:8080/",
          "height": 285
        },
        "outputId": "2e7a29e6-d2c0-4e38-a484-9811e72b9bd0"
      },
      "source": [
        "plt.imshow(x_train[20])"
      ],
      "execution_count": 48,
      "outputs": [
        {
          "output_type": "execute_result",
          "data": {
            "text/plain": [
              "<matplotlib.image.AxesImage at 0x7f933be93898>"
            ]
          },
          "metadata": {
            "tags": []
          },
          "execution_count": 48
        },
        {
          "output_type": "display_data",
          "data": {
            "image/png": "[encoded data removed]",
            "text/plain": [
              "<Figure size 432x288 with 1 Axes>"
            ]
          },
          "metadata": {
            "tags": [],
            "needs_background": "light"
          }
        }
      ]
    },
    {
      "cell_type": "code",
      "metadata": {
        "id": "xIkNTlL6IUq1",
        "colab_type": "code",
        "colab": {
          "base_uri": "https://localhost:8080/",
          "height": 285
        },
        "outputId": "90ccebe0-21bf-4a1b-d77e-a624eefb2839"
      },
      "source": [
        "plt.imshow(x_test[20])"
      ],
      "execution_count": 49,
      "outputs": [
        {
          "output_type": "execute_result",
          "data": {
            "text/plain": [
              "<matplotlib.image.AxesImage at 0x7f933bf40240>"
            ]
          },
          "metadata": {
            "tags": []
          },
          "execution_count": 49
        },
        {
          "output_type": "display_data",
          "data": {
            "image/png": "[encoded data removed]",
            "text/plain": [
              "<Figure size 432x288 with 1 Axes>"
            ]
          },
          "metadata": {
            "tags": [],
            "needs_background": "light"
          }
        }
      ]
    },
    {
      "cell_type": "code",
      "metadata": {
        "id": "gZmRJDLqIUq6",
        "colab_type": "code",
        "colab": {}
      },
      "source": [
        "x_train_norm = x_train / 255.0\n",
        "x_test_norm = x_test / 255.0"
      ],
      "execution_count": 50,
      "outputs": []
    },
    {
      "cell_type": "markdown",
      "metadata": {
        "id": "NJqXSN0eIUq_",
        "colab_type": "text"
      },
      "source": [
        "## Build a Neural Network"
      ]
    },
    {
      "cell_type": "code",
      "metadata": {
        "id": "Y05sRLobIUrB",
        "colab_type": "code",
        "colab": {}
      },
      "source": [
        "# define plotting loss function\n",
        "\n",
        "def plot_curve(epochs, hist, list_of_metrics):\n",
        "  \"\"\"Plot a curve one or more classification metrics vs. epoch.\"\"\"\n",
        "\n",
        "  plt.figure()\n",
        "  plt.xlabel(\"Epoch\")\n",
        "  plt.ylabel(\"Value\")\n",
        "\n",
        "  for m in list_of_metrics:\n",
        "    x = hist[m]\n",
        "    plt.plot(epochs[1:], x[1:], label=m)\n",
        "\n",
        "  plt.legend()\n",
        "  plt.show()"
      ],
      "execution_count": 51,
      "outputs": []
    },
    {
      "cell_type": "code",
      "metadata": {
        "id": "WXgb_1ilIUrG",
        "colab_type": "code",
        "colab": {}
      },
      "source": [
        "# define deep neural network model\n",
        "def create_model(learning_rate,neurons_number=270,regularizer=0.15,dropout_rate=0.4):\n",
        "  \"\"\"Create and compile deep neural net model\"\"\"\n",
        "  model = tf.keras.models.Sequential()\n",
        "\n",
        "  # Add the layer containing the feature columns to the model.\n",
        "  model.add(tf.keras.layers.Flatten(input_shape=(100, 100, 3)))\n",
        "\n",
        "  # Define the first hidden layer\n",
        "  model.add(tf.keras.layers.Dense(units=neurons_number,\n",
        "                                  activation='relu',\n",
        "                                  kernel_regularizer=tf.keras.regularizers.l2(regularizer),\n",
        "                                  name='Hidden1'))\n",
        "  \n",
        "  # Define a dropout regularization layer. \n",
        "  model.add(tf.keras.layers.Dropout(rate=dropout_rate))\n",
        "\n",
        "  # Define the output layer\n",
        "  model.add(tf.keras.layers.Dense(units=10,\n",
        "                                  activation='softmax',\n",
        "                                  name='Output'))\n",
        "  \n",
        "  model.compile(optimizer=tf.keras.optimizers.Adam(lr=learning_rate),\n",
        "                loss=\"sparse_categorical_crossentropy\",\n",
        "                metrics=['accuracy'])\n",
        "  \n",
        "  return model"
      ],
      "execution_count": 52,
      "outputs": []
    },
    {
      "cell_type": "code",
      "metadata": {
        "id": "eoJeQyWb_STz",
        "colab_type": "code",
        "colab": {}
      },
      "source": [
        "gen = ImageDataGenerator(\n",
        "            rotation_range=8,\n",
        "            width_shift_range=0.08,\n",
        "            shear_range=0.3,\n",
        "            height_shift_range=0.08,\n",
        "            zoom_range=0.08\n",
        "            )\n",
        "test_gen = ImageDataGenerator()\n",
        "train_generator = gen.flow(x_train, y_train, batch_size)\n",
        "test_generator = test_gen.flow(x_test, y_test, batch_size)"
      ],
      "execution_count": null,
      "outputs": []
    },
    {
      "cell_type": "code",
      "metadata": {
        "id": "sRBBgw-HIUrM",
        "colab_type": "code",
        "colab": {}
      },
      "source": [
        "# def train_model(model, train_features, train_label, epochs,\n",
        "#                 batch_size=None, validation_split=0.05):\n",
        "#   \"\"\"Train the model by feeding it data.\"\"\"\n",
        "\n",
        "#   history = model.fit(x=train_features, y=train_label, batch_size=batch_size,\n",
        "#                       epochs=epochs, shuffle=True,\n",
        "#                       validation_split=validation_split)\n",
        "#  history =  model.fit_generator(\n",
        "#                     train_generator,\n",
        "#                     steps_per_epoch = train_generator.samples // batch_size,\n",
        "#                     validation_data = validation_generator, \n",
        "#                     validation_steps = validation_generator.samples // batch_size,\n",
        "#                     epochs = nb_epochs)\n",
        "  \n",
        "#   # The list of epochs of the model\n",
        "#   epochs = history.epoch\n",
        "\n",
        "#   # gather a snapshot of the model's mean squared error\n",
        "#   # at each epoch.\n",
        "#   hist = pd.DataFrame(history.history)\n",
        "\n",
        "#   return epochs, hist\n",
        "\n",
        "def train_model(model, train_generator, validation_generator, train_label, epochs,\n",
        "                batch_size=None):\n",
        "  \"\"\"Train the model by feeding it data.\"\"\"\n",
        " history =  model.fit_generator(\n",
        "                    train_generator,\n",
        "                    steps_per_epoch = train_generator.samples // batch_size,\n",
        "                    validation_data = validation_generator, \n",
        "                    validation_steps = validation_generator.samples // batch_size,\n",
        "                    epochs = nb_epochs)\n",
        "  \n",
        "  # The list of epochs of the model\n",
        "  epochs = history.epoch\n",
        "\n",
        "  # gather a snapshot of the model's mean squared error\n",
        "  # at each epoch.\n",
        "  hist = pd.DataFrame(history.history)\n",
        "\n",
        "  return epochs, hist"
      ],
      "execution_count": 53,
      "outputs": []
    },
    {
      "cell_type": "code",
      "metadata": {
        "id": "VeIcfUSMIUrT",
        "colab_type": "code",
        "colab": {
          "base_uri": "https://localhost:8080/",
          "height": 1000
        },
        "outputId": "115e639c-7dd6-4e34-e4d9-be862576b180"
      },
      "source": [
        "# define the hyperparameters\n",
        "learning_rate = 0.000008\n",
        "epochs = 70\n",
        "batch_size = 150\n",
        "validation_split = 0.4\n",
        "\n",
        "\n",
        "# Established model's topography\n",
        "my_model = create_model(learning_rate)\n",
        "\n",
        "# Train the model on normalized training set\n",
        "epochs, hist = train_model(my_model, x_train_norm, y_train, epochs,\n",
        "                          batch_size, validation_split)\n",
        "\n",
        "# plot accuracy vs epochs of training\n",
        "list_of_metrics_to_plot = ['accuracy'] \n",
        "plot_curve(epochs, hist, list_of_metrics_to_plot)"
      ],
      "execution_count": 54,
      "outputs": [
        {
          "output_type": "stream",
          "text": [
            "Epoch 1/70\n",
            "74/74 [==============================] - 3s 42ms/step - loss: 79.0727 - accuracy: 0.1832 - val_loss: 75.3049 - val_accuracy: 0.2854\n",
            "Epoch 2/70\n",
            "74/74 [==============================] - 2s 24ms/step - loss: 71.9914 - accuracy: 0.2818 - val_loss: 68.5686 - val_accuracy: 0.4047\n",
            "Epoch 3/70\n",
            "74/74 [==============================] - 2s 24ms/step - loss: 65.5646 - accuracy: 0.3432 - val_loss: 62.4559 - val_accuracy: 0.4177\n",
            "Epoch 4/70\n",
            "74/74 [==============================] - 2s 24ms/step - loss: 59.7490 - accuracy: 0.3789 - val_loss: 56.9308 - val_accuracy: 0.4595\n",
            "Epoch 5/70\n",
            "74/74 [==============================] - 2s 24ms/step - loss: 54.4730 - accuracy: 0.4189 - val_loss: 51.9140 - val_accuracy: 0.4721\n",
            "Epoch 6/70\n",
            "74/74 [==============================] - 2s 24ms/step - loss: 49.6959 - accuracy: 0.4288 - val_loss: 47.3909 - val_accuracy: 0.4722\n",
            "Epoch 7/70\n",
            "74/74 [==============================] - 2s 24ms/step - loss: 45.3662 - accuracy: 0.4458 - val_loss: 43.2421 - val_accuracy: 0.5113\n",
            "Epoch 8/70\n",
            "74/74 [==============================] - 2s 24ms/step - loss: 41.4314 - accuracy: 0.4616 - val_loss: 39.5006 - val_accuracy: 0.5300\n",
            "Epoch 9/70\n",
            "74/74 [==============================] - 2s 24ms/step - loss: 37.8622 - accuracy: 0.4746 - val_loss: 36.1084 - val_accuracy: 0.5270\n",
            "Epoch 10/70\n",
            "74/74 [==============================] - 2s 24ms/step - loss: 34.6114 - accuracy: 0.4905 - val_loss: 33.0211 - val_accuracy: 0.5432\n",
            "Epoch 11/70\n",
            "74/74 [==============================] - 2s 24ms/step - loss: 31.6565 - accuracy: 0.4917 - val_loss: 30.2017 - val_accuracy: 0.5382\n",
            "Epoch 12/70\n",
            "74/74 [==============================] - 2s 24ms/step - loss: 28.9615 - accuracy: 0.5016 - val_loss: 27.6454 - val_accuracy: 0.5433\n",
            "Epoch 13/70\n",
            "74/74 [==============================] - 2s 24ms/step - loss: 26.5054 - accuracy: 0.5156 - val_loss: 25.2962 - val_accuracy: 0.5457\n",
            "Epoch 14/70\n",
            "74/74 [==============================] - 2s 24ms/step - loss: 24.2753 - accuracy: 0.5248 - val_loss: 23.1661 - val_accuracy: 0.5675\n",
            "Epoch 15/70\n",
            "74/74 [==============================] - 2s 24ms/step - loss: 22.2355 - accuracy: 0.5273 - val_loss: 21.2291 - val_accuracy: 0.5616\n",
            "Epoch 16/70\n",
            "74/74 [==============================] - 2s 24ms/step - loss: 20.3797 - accuracy: 0.5339 - val_loss: 19.4550 - val_accuracy: 0.5838\n",
            "Epoch 17/70\n",
            "74/74 [==============================] - 2s 24ms/step - loss: 18.7017 - accuracy: 0.5392 - val_loss: 17.8556 - val_accuracy: 0.5714\n",
            "Epoch 18/70\n",
            "74/74 [==============================] - 2s 24ms/step - loss: 17.1667 - accuracy: 0.5350 - val_loss: 16.4022 - val_accuracy: 0.5736\n",
            "Epoch 19/70\n",
            "74/74 [==============================] - 2s 24ms/step - loss: 15.7674 - accuracy: 0.5491 - val_loss: 15.0775 - val_accuracy: 0.5760\n",
            "Epoch 20/70\n",
            "74/74 [==============================] - 2s 24ms/step - loss: 14.4975 - accuracy: 0.5512 - val_loss: 13.8706 - val_accuracy: 0.5756\n",
            "Epoch 21/70\n",
            "74/74 [==============================] - 2s 24ms/step - loss: 13.3533 - accuracy: 0.5529 - val_loss: 12.7932 - val_accuracy: 0.5576\n",
            "Epoch 22/70\n",
            "74/74 [==============================] - 2s 24ms/step - loss: 12.3068 - accuracy: 0.5563 - val_loss: 11.7758 - val_accuracy: 0.6006\n",
            "Epoch 23/70\n",
            "74/74 [==============================] - 2s 24ms/step - loss: 11.3475 - accuracy: 0.5586 - val_loss: 10.8739 - val_accuracy: 0.5921\n",
            "Epoch 24/70\n",
            "74/74 [==============================] - 2s 24ms/step - loss: 10.4870 - accuracy: 0.5640 - val_loss: 10.0411 - val_accuracy: 0.5932\n",
            "Epoch 25/70\n",
            "74/74 [==============================] - 2s 24ms/step - loss: 9.7029 - accuracy: 0.5684 - val_loss: 9.2977 - val_accuracy: 0.5931\n",
            "Epoch 26/70\n",
            "74/74 [==============================] - 2s 24ms/step - loss: 8.9877 - accuracy: 0.5686 - val_loss: 8.6363 - val_accuracy: 0.5811\n",
            "Epoch 27/70\n",
            "74/74 [==============================] - 2s 24ms/step - loss: 8.3332 - accuracy: 0.5760 - val_loss: 7.9991 - val_accuracy: 0.6056\n",
            "Epoch 28/70\n",
            "74/74 [==============================] - 2s 24ms/step - loss: 7.7441 - accuracy: 0.5705 - val_loss: 7.4352 - val_accuracy: 0.6064\n",
            "Epoch 29/70\n",
            "74/74 [==============================] - 2s 24ms/step - loss: 7.1949 - accuracy: 0.5804 - val_loss: 6.9310 - val_accuracy: 0.6007\n",
            "Epoch 30/70\n",
            "74/74 [==============================] - 2s 24ms/step - loss: 6.7137 - accuracy: 0.5767 - val_loss: 6.4609 - val_accuracy: 0.6002\n",
            "Epoch 31/70\n",
            "74/74 [==============================] - 2s 24ms/step - loss: 6.2644 - accuracy: 0.5830 - val_loss: 6.0341 - val_accuracy: 0.5983\n",
            "Epoch 32/70\n",
            "74/74 [==============================] - 2s 24ms/step - loss: 5.8620 - accuracy: 0.5734 - val_loss: 5.6490 - val_accuracy: 0.6056\n",
            "Epoch 33/70\n",
            "74/74 [==============================] - 2s 24ms/step - loss: 5.4845 - accuracy: 0.5794 - val_loss: 5.2975 - val_accuracy: 0.5913\n",
            "Epoch 34/70\n",
            "74/74 [==============================] - 2s 24ms/step - loss: 5.1434 - accuracy: 0.5892 - val_loss: 4.9717 - val_accuracy: 0.5978\n",
            "Epoch 35/70\n",
            "74/74 [==============================] - 2s 24ms/step - loss: 4.8441 - accuracy: 0.5877 - val_loss: 4.7055 - val_accuracy: 0.5774\n",
            "Epoch 36/70\n",
            "74/74 [==============================] - 2s 24ms/step - loss: 4.5650 - accuracy: 0.5850 - val_loss: 4.4202 - val_accuracy: 0.6044\n",
            "Epoch 37/70\n",
            "74/74 [==============================] - 2s 24ms/step - loss: 4.3110 - accuracy: 0.5924 - val_loss: 4.1841 - val_accuracy: 0.6130\n",
            "Epoch 38/70\n",
            "74/74 [==============================] - 2s 24ms/step - loss: 4.0751 - accuracy: 0.5896 - val_loss: 3.9477 - val_accuracy: 0.6051\n",
            "Epoch 39/70\n",
            "74/74 [==============================] - 2s 24ms/step - loss: 3.8521 - accuracy: 0.5963 - val_loss: 3.7390 - val_accuracy: 0.6085\n",
            "Epoch 40/70\n",
            "74/74 [==============================] - 2s 24ms/step - loss: 3.6529 - accuracy: 0.5958 - val_loss: 3.5729 - val_accuracy: 0.5972\n",
            "Epoch 41/70\n",
            "74/74 [==============================] - 2s 24ms/step - loss: 3.4745 - accuracy: 0.6001 - val_loss: 3.3790 - val_accuracy: 0.6187\n",
            "Epoch 42/70\n",
            "74/74 [==============================] - 2s 24ms/step - loss: 3.3141 - accuracy: 0.6028 - val_loss: 3.2390 - val_accuracy: 0.6068\n",
            "Epoch 43/70\n",
            "74/74 [==============================] - 2s 24ms/step - loss: 3.1723 - accuracy: 0.5876 - val_loss: 3.0825 - val_accuracy: 0.6162\n",
            "Epoch 44/70\n",
            "74/74 [==============================] - 2s 24ms/step - loss: 3.0287 - accuracy: 0.5963 - val_loss: 2.9508 - val_accuracy: 0.6182\n",
            "Epoch 45/70\n",
            "74/74 [==============================] - 2s 24ms/step - loss: 2.8979 - accuracy: 0.6002 - val_loss: 2.8356 - val_accuracy: 0.6137\n",
            "Epoch 46/70\n",
            "74/74 [==============================] - 2s 24ms/step - loss: 2.7904 - accuracy: 0.5994 - val_loss: 2.7385 - val_accuracy: 0.6006\n",
            "Epoch 47/70\n",
            "74/74 [==============================] - 2s 24ms/step - loss: 2.6814 - accuracy: 0.6024 - val_loss: 2.6384 - val_accuracy: 0.6055\n",
            "Epoch 48/70\n",
            "74/74 [==============================] - 2s 24ms/step - loss: 2.5869 - accuracy: 0.5993 - val_loss: 2.5246 - val_accuracy: 0.6138\n",
            "Epoch 49/70\n",
            "74/74 [==============================] - 2s 24ms/step - loss: 2.5002 - accuracy: 0.6002 - val_loss: 2.4409 - val_accuracy: 0.6220\n",
            "Epoch 50/70\n",
            "74/74 [==============================] - 2s 24ms/step - loss: 2.4080 - accuracy: 0.6049 - val_loss: 2.3670 - val_accuracy: 0.6102\n",
            "Epoch 51/70\n",
            "74/74 [==============================] - 2s 24ms/step - loss: 2.3308 - accuracy: 0.6048 - val_loss: 2.3085 - val_accuracy: 0.6089\n",
            "Epoch 52/70\n",
            "74/74 [==============================] - 2s 24ms/step - loss: 2.2750 - accuracy: 0.6037 - val_loss: 2.2298 - val_accuracy: 0.6199\n",
            "Epoch 53/70\n",
            "74/74 [==============================] - 2s 24ms/step - loss: 2.2111 - accuracy: 0.5990 - val_loss: 2.1606 - val_accuracy: 0.6261\n",
            "Epoch 54/70\n",
            "74/74 [==============================] - 2s 24ms/step - loss: 2.1484 - accuracy: 0.6013 - val_loss: 2.1279 - val_accuracy: 0.6117\n",
            "Epoch 55/70\n",
            "74/74 [==============================] - 2s 24ms/step - loss: 2.0978 - accuracy: 0.6015 - val_loss: 2.0610 - val_accuracy: 0.6202\n",
            "Epoch 56/70\n",
            "74/74 [==============================] - 2s 24ms/step - loss: 2.0451 - accuracy: 0.6057 - val_loss: 2.0171 - val_accuracy: 0.6239\n",
            "Epoch 57/70\n",
            "74/74 [==============================] - 2s 24ms/step - loss: 2.0029 - accuracy: 0.6023 - val_loss: 1.9754 - val_accuracy: 0.6182\n",
            "Epoch 58/70\n",
            "74/74 [==============================] - 2s 24ms/step - loss: 1.9576 - accuracy: 0.6064 - val_loss: 1.9329 - val_accuracy: 0.6262\n",
            "Epoch 59/70\n",
            "74/74 [==============================] - 2s 24ms/step - loss: 1.9115 - accuracy: 0.6122 - val_loss: 1.9083 - val_accuracy: 0.6113\n",
            "Epoch 60/70\n",
            "74/74 [==============================] - 2s 24ms/step - loss: 1.8885 - accuracy: 0.6069 - val_loss: 1.8643 - val_accuracy: 0.6331\n",
            "Epoch 61/70\n",
            "74/74 [==============================] - 2s 24ms/step - loss: 1.8515 - accuracy: 0.6115 - val_loss: 1.8476 - val_accuracy: 0.6124\n",
            "Epoch 62/70\n",
            "74/74 [==============================] - 2s 24ms/step - loss: 1.8246 - accuracy: 0.6113 - val_loss: 1.8112 - val_accuracy: 0.6128\n",
            "Epoch 63/70\n",
            "74/74 [==============================] - 2s 24ms/step - loss: 1.7935 - accuracy: 0.6062 - val_loss: 1.7778 - val_accuracy: 0.6201\n",
            "Epoch 64/70\n",
            "74/74 [==============================] - 2s 24ms/step - loss: 1.7732 - accuracy: 0.6092 - val_loss: 1.7815 - val_accuracy: 0.6077\n",
            "Epoch 65/70\n",
            "74/74 [==============================] - 2s 24ms/step - loss: 1.7497 - accuracy: 0.6087 - val_loss: 1.7459 - val_accuracy: 0.6067\n",
            "Epoch 66/70\n",
            "74/74 [==============================] - 2s 24ms/step - loss: 1.7263 - accuracy: 0.6082 - val_loss: 1.7233 - val_accuracy: 0.6143\n",
            "Epoch 67/70\n",
            "74/74 [==============================] - 2s 24ms/step - loss: 1.7015 - accuracy: 0.6121 - val_loss: 1.6938 - val_accuracy: 0.6210\n",
            "Epoch 68/70\n",
            "74/74 [==============================] - 2s 24ms/step - loss: 1.6847 - accuracy: 0.6129 - val_loss: 1.6634 - val_accuracy: 0.6306\n",
            "Epoch 69/70\n",
            "74/74 [==============================] - 2s 24ms/step - loss: 1.6683 - accuracy: 0.6157 - val_loss: 1.6479 - val_accuracy: 0.6280\n",
            "Epoch 70/70\n",
            "74/74 [==============================] - 2s 24ms/step - loss: 1.6543 - accuracy: 0.6102 - val_loss: 1.6541 - val_accuracy: 0.6244\n"
          ],
          "name": "stdout"
        },
        {
          "output_type": "display_data",
          "data": {
            "image/png": "[encoded data removed]",
            "text/plain": [
              "<Figure size 432x288 with 1 Axes>"
            ]
          },
          "metadata": {
            "tags": [],
            "needs_background": "light"
          }
        }
      ]
    },
    {
      "cell_type": "code",
      "metadata": {
        "id": "UrZvUz1pIUrb",
        "colab_type": "code",
        "colab": {},
        "outputId": "4d0a7288-716d-444c-b8ef-2276571ab07b"
      },
      "source": [
        "my_model.evaluate(x=x_test_norm, y=y_test, batch_size=batch_size)"
      ],
      "execution_count": null,
      "outputs": [
        {
          "output_type": "stream",
          "text": [
            "4585/4585 [==============================] - 2s 521us/sample - loss: 1.6412 - accuracy: 0.6277\n"
          ],
          "name": "stdout"
        },
        {
          "output_type": "execute_result",
          "data": {
            "text/plain": [
              "[1.6411519827993513, 0.627699]"
            ]
          },
          "metadata": {
            "tags": []
          },
          "execution_count": 35
        }
      ]
    },
    {
      "cell_type": "markdown",
      "metadata": {
        "id": "ApqraewKJk2R",
        "colab_type": "text"
      },
      "source": [
        "# Convolutional Neural Network model"
      ]
    },
    {
      "cell_type": "code",
      "metadata": {
        "id": "LVN1ubvyrRVx",
        "colab_type": "code",
        "colab": {}
      },
      "source": [
        "# define Convolutional Neural Network model.\n",
        "# we are implementing AlexNet architecture  for our CNN model\n",
        "def create_cnn_model(learning_rate):\n",
        "  \"\"\"Create and compile deep neural net model\"\"\"\n",
        "  model = tf.keras.models.Sequential()\n",
        "\n",
        "  # Add 1st Convolutional layer\n",
        "  model.add(layers.Conv2D(filters=96, kernel_size=(11, 11), strides=(4,4), \n",
        "                          activation='relu', input_shape=(100, 100, 3), padding='valid'))\n",
        "  \n",
        "  # Max Pooling\n",
        "  model.add(layers.MaxPool2D(pool_size=(3,3), strides=(2,2), padding='valid'))\n",
        "  \n",
        "  # Add 2nd Convolutional layer\n",
        "  model.add(layers.Conv2D(filters=256, kernel_size=(5, 5), strides=(1,1), \n",
        "                          activation='relu', padding='same'))\n",
        "   # Max Pooling\n",
        "  model.add(layers.MaxPool2D(pool_size=(3,3), strides=(2,2), padding='valid'))\n",
        "\n",
        "  # Add 3rd Convolutional layer\n",
        "  model.add(layers.Conv2D(filters=384, kernel_size=(3, 3), strides=(1,1), \n",
        "                          activation='relu', padding='same'))\n",
        "  \n",
        "  # Add 4th Convolutional layer\n",
        "  model.add(layers.Conv2D(filters=384, kernel_size=(3, 3), strides=(1,1), \n",
        "                          activation='relu', padding='same'))\n",
        "  \n",
        "  # Add 5th Convolutional layer\n",
        "  model.add(layers.Conv2D(filters=256, kernel_size=(3, 3), strides=(1,1), \n",
        "                          activation='relu', padding='same'))\n",
        "\n",
        "  # Max pooling\n",
        "  model.add(layers.MaxPool2D(pool_size=(3,3), strides=(2,2), padding='valid'))\n",
        "\n",
        "  # passing to fully connected layer\n",
        "  model.add(layers.Flatten())\n",
        "  # Define the first fully connected layer\n",
        "  model.add(layers.Dense(units=9216, activation='relu', name='fully1'))\n",
        "\n",
        "  # Define a dropout regularization layer for first fully connected layer. \n",
        "  model.add(layers.Dropout(rate=0.5))\n",
        "\n",
        "  # Define the second fully connected layer\n",
        "  model.add(layers.Dense(units=4096, activation='relu', name='fully2'))\n",
        "\n",
        "  # Define a dropout regularization layer for second fully connected layer. \n",
        "  model.add(layers.Dropout(rate=0.5))\n",
        "\n",
        "  # Define third fully connected layer\n",
        "  model.add(layers.Dense(units=1000, activation='relu', name='fully3'))\n",
        "\n",
        "  # Define a dropout regularization layer for third fully connected layer. \n",
        "  model.add(layers.Dropout(rate=0.5))\n",
        "\n",
        "  # Define the output layer\n",
        "  model.add(layers.Dense(units=10,\n",
        "                                  activation='softmax',\n",
        "                                  name='Output'))\n",
        "  \n",
        "  model.compile(optimizer=tf.keras.optimizers.Adam(lr=learning_rate),\n",
        "                loss=\"sparse_categorical_crossentropy\",\n",
        "                metrics=['accuracy'])\n",
        "  \n",
        "  return model"
      ],
      "execution_count": null,
      "outputs": []
    },
    {
      "cell_type": "code",
      "metadata": {
        "id": "mUNXhYCcQYyE",
        "colab_type": "code",
        "colab": {}
      },
      "source": [
        "# define hyperparameters\n",
        "epochs = 22\n",
        "batch_size = 150\n",
        "validation_split = 0.4\n",
        "learning_rate = 0.00007"
      ],
      "execution_count": null,
      "outputs": []
    },
    {
      "cell_type": "code",
      "metadata": {
        "id": "xvHrXeCVlKAC",
        "colab_type": "code",
        "colab": {}
      },
      "source": [
        "# Established model's topography\n",
        "my_model = create_cnn_model(learning_rate)"
      ],
      "execution_count": null,
      "outputs": []
    },
    {
      "cell_type": "code",
      "metadata": {
        "id": "7fp-uypydpiz",
        "colab_type": "code",
        "colab": {}
      },
      "source": [
        "#Add Augmentation\n",
        "gen = ImageDataGenerator(\n",
        "            rotation_range=8,\n",
        "            width_shift_range=0.08,\n",
        "            shear_range=0.3,\n",
        "            height_shift_range=0.08,\n",
        "            zoom_range=0.08\n",
        "            )\n",
        "test_gen = ImageDataGenerator()\n",
        "train_generator = gen.flow(x_train, y_train, batch_size)\n",
        "test_generator = test_gen.flow(x_test, y_test, batch_size)"
      ],
      "execution_count": null,
      "outputs": []
    },
    {
      "cell_type": "markdown",
      "metadata": {
        "id": "Xxl3K7LFJ8Vh",
        "colab_type": "text"
      },
      "source": [
        "## Define train function for cnn model"
      ]
    },
    {
      "cell_type": "code",
      "metadata": {
        "id": "3R9ykKMAJ5Pt",
        "colab_type": "code",
        "colab": {}
      },
      "source": [
        "# def train_cnn_model(model, train_features, train_label, epochs,\n",
        "#                 batch_size, validation_split=0.05):\n",
        "#   \"\"\"Train the model by feeding it data.\"\"\"\n",
        "\n",
        "#   history = model.fit(x=train_features, y=train_label, batch_size=batch_size,\n",
        "#                       epochs=epochs, shuffle=True,\n",
        "#                       validation_split=validation_split)\n",
        "  \n",
        "#   # The list of epochs of the model\n",
        "#   epochs = history.epoch\n",
        "\n",
        "#   # gather a snapshot of the model's mean squared error\n",
        "#   # at each epoch.\n",
        "#   hist = pd.DataFrame(history.history)\n",
        "\n",
        "#   return epochs, hist\n",
        "\n",
        "\n",
        "def train_cnn_model(model, train_generator, validation_generator, epochs,\n",
        "                batch_size):\n",
        "  \"\"\"Train the model by feeding it data.\"\"\"\n",
        "\n",
        "  # history = model.fit(x=train_features, y=train_label, batch_size=batch_size,\n",
        "  #                     epochs=epochs, shuffle=True,\n",
        "  #                     validation_split=validation_split)\n",
        "  \n",
        "  # model.fit_generator(\n",
        "  #       train_generator,\n",
        "  #       batch_size=batch_size,\n",
        "  #       epochs=epochs,\n",
        "  #       validation_data=test_generator,\n",
        "  #       validation_steps=10000//BATCH_SIZE\n",
        "  #       )\n",
        "  \n",
        "  model.fit_generator(\n",
        "    train_generator,\n",
        "    steps_per_epoch = train_generator.samples // batch_size,\n",
        "    validation_data = validation_generator, \n",
        "    validation_steps = validation_generator.samples // batch_size,\n",
        "    epochs = epochs, \n",
        "    shuffle=True)\n",
        "  \n",
        "  # The list of epochs of the model\n",
        "  epochs = history.epoch\n",
        "\n",
        "  # gather a snapshot of the model's mean squared error\n",
        "  # at each epoch.\n",
        "  hist = pd.DataFrame(history.history)\n",
        "\n",
        "  return epochs, hist"
      ],
      "execution_count": null,
      "outputs": []
    },
    {
      "cell_type": "markdown",
      "metadata": {
        "id": "svP-Wd8XKBT5",
        "colab_type": "text"
      },
      "source": [
        "## Train CNN model"
      ]
    },
    {
      "cell_type": "code",
      "metadata": {
        "id": "GvwrmxaJKC_R",
        "colab_type": "code",
        "colab": {
          "base_uri": "https://localhost:8080/",
          "height": 1000
        },
        "outputId": "bffc83d7-6ace-4a36-a4e0-06013a9f0300"
      },
      "source": [
        "# Train the model on normalized training set\n",
        "epochs, hist = train_cnn_model(my_model, x_train_norm, y_train, epochs, batch_size, validation_split)\n",
        "\n",
        "# plot accuracy vs epochs of training\n",
        "list_of_metrics_to_plot = ['accuracy'] \n",
        "plot_curve(epochs, hist, list_of_metrics_to_plot)"
      ],
      "execution_count": null,
      "outputs": [
        {
          "output_type": "stream",
          "text": [
            "Epoch 1/22\n",
            "74/74 [==============================] - 6s 76ms/step - loss: 2.2365 - accuracy: 0.1308 - val_loss: 2.0013 - val_accuracy: 0.2159\n",
            "Epoch 2/22\n",
            "74/74 [==============================] - 4s 55ms/step - loss: 1.8353 - accuracy: 0.2922 - val_loss: 1.7710 - val_accuracy: 0.3294\n",
            "Epoch 3/22\n",
            "74/74 [==============================] - 4s 55ms/step - loss: 1.5551 - accuracy: 0.4272 - val_loss: 1.2948 - val_accuracy: 0.5218\n",
            "Epoch 4/22\n",
            "74/74 [==============================] - 4s 55ms/step - loss: 1.1557 - accuracy: 0.5859 - val_loss: 0.8549 - val_accuracy: 0.7056\n",
            "Epoch 5/22\n",
            "74/74 [==============================] - 4s 55ms/step - loss: 0.8661 - accuracy: 0.6891 - val_loss: 0.7152 - val_accuracy: 0.7416\n",
            "Epoch 6/22\n",
            "74/74 [==============================] - 4s 55ms/step - loss: 0.7462 - accuracy: 0.7340 - val_loss: 0.6782 - val_accuracy: 0.7561\n",
            "Epoch 7/22\n",
            "74/74 [==============================] - 4s 55ms/step - loss: 0.6340 - accuracy: 0.7703 - val_loss: 0.6660 - val_accuracy: 0.7626\n",
            "Epoch 8/22\n",
            "74/74 [==============================] - 4s 55ms/step - loss: 0.5321 - accuracy: 0.8106 - val_loss: 0.5968 - val_accuracy: 0.7865\n",
            "Epoch 9/22\n",
            "74/74 [==============================] - 4s 55ms/step - loss: 0.4983 - accuracy: 0.8221 - val_loss: 0.4570 - val_accuracy: 0.8357\n",
            "Epoch 10/22\n",
            "74/74 [==============================] - 4s 56ms/step - loss: 0.4227 - accuracy: 0.8475 - val_loss: 0.5159 - val_accuracy: 0.8237\n",
            "Epoch 11/22\n",
            "74/74 [==============================] - 4s 56ms/step - loss: 0.3778 - accuracy: 0.8638 - val_loss: 0.4271 - val_accuracy: 0.8456\n",
            "Epoch 12/22\n",
            "74/74 [==============================] - 4s 55ms/step - loss: 0.3443 - accuracy: 0.8739 - val_loss: 0.5126 - val_accuracy: 0.8328\n",
            "Epoch 13/22\n",
            "74/74 [==============================] - 4s 55ms/step - loss: 0.3143 - accuracy: 0.8893 - val_loss: 0.3460 - val_accuracy: 0.8808\n",
            "Epoch 14/22\n",
            "74/74 [==============================] - 4s 55ms/step - loss: 0.2535 - accuracy: 0.9111 - val_loss: 0.3855 - val_accuracy: 0.8681\n",
            "Epoch 15/22\n",
            "74/74 [==============================] - 4s 55ms/step - loss: 0.2041 - accuracy: 0.9299 - val_loss: 0.3326 - val_accuracy: 0.8904\n",
            "Epoch 16/22\n",
            "74/74 [==============================] - 4s 55ms/step - loss: 0.2157 - accuracy: 0.9277 - val_loss: 0.4435 - val_accuracy: 0.8547\n",
            "Epoch 17/22\n",
            "74/74 [==============================] - 4s 55ms/step - loss: 0.1647 - accuracy: 0.9423 - val_loss: 0.4448 - val_accuracy: 0.8560\n",
            "Epoch 18/22\n",
            "74/74 [==============================] - 4s 55ms/step - loss: 0.1703 - accuracy: 0.9387 - val_loss: 0.4711 - val_accuracy: 0.8441\n",
            "Epoch 19/22\n",
            "74/74 [==============================] - 4s 55ms/step - loss: 0.1377 - accuracy: 0.9524 - val_loss: 0.3030 - val_accuracy: 0.9039\n",
            "Epoch 20/22\n",
            "74/74 [==============================] - 4s 55ms/step - loss: 0.0963 - accuracy: 0.9678 - val_loss: 0.4041 - val_accuracy: 0.8812\n",
            "Epoch 21/22\n",
            "74/74 [==============================] - 4s 55ms/step - loss: 0.0785 - accuracy: 0.9725 - val_loss: 0.2895 - val_accuracy: 0.9156\n",
            "Epoch 22/22\n",
            "74/74 [==============================] - 4s 55ms/step - loss: 0.0711 - accuracy: 0.9764 - val_loss: 0.4290 - val_accuracy: 0.8723\n"
          ],
          "name": "stdout"
        },
        {
          "output_type": "display_data",
          "data": {
            "image/png": "[encoded data removed]",
            "text/plain": [
              "<Figure size 432x288 with 1 Axes>"
            ]
          },
          "metadata": {
            "tags": []
          }
        }
      ]
    },
    {
      "cell_type": "code",
      "metadata": {
        "id": "bJKrCLcBJ_Vd",
        "colab_type": "code",
        "colab": {
          "base_uri": "https://localhost:8080/",
          "height": 50
        },
        "outputId": "f54f9d92-257d-4048-d47b-341b0f25d4e9"
      },
      "source": [
        "my_model.evaluate(x=x_test_norm, y=y_test, batch_size=batch_size)"
      ],
      "execution_count": null,
      "outputs": [
        {
          "output_type": "stream",
          "text": [
            "31/31 [==============================] - 1s 18ms/step - loss: 0.4593 - accuracy: 0.8661\n"
          ],
          "name": "stdout"
        },
        {
          "output_type": "execute_result",
          "data": {
            "text/plain": [
              "[0.4592846632003784, 0.8660850524902344]"
            ]
          },
          "metadata": {
            "tags": []
          },
          "execution_count": 22
        }
      ]
    }
  ]
}