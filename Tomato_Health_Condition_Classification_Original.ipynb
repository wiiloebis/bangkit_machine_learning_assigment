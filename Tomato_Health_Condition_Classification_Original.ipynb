{
  "nbformat": 4,
  "nbformat_minor": 0,
  "metadata": {
    "colab": {
      "name": "Tomato_Health_Condition_Classification_Original.ipynb",
      "provenance": [],
      "collapsed_sections": [
        "Xxl3K7LFJ8Vh",
        "svP-Wd8XKBT5"
      ],
      "machine_shape": "hm",
      "include_colab_link": true
    },
    "kernelspec": {
      "name": "python3",
      "display_name": "Python 3"
    },
    "accelerator": "GPU"
  },
  "cells": [
    {
      "cell_type": "markdown",
      "metadata": {
        "id": "view-in-github",
        "colab_type": "text"
      },
      "source": [
        "<a href=\"https://colab.research.google.com/github/wiiloebis/bangkit_machine_learning_assigment/blob/master/Tomato_Health_Condition_Classification_Original.ipynb\" target=\"_parent\"><img src=\"https://colab.research.google.com/assets/colab-badge.svg\" alt=\"Open In Colab\"/></a>"
      ]
    },
    {
      "cell_type": "markdown",
      "metadata": {
        "colab_type": "text",
        "id": "eA13_adoVlwu"
      },
      "source": [
        "# Import the libs needed"
      ]
    },
    {
      "cell_type": "code",
      "metadata": {
        "id": "Zt5PjEFuIwsM",
        "colab_type": "code",
        "colab": {}
      },
      "source": [
        "%tensorflow_version 2.x"
      ],
      "execution_count": null,
      "outputs": []
    },
    {
      "cell_type": "code",
      "metadata": {
        "colab_type": "code",
        "id": "uJa_TsdwUm5j",
        "colab": {
          "base_uri": "https://localhost:8080/",
          "height": 34
        },
        "outputId": "62683fed-dc79-42a9-919c-d6c39a956f01"
      },
      "source": [
        "import numpy as np\n",
        "import pandas as pd\n",
        "import matplotlib.pyplot as plt\n",
        "import os, sys\n",
        "import tensorflow as tf\n",
        "from tensorflow.keras import layers\n",
        "os.listdir(path='.')"
      ],
      "execution_count": null,
      "outputs": [
        {
          "output_type": "execute_result",
          "data": {
            "text/plain": [
              "['.config', 'sample_data']"
            ]
          },
          "metadata": {
            "tags": []
          },
          "execution_count": 2
        }
      ]
    },
    {
      "cell_type": "markdown",
      "metadata": {
        "colab_type": "text",
        "id": "9RYX9d4-U7H6"
      },
      "source": [
        "# Check Tensorflow Version"
      ]
    },
    {
      "cell_type": "code",
      "metadata": {
        "colab_type": "code",
        "id": "vbwOtRE9U11h",
        "colab": {
          "base_uri": "https://localhost:8080/",
          "height": 35
        },
        "outputId": "f496e438-76d1-4af1-b4f6-f52f5b56a75d"
      },
      "source": [
        "tf.__version__"
      ],
      "execution_count": null,
      "outputs": [
        {
          "output_type": "execute_result",
          "data": {
            "application/vnd.google.colaboratory.intrinsic": {
              "type": "string"
            },
            "text/plain": [
              "'2.2.0'"
            ]
          },
          "metadata": {
            "tags": []
          },
          "execution_count": 3
        }
      ]
    },
    {
      "cell_type": "code",
      "metadata": {
        "id": "3yKrbgHn6xyG",
        "colab_type": "code",
        "colab": {
          "resources": {
            "http://localhost:8080/nbextensions/google.colab/files.js": {
              "data": "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",
              "ok": true,
              "headers": [
                [
                  "content-type",
                  "application/javascript"
                ]
              ],
              "status": 200,
              "status_text": ""
            }
          },
          "base_uri": "https://localhost:8080/",
          "height": 86
        },
        "outputId": "e2dbef92-6f54-40f5-cb86-32758bb747fe"
      },
      "source": [
        "! pip install -q kaggle\n",
        "from google.colab import files\n",
        "files.upload()"
      ],
      "execution_count": null,
      "outputs": [
        {
          "output_type": "display_data",
          "data": {
            "text/html": [
              "\n",
              "     <input type=\"file\" id=\"files-351a95b4-d972-426e-b3ff-8ba4ede1f626\" name=\"files[]\" multiple disabled\n",
              "        style=\"border:none\" />\n",
              "     <output id=\"result-351a95b4-d972-426e-b3ff-8ba4ede1f626\">\n",
              "      Upload widget is only available when the cell has been executed in the\n",
              "      current browser session. Please rerun this cell to enable.\n",
              "      </output>\n",
              "      <script src=\"/nbextensions/google.colab/files.js\"></script> "
            ],
            "text/plain": [
              "<IPython.core.display.HTML object>"
            ]
          },
          "metadata": {
            "tags": []
          }
        },
        {
          "output_type": "stream",
          "text": [
            "Saving kaggle.json to kaggle.json\n"
          ],
          "name": "stdout"
        },
        {
          "output_type": "execute_result",
          "data": {
            "text/plain": [
              "{'kaggle.json': b'{\"username\":\"winniseptiani\",\"key\":\"805a0b70529185cca7c56d880e4bd576\"}'}"
            ]
          },
          "metadata": {
            "tags": []
          },
          "execution_count": 4
        }
      ]
    },
    {
      "cell_type": "code",
      "metadata": {
        "id": "fdj4Rqqg6y4M",
        "colab_type": "code",
        "colab": {
          "base_uri": "https://localhost:8080/",
          "height": 68
        },
        "outputId": "ed04753c-7eee-4ab0-ad5e-8cc19c6d6150"
      },
      "source": [
        "# Download and split the dataset into train/val dataset\n",
        "# The data set source https://www.kaggle.com/hereisburak/pins-face-recognition\n",
        "# import zipfile\n",
        "! mkdir ~/.kaggle\n",
        "! cp kaggle.json ~/.kaggle/\n",
        "! chmod 600 ~/.kaggle/kaggle.json\n",
        "! kaggle datasets download -d noulam/tomato\n",
        "! unzip -q tomato.zip\n",
        "# with zipfile.ZipFile('259770%2F544347%2Fbundle%2Farchive.zip', 'r') as zip_ref:\n",
        "#     zip_ref.extractall('/content/tomatoleaf')"
      ],
      "execution_count": null,
      "outputs": [
        {
          "output_type": "stream",
          "text": [
            "Downloading tomato.zip to /content\n",
            " 97% 721M/743M [00:10<00:00, 68.0MB/s]\n",
            "100% 743M/743M [00:10<00:00, 71.7MB/s]\n"
          ],
          "name": "stdout"
        }
      ]
    },
    {
      "cell_type": "markdown",
      "metadata": {
        "colab_type": "text",
        "id": "ookKQj3QVx0G"
      },
      "source": [
        "# Define a function to get directories name/path"
      ]
    },
    {
      "cell_type": "code",
      "metadata": {
        "colab_type": "code",
        "id": "9MPQ4SaxV0lW",
        "colab": {}
      },
      "source": [
        "def get_file_path_in_dir(dir_name):\n",
        "    ''' Get the full path name of files/folders in\n",
        "    directory specified by path to directory in\n",
        "    argument \"dir_name\" and return it as a list\n",
        "\n",
        "    dir_name is a Path from the directory of your current working script to the folder that you want to\n",
        "    check all of the subfolder/file\n",
        "    example:\n",
        "    pwd\n",
        "    /usr/Documents\n",
        "    ls .\n",
        "    Music\n",
        "    document.txt\n",
        "\n",
        "    get_file_path_in_dir('usr/Documents')\n",
        "    returns\n",
        "    [/usr/Documents/Music,\n",
        "    /usr/Documents/document.txt]\n",
        "    '''\n",
        "    target_dir = os.listdir(dir_name)\n",
        "    dir_list = []\n",
        "    for entry in target_dir:\n",
        "        full_path = os.path.join(dir_name, entry)\n",
        "        dir_list.append(full_path)\n",
        "    \n",
        "    return dir_list"
      ],
      "execution_count": null,
      "outputs": []
    },
    {
      "cell_type": "markdown",
      "metadata": {
        "colab_type": "text",
        "id": "irbunTDaXBYh"
      },
      "source": [
        "# Define a function to get folder/file in a directory"
      ]
    },
    {
      "cell_type": "code",
      "metadata": {
        "colab_type": "code",
        "id": "jNgdxM0gXCIU",
        "colab": {}
      },
      "source": [
        "def get_sub_dir_names(path_to_dir):\n",
        "    '''Get the name of all file/folder in a directory specified\n",
        "    by the path \"path_to_dir\" and return it as list\n",
        "    example:\n",
        "    pwd\n",
        "    /usr/Documents\n",
        "    ls .\n",
        "    Music\n",
        "    documents.txt\n",
        "\n",
        "    get_sub_dir_names('usr/Documents')\n",
        "    returns\n",
        "    ['Music',\n",
        "    'documents.txt']\n",
        "\n",
        "    '''\n",
        "    subdir_path_list = get_file_path_in_dir(path_to_dir)\n",
        "    subdir_name_list = []\n",
        "    for subdir in subdir_path_list:\n",
        "        subdir_name_list.append(subdir.split(\"\\\\\")[-1])\n",
        "    return subdir_name_list"
      ],
      "execution_count": null,
      "outputs": []
    },
    {
      "cell_type": "markdown",
      "metadata": {
        "colab_type": "text",
        "id": "KjQVpEy2WK8b"
      },
      "source": [
        "# Get the full path of each subdirectory in a directory specify by the variable train_dir_name\n",
        "train_dir_name contain path from current working directory(relative path) to the directory containing"
      ]
    },
    {
      "cell_type": "code",
      "metadata": {
        "colab_type": "code",
        "id": "rQWn5C6FWPiO",
        "colab": {}
      },
      "source": [
        "# get every path to subfolder/file in train_dir_name folder\n",
        "train_dir_name = '/content/New Plant Diseases Dataset(Augmented)/train/'\n",
        "train_data_dir = get_file_path_in_dir(train_dir_name)"
      ],
      "execution_count": null,
      "outputs": []
    },
    {
      "cell_type": "code",
      "metadata": {
        "colab_type": "code",
        "id": "WtheiXKPXXK7",
        "colab": {
          "base_uri": "https://localhost:8080/",
          "height": 187
        },
        "outputId": "f26971d9-6540-4874-c65e-69752f5c70f1"
      },
      "source": [
        "tomato_class_list = os.listdir(train_dir_name)\n",
        "tomato_class_list"
      ],
      "execution_count": null,
      "outputs": [
        {
          "output_type": "execute_result",
          "data": {
            "text/plain": [
              "['Tomato___Tomato_Yellow_Leaf_Curl_Virus',\n",
              " 'Tomato___Bacterial_spot',\n",
              " 'Tomato___Tomato_mosaic_virus',\n",
              " 'Tomato___Target_Spot',\n",
              " 'Tomato___Early_blight',\n",
              " 'Tomato___healthy',\n",
              " 'Tomato___Spider_mites Two-spotted_spider_mite',\n",
              " 'Tomato___Leaf_Mold',\n",
              " 'Tomato___Late_blight',\n",
              " 'Tomato___Septoria_leaf_spot']"
            ]
          },
          "metadata": {
            "tags": []
          },
          "execution_count": 10
        }
      ]
    },
    {
      "cell_type": "code",
      "metadata": {
        "colab_type": "code",
        "id": "dj28VeZjXcPz",
        "colab": {}
      },
      "source": [
        "import PIL\n",
        "from PIL import Image, ImageOps"
      ],
      "execution_count": null,
      "outputs": []
    },
    {
      "cell_type": "code",
      "metadata": {
        "colab_type": "code",
        "id": "6NFf27xIXh3Q",
        "colab": {}
      },
      "source": [
        "def image_to_ndarray(path_to_image):\n",
        "    \"\"\"read image from the file path name and\n",
        "    convert the image to np array with dimension of 200x200x3 pixel\n",
        "    example:\n",
        "    image_to_ndarray(\"usr/Documents/fish.jpg\")\n",
        "    returns\n",
        "    np.array\n",
        "    where np.array.shape is (100,100,3)\n",
        "    \"\"\"\n",
        "    image = Image.open(path_to_image)\n",
        "    # Resize image to 100x100 pixel\n",
        "    image_resize = ImageOps.fit(image, (100, 100), Image.ANTIALIAS)\n",
        "    data = np.asarray(image_resize)\n",
        "    return data"
      ],
      "execution_count": null,
      "outputs": []
    },
    {
      "cell_type": "markdown",
      "metadata": {
        "colab_type": "text",
        "id": "QbDQYwZxXmhi"
      },
      "source": [
        "# Read Train image dataset to np array\n",
        "we will also map each label of the image"
      ]
    },
    {
      "cell_type": "code",
      "metadata": {
        "colab_type": "code",
        "id": "YQWCAlfkXprf",
        "colab": {}
      },
      "source": [
        "def read_image_dir_to_np_array(dir_name, class_list):\n",
        "    \"\"\"take path to directory name which contains images file,\n",
        "       read the image into np array, and return list of image and its corresponding label\"\"\"\n",
        "    image_dataset = []\n",
        "    label = []\n",
        "    for cla in class_list:\n",
        "        class_items = get_file_path_in_dir(dir_name+\"/\"+cla)\n",
        "        for item in class_items:\n",
        "            data = image_to_ndarray(item)\n",
        "            image_dataset.append(data)\n",
        "            label.append(cla)\n",
        "\n",
        "    return image_dataset, label"
      ],
      "execution_count": null,
      "outputs": []
    },
    {
      "cell_type": "code",
      "metadata": {
        "colab_type": "code",
        "id": "0t9_AW88XsRH",
        "colab": {}
      },
      "source": [
        "train_numpy_dataset, label_train = read_image_dir_to_np_array(train_dir_name, tomato_class_list)"
      ],
      "execution_count": null,
      "outputs": []
    },
    {
      "cell_type": "markdown",
      "metadata": {
        "colab_type": "text",
        "id": "e48vCqrRXwNe"
      },
      "source": [
        "# Convert array of image into numpy array\n",
        "the dimension of the array is as follows: (m, h, w, 3) where m is the number of image, h is the height of each image, w is the width of the image, and 3 is for the number of color channel(RGB)"
      ]
    },
    {
      "cell_type": "code",
      "metadata": {
        "colab_type": "code",
        "id": "Y0r94kHwX0Fr",
        "colab": {
          "base_uri": "https://localhost:8080/",
          "height": 34
        },
        "outputId": "1d7da392-66b4-49da-b007-a907d0d1bc8f"
      },
      "source": [
        "train_numpy_dataset = np.array(train_numpy_dataset)\n",
        "train_numpy_dataset.shape"
      ],
      "execution_count": null,
      "outputs": [
        {
          "output_type": "execute_result",
          "data": {
            "text/plain": [
              "(18345, 100, 100, 3)"
            ]
          },
          "metadata": {
            "tags": []
          },
          "execution_count": 16
        }
      ]
    },
    {
      "cell_type": "code",
      "metadata": {
        "colab_type": "code",
        "id": "lxOxlttgX0uv",
        "colab": {}
      },
      "source": [
        "# Create set of unique labels and make a dictionary that maps the label to unique integer number\n",
        "label_unique = list(set(label_train))\n",
        "label_dict = dict((label, index) for index, label in enumerate(label_unique))\n",
        "label_df = pd.DataFrame(label_dict.items(), columns=['Tomato Health', 'Health Label'])\n",
        "label_df.to_csv(\"category_to_num.csv\")"
      ],
      "execution_count": null,
      "outputs": []
    },
    {
      "cell_type": "code",
      "metadata": {
        "colab_type": "code",
        "id": "3IV5WLWqX4Us",
        "colab": {
          "base_uri": "https://localhost:8080/",
          "height": 187
        },
        "outputId": "ae7d4fcd-ca7d-40d5-ef22-ca9e1e62fa14"
      },
      "source": [
        "label_dict"
      ],
      "execution_count": null,
      "outputs": [
        {
          "output_type": "execute_result",
          "data": {
            "text/plain": [
              "{'Tomato___Bacterial_spot': 6,\n",
              " 'Tomato___Early_blight': 9,\n",
              " 'Tomato___Late_blight': 2,\n",
              " 'Tomato___Leaf_Mold': 5,\n",
              " 'Tomato___Septoria_leaf_spot': 3,\n",
              " 'Tomato___Spider_mites Two-spotted_spider_mite': 8,\n",
              " 'Tomato___Target_Spot': 1,\n",
              " 'Tomato___Tomato_Yellow_Leaf_Curl_Virus': 0,\n",
              " 'Tomato___Tomato_mosaic_virus': 4,\n",
              " 'Tomato___healthy': 7}"
            ]
          },
          "metadata": {
            "tags": []
          },
          "execution_count": 18
        }
      ]
    },
    {
      "cell_type": "code",
      "metadata": {
        "colab_type": "code",
        "id": "cfHbKB_bX4wB",
        "colab": {
          "base_uri": "https://localhost:8080/",
          "height": 117
        },
        "outputId": "c74e4274-2c1c-4c0d-875e-9c28368ae106"
      },
      "source": [
        "# label_train\n",
        "Image.fromarray(train_numpy_dataset[1])"
      ],
      "execution_count": null,
      "outputs": [
        {
          "output_type": "execute_result",
          "data": {
            "image/png": "[encoded data removed]",
            "text/plain": [
              "<PIL.Image.Image image mode=RGB size=100x100 at 0x7F4FDA546E10>"
            ]
          },
          "metadata": {
            "tags": []
          },
          "execution_count": 19
        }
      ]
    },
    {
      "cell_type": "code",
      "metadata": {
        "colab_type": "code",
        "id": "Ll47anfTX7FE",
        "colab": {
          "base_uri": "https://localhost:8080/",
          "height": 34
        },
        "outputId": "d63fd93a-931c-4e05-812e-920a6e1d1c06"
      },
      "source": [
        "# map train label to dictionary value\n",
        "train_numpy_label = np.array([label_dict[key] for key in label_train])\n",
        "train_numpy_label"
      ],
      "execution_count": null,
      "outputs": [
        {
          "output_type": "execute_result",
          "data": {
            "text/plain": [
              "array([0, 0, 0, ..., 3, 3, 3])"
            ]
          },
          "metadata": {
            "tags": []
          },
          "execution_count": 20
        }
      ]
    },
    {
      "cell_type": "code",
      "metadata": {
        "colab_type": "code",
        "id": "__qpEk4TX8-v",
        "colab": {
          "base_uri": "https://localhost:8080/",
          "height": 34
        },
        "outputId": "41b9fa1e-9f71-4a1e-cd16-171d5779ebbb"
      },
      "source": [
        "train_numpy_label.shape"
      ],
      "execution_count": null,
      "outputs": [
        {
          "output_type": "execute_result",
          "data": {
            "text/plain": [
              "(18345,)"
            ]
          },
          "metadata": {
            "tags": []
          },
          "execution_count": 21
        }
      ]
    },
    {
      "cell_type": "markdown",
      "metadata": {
        "colab_type": "text",
        "id": "O3K6GAM0YA_x"
      },
      "source": [
        "# Save train dataset and its label as npz file"
      ]
    },
    {
      "cell_type": "code",
      "metadata": {
        "colab_type": "code",
        "id": "Sbu_au5OYDb8",
        "colab": {}
      },
      "source": [
        "np.savez(\"tomato_leaves100.npz\", train_numpy_dataset, train_numpy_label)"
      ],
      "execution_count": null,
      "outputs": []
    },
    {
      "cell_type": "markdown",
      "metadata": {
        "colab_type": "text",
        "id": "e4pLDRSxYKlO"
      },
      "source": [
        "# Read validate dataset to np array"
      ]
    },
    {
      "cell_type": "code",
      "metadata": {
        "colab_type": "code",
        "id": "8UWL1ipQYNO2",
        "colab": {}
      },
      "source": [
        "valid_dir_name = '/content/New Plant Diseases Dataset(Augmented)/valid/'\n",
        "valid_numpy, label_valid = read_image_dir_to_np_array(valid_dir_name, tomato_class_list)\n",
        "valid_numpy_label = np.array([label_dict[key] for key in label_valid])"
      ],
      "execution_count": null,
      "outputs": []
    },
    {
      "cell_type": "code",
      "metadata": {
        "colab_type": "code",
        "id": "p0bfdYDZYPMW",
        "colab": {
          "base_uri": "https://localhost:8080/",
          "height": 34
        },
        "outputId": "202541bf-dee0-4e5e-9352-7fe572635a76"
      },
      "source": [
        "# Convert list of validation image matrix into np array\n",
        "valid_numpy = np.array(valid_numpy)\n",
        "valid_numpy.shape"
      ],
      "execution_count": null,
      "outputs": [
        {
          "output_type": "execute_result",
          "data": {
            "text/plain": [
              "(4585, 100, 100, 3)"
            ]
          },
          "metadata": {
            "tags": []
          },
          "execution_count": 25
        }
      ]
    },
    {
      "cell_type": "code",
      "metadata": {
        "colab_type": "code",
        "id": "3iBCTgb0Yitz",
        "colab": {}
      },
      "source": [
        "np.savez(\"tomato_leaves_test100.npz\", valid_numpy, valid_numpy_label)"
      ],
      "execution_count": null,
      "outputs": []
    },
    {
      "cell_type": "code",
      "metadata": {
        "colab_type": "code",
        "id": "QME0Gq-hYmeb",
        "colab": {
          "base_uri": "https://localhost:8080/",
          "height": 34
        },
        "outputId": "6769df73-4b2a-449d-89f5-39dc2c64284b"
      },
      "source": [
        "valid_numpy_label.shape"
      ],
      "execution_count": null,
      "outputs": [
        {
          "output_type": "execute_result",
          "data": {
            "text/plain": [
              "(4585,)"
            ]
          },
          "metadata": {
            "tags": []
          },
          "execution_count": 27
        }
      ]
    },
    {
      "cell_type": "markdown",
      "metadata": {
        "id": "dak4zvqfIUqO",
        "colab_type": "text"
      },
      "source": [
        "## Modelling"
      ]
    },
    {
      "cell_type": "code",
      "metadata": {
        "scrolled": false,
        "id": "K5xYRb3mIUqP",
        "colab_type": "code",
        "colab": {}
      },
      "source": [
        "npz_train = np.load('/content/tomato_leaves100.npz')"
      ],
      "execution_count": null,
      "outputs": []
    },
    {
      "cell_type": "code",
      "metadata": {
        "id": "q5XLryX1IUqT",
        "colab_type": "code",
        "colab": {
          "base_uri": "https://localhost:8080/",
          "height": 34
        },
        "outputId": "b6b461f8-05eb-4885-9bea-82b466b5b503"
      },
      "source": [
        "x_train = npz_train['arr_0']\n",
        "y_train = npz_train['arr_1']\n",
        "y_train.shape"
      ],
      "execution_count": null,
      "outputs": [
        {
          "output_type": "execute_result",
          "data": {
            "text/plain": [
              "(18345,)"
            ]
          },
          "metadata": {
            "tags": []
          },
          "execution_count": 30
        }
      ]
    },
    {
      "cell_type": "code",
      "metadata": {
        "id": "zteXnMnrIUqX",
        "colab_type": "code",
        "colab": {}
      },
      "source": [
        "# shuffle training data\n",
        "index_shuffle = np.random.permutation(len(x_train))\n",
        "x_train = x_train[index_shuffle]\n",
        "y_train = y_train[index_shuffle]"
      ],
      "execution_count": null,
      "outputs": []
    },
    {
      "cell_type": "code",
      "metadata": {
        "id": "Im91G2aUIUqc",
        "colab_type": "code",
        "colab": {}
      },
      "source": [
        "npz_test = np.load('/content/tomato_leaves_test100.npz')\n",
        "x_test = npz_test['arr_0']\n",
        "y_test = npz_test['arr_1']"
      ],
      "execution_count": 33,
      "outputs": []
    },
    {
      "cell_type": "code",
      "metadata": {
        "id": "jwJD6D-UIUqi",
        "colab_type": "code",
        "colab": {}
      },
      "source": [
        "# shuffle test data\n",
        "index_shuffle = np.random.permutation(len(x_test))\n",
        "x_test = x_test[index_shuffle]\n",
        "y_test = y_test[index_shuffle]"
      ],
      "execution_count": 34,
      "outputs": []
    },
    {
      "cell_type": "code",
      "metadata": {
        "id": "VNTEMXN3IUqp",
        "colab_type": "code",
        "colab": {
          "base_uri": "https://localhost:8080/",
          "height": 34
        },
        "outputId": "d6a0b99b-8533-478c-c0ea-b33f730c6a99"
      },
      "source": [
        "y_test"
      ],
      "execution_count": 35,
      "outputs": [
        {
          "output_type": "execute_result",
          "data": {
            "text/plain": [
              "array([7, 5, 2, ..., 9, 5, 1])"
            ]
          },
          "metadata": {
            "tags": []
          },
          "execution_count": 35
        }
      ]
    },
    {
      "cell_type": "code",
      "metadata": {
        "id": "WrlikhLmIUqu",
        "colab_type": "code",
        "colab": {
          "base_uri": "https://localhost:8080/",
          "height": 285
        },
        "outputId": "5e5dd794-d7ca-4c1e-98b3-01832ad00f0d"
      },
      "source": [
        "plt.imshow(x_train[20])"
      ],
      "execution_count": 36,
      "outputs": [
        {
          "output_type": "execute_result",
          "data": {
            "text/plain": [
              "<matplotlib.image.AxesImage at 0x7f501cc5e278>"
            ]
          },
          "metadata": {
            "tags": []
          },
          "execution_count": 36
        },
        {
          "output_type": "display_data",
          "data": {
            "image/png": "[encoded data removed]",
            "text/plain": [
              "<Figure size 432x288 with 1 Axes>"
            ]
          },
          "metadata": {
            "tags": [],
            "needs_background": "light"
          }
        }
      ]
    },
    {
      "cell_type": "code",
      "metadata": {
        "id": "xIkNTlL6IUq1",
        "colab_type": "code",
        "colab": {
          "base_uri": "https://localhost:8080/",
          "height": 285
        },
        "outputId": "84a21ecc-cda7-4596-b5bc-8b21b6c0dc70"
      },
      "source": [
        "plt.imshow(x_test[20])"
      ],
      "execution_count": 37,
      "outputs": [
        {
          "output_type": "execute_result",
          "data": {
            "text/plain": [
              "<matplotlib.image.AxesImage at 0x7f4fda441d68>"
            ]
          },
          "metadata": {
            "tags": []
          },
          "execution_count": 37
        },
        {
          "output_type": "display_data",
          "data": {
            "image/png": "[encoded data removed]",
            "text/plain": [
              "<Figure size 432x288 with 1 Axes>"
            ]
          },
          "metadata": {
            "tags": [],
            "needs_background": "light"
          }
        }
      ]
    },
    {
      "cell_type": "code",
      "metadata": {
        "id": "gZmRJDLqIUq6",
        "colab_type": "code",
        "colab": {}
      },
      "source": [
        "x_train_norm = x_train / 255.0\n",
        "x_test_norm = x_test / 255.0"
      ],
      "execution_count": 38,
      "outputs": []
    },
    {
      "cell_type": "markdown",
      "metadata": {
        "id": "NJqXSN0eIUq_",
        "colab_type": "text"
      },
      "source": [
        "## Build a Neural Network"
      ]
    },
    {
      "cell_type": "code",
      "metadata": {
        "id": "Y05sRLobIUrB",
        "colab_type": "code",
        "colab": {}
      },
      "source": [
        "# define plotting loss function\n",
        "\n",
        "def plot_curve(epochs, hist, list_of_metrics):\n",
        "  \"\"\"Plot a curve one or more classification metrics vs. epoch.\"\"\"\n",
        "\n",
        "  plt.figure()\n",
        "  plt.xlabel(\"Epoch\")\n",
        "  plt.ylabel(\"Value\")\n",
        "\n",
        "  for m in list_of_metrics:\n",
        "    x = hist[m]\n",
        "    plt.plot(epochs[1:], x[1:], label=m)\n",
        "\n",
        "  plt.legend()\n",
        "  plt.show()"
      ],
      "execution_count": 39,
      "outputs": []
    },
    {
      "cell_type": "code",
      "metadata": {
        "id": "WXgb_1ilIUrG",
        "colab_type": "code",
        "colab": {}
      },
      "source": [
        "# define deep neural network model\n",
        "def create_model(learning_rate,neurons_number=270,regularizer=0.15,dropout_rate=0.4):\n",
        "  \"\"\"Create and compile deep neural net model\"\"\"\n",
        "  model = tf.keras.models.Sequential()\n",
        "\n",
        "  # Add the layer containing the feature columns to the model.\n",
        "  model.add(tf.keras.layers.Flatten(input_shape=(100, 100, 3)))\n",
        "\n",
        "  # Define the first hidden layer\n",
        "  model.add(tf.keras.layers.Dense(units=neurons_number,\n",
        "                                  activation='relu',\n",
        "                                  kernel_regularizer=tf.keras.regularizers.l2(regularizer),\n",
        "                                  name='Hidden1'))\n",
        "  \n",
        "  # Define a dropout regularization layer. \n",
        "  model.add(tf.keras.layers.Dropout(rate=dropout_rate))\n",
        "\n",
        "  # Define the output layer\n",
        "  model.add(tf.keras.layers.Dense(units=10,\n",
        "                                  activation='softmax',\n",
        "                                  name='Output'))\n",
        "  \n",
        "  model.compile(optimizer=tf.keras.optimizers.Adam(lr=learning_rate),\n",
        "                loss=\"sparse_categorical_crossentropy\",\n",
        "                metrics=['accuracy'])\n",
        "  \n",
        "  return model"
      ],
      "execution_count": 40,
      "outputs": []
    },
    {
      "cell_type": "code",
      "metadata": {
        "id": "sRBBgw-HIUrM",
        "colab_type": "code",
        "colab": {}
      },
      "source": [
        "def train_model(model, train_features, train_label, epochs,\n",
        "                batch_size=None, validation_split=0.05):\n",
        "  \"\"\"Train the model by feeding it data.\"\"\"\n",
        "\n",
        "  history = model.fit(x=train_features, y=train_label, batch_size=batch_size,\n",
        "                      epochs=epochs, shuffle=True,\n",
        "                      validation_split=validation_split)\n",
        "  \n",
        "  # The list of epochs of the model\n",
        "  epochs = history.epoch\n",
        "\n",
        "  # gather a snapshot of the model's mean squared error\n",
        "  # at each epoch.\n",
        "  hist = pd.DataFrame(history.history)\n",
        "\n",
        "  return epochs, hist"
      ],
      "execution_count": 41,
      "outputs": []
    },
    {
      "cell_type": "code",
      "metadata": {
        "id": "VeIcfUSMIUrT",
        "colab_type": "code",
        "colab": {
          "base_uri": "https://localhost:8080/",
          "height": 1000
        },
        "outputId": "92c325bc-0717-4610-fddc-203218ef22a8"
      },
      "source": [
        "# define the hyperparameters\n",
        "learning_rate = 0.000008\n",
        "epochs = 70\n",
        "batch_size = 150\n",
        "validation_split = 0.4\n",
        "\n",
        "\n",
        "# Established model's topography\n",
        "my_model = create_model(learning_rate)\n",
        "\n",
        "# Train the model on normalized training set\n",
        "epochs, hist = train_model(my_model, x_train_norm, y_train, epochs,\n",
        "                          batch_size, validation_split)\n",
        "\n",
        "# plot accuracy vs epochs of training\n",
        "list_of_metrics_to_plot = ['accuracy'] \n",
        "plot_curve(epochs, hist, list_of_metrics_to_plot)"
      ],
      "execution_count": 42,
      "outputs": [
        {
          "output_type": "stream",
          "text": [
            "Epoch 1/70\n",
            "74/74 [==============================] - 3s 41ms/step - loss: 79.2132 - accuracy: 0.1839 - val_loss: 75.5299 - val_accuracy: 0.3118\n",
            "Epoch 2/70\n",
            "74/74 [==============================] - 2s 24ms/step - loss: 72.2246 - accuracy: 0.2919 - val_loss: 68.8189 - val_accuracy: 0.3906\n",
            "Epoch 3/70\n",
            "74/74 [==============================] - 2s 24ms/step - loss: 65.8145 - accuracy: 0.3453 - val_loss: 62.7060 - val_accuracy: 0.4204\n",
            "Epoch 4/70\n",
            "74/74 [==============================] - 2s 24ms/step - loss: 60.0030 - accuracy: 0.3818 - val_loss: 57.1760 - val_accuracy: 0.4617\n",
            "Epoch 5/70\n",
            "74/74 [==============================] - 2s 23ms/step - loss: 54.7048 - accuracy: 0.4172 - val_loss: 52.1311 - val_accuracy: 0.4922\n",
            "Epoch 6/70\n",
            "74/74 [==============================] - 2s 24ms/step - loss: 49.8908 - accuracy: 0.4325 - val_loss: 47.5602 - val_accuracy: 0.4821\n",
            "Epoch 7/70\n",
            "74/74 [==============================] - 2s 24ms/step - loss: 45.5103 - accuracy: 0.4604 - val_loss: 43.3886 - val_accuracy: 0.5025\n",
            "Epoch 8/70\n",
            "74/74 [==============================] - 2s 24ms/step - loss: 41.5256 - accuracy: 0.4641 - val_loss: 39.5894 - val_accuracy: 0.4920\n",
            "Epoch 9/70\n",
            "74/74 [==============================] - 2s 24ms/step - loss: 37.8960 - accuracy: 0.4729 - val_loss: 36.1295 - val_accuracy: 0.5328\n",
            "Epoch 10/70\n",
            "74/74 [==============================] - 2s 24ms/step - loss: 34.5900 - accuracy: 0.4811 - val_loss: 32.9777 - val_accuracy: 0.5356\n",
            "Epoch 11/70\n",
            "74/74 [==============================] - 2s 23ms/step - loss: 31.5865 - accuracy: 0.4996 - val_loss: 30.1165 - val_accuracy: 0.5297\n",
            "Epoch 12/70\n",
            "74/74 [==============================] - 2s 23ms/step - loss: 28.8482 - accuracy: 0.5062 - val_loss: 27.5158 - val_accuracy: 0.5307\n",
            "Epoch 13/70\n",
            "74/74 [==============================] - 2s 23ms/step - loss: 26.3553 - accuracy: 0.5106 - val_loss: 25.1335 - val_accuracy: 0.5499\n",
            "Epoch 14/70\n",
            "74/74 [==============================] - 2s 23ms/step - loss: 24.0999 - accuracy: 0.5089 - val_loss: 22.9972 - val_accuracy: 0.5466\n",
            "Epoch 15/70\n",
            "74/74 [==============================] - 2s 23ms/step - loss: 22.0364 - accuracy: 0.5191 - val_loss: 21.0354 - val_accuracy: 0.5523\n",
            "Epoch 16/70\n",
            "74/74 [==============================] - 2s 23ms/step - loss: 20.1694 - accuracy: 0.5300 - val_loss: 19.2674 - val_accuracy: 0.5428\n",
            "Epoch 17/70\n",
            "74/74 [==============================] - 2s 24ms/step - loss: 18.4741 - accuracy: 0.5394 - val_loss: 17.6431 - val_accuracy: 0.5728\n",
            "Epoch 18/70\n",
            "74/74 [==============================] - 2s 23ms/step - loss: 16.9302 - accuracy: 0.5394 - val_loss: 16.1850 - val_accuracy: 0.5619\n",
            "Epoch 19/70\n",
            "74/74 [==============================] - 2s 23ms/step - loss: 15.5374 - accuracy: 0.5457 - val_loss: 14.8519 - val_accuracy: 0.5684\n",
            "Epoch 20/70\n",
            "74/74 [==============================] - 2s 24ms/step - loss: 14.2651 - accuracy: 0.5493 - val_loss: 13.6327 - val_accuracy: 0.5850\n",
            "Epoch 21/70\n",
            "74/74 [==============================] - 2s 24ms/step - loss: 13.1155 - accuracy: 0.5465 - val_loss: 12.5608 - val_accuracy: 0.5758\n",
            "Epoch 22/70\n",
            "74/74 [==============================] - 2s 24ms/step - loss: 12.0774 - accuracy: 0.5525 - val_loss: 11.5582 - val_accuracy: 0.5848\n",
            "Epoch 23/70\n",
            "74/74 [==============================] - 2s 24ms/step - loss: 11.1273 - accuracy: 0.5536 - val_loss: 10.6529 - val_accuracy: 0.5890\n",
            "Epoch 24/70\n",
            "74/74 [==============================] - 2s 23ms/step - loss: 10.2695 - accuracy: 0.5597 - val_loss: 9.8387 - val_accuracy: 0.5969\n",
            "Epoch 25/70\n",
            "74/74 [==============================] - 2s 24ms/step - loss: 9.4916 - accuracy: 0.5635 - val_loss: 9.1051 - val_accuracy: 0.5845\n",
            "Epoch 26/70\n",
            "74/74 [==============================] - 2s 24ms/step - loss: 8.7901 - accuracy: 0.5672 - val_loss: 8.4442 - val_accuracy: 0.5957\n",
            "Epoch 27/70\n",
            "74/74 [==============================] - 2s 24ms/step - loss: 8.1575 - accuracy: 0.5631 - val_loss: 7.8408 - val_accuracy: 0.5886\n",
            "Epoch 28/70\n",
            "74/74 [==============================] - 2s 24ms/step - loss: 7.5693 - accuracy: 0.5715 - val_loss: 7.2826 - val_accuracy: 0.5984\n",
            "Epoch 29/70\n",
            "74/74 [==============================] - 2s 23ms/step - loss: 7.0493 - accuracy: 0.5708 - val_loss: 6.7788 - val_accuracy: 0.5985\n",
            "Epoch 30/70\n",
            "74/74 [==============================] - 2s 23ms/step - loss: 6.5597 - accuracy: 0.5728 - val_loss: 6.3357 - val_accuracy: 0.5868\n",
            "Epoch 31/70\n",
            "74/74 [==============================] - 2s 23ms/step - loss: 6.1332 - accuracy: 0.5768 - val_loss: 5.9124 - val_accuracy: 0.5972\n",
            "Epoch 32/70\n",
            "74/74 [==============================] - 2s 23ms/step - loss: 5.7367 - accuracy: 0.5785 - val_loss: 5.5378 - val_accuracy: 0.5893\n",
            "Epoch 33/70\n",
            "74/74 [==============================] - 2s 24ms/step - loss: 5.3745 - accuracy: 0.5784 - val_loss: 5.2095 - val_accuracy: 0.5889\n",
            "Epoch 34/70\n",
            "74/74 [==============================] - 2s 23ms/step - loss: 5.0446 - accuracy: 0.5796 - val_loss: 4.8854 - val_accuracy: 0.5963\n",
            "Epoch 35/70\n",
            "74/74 [==============================] - 2s 24ms/step - loss: 4.7389 - accuracy: 0.5904 - val_loss: 4.5980 - val_accuracy: 0.6049\n",
            "Epoch 36/70\n",
            "74/74 [==============================] - 2s 23ms/step - loss: 4.4734 - accuracy: 0.5865 - val_loss: 4.3311 - val_accuracy: 0.6115\n",
            "Epoch 37/70\n",
            "74/74 [==============================] - 2s 23ms/step - loss: 4.2191 - accuracy: 0.5907 - val_loss: 4.0914 - val_accuracy: 0.6141\n",
            "Epoch 38/70\n",
            "74/74 [==============================] - 2s 23ms/step - loss: 3.9827 - accuracy: 0.5932 - val_loss: 3.8874 - val_accuracy: 0.6006\n",
            "Epoch 39/70\n",
            "74/74 [==============================] - 2s 23ms/step - loss: 3.7829 - accuracy: 0.5912 - val_loss: 3.6750 - val_accuracy: 0.6161\n",
            "Epoch 40/70\n",
            "74/74 [==============================] - 2s 24ms/step - loss: 3.5892 - accuracy: 0.5915 - val_loss: 3.5172 - val_accuracy: 0.5943\n",
            "Epoch 41/70\n",
            "74/74 [==============================] - 2s 23ms/step - loss: 3.4177 - accuracy: 0.5965 - val_loss: 3.3411 - val_accuracy: 0.5917\n",
            "Epoch 42/70\n",
            "74/74 [==============================] - 2s 23ms/step - loss: 3.2587 - accuracy: 0.5939 - val_loss: 3.1809 - val_accuracy: 0.6153\n",
            "Epoch 43/70\n",
            "74/74 [==============================] - 2s 23ms/step - loss: 3.1072 - accuracy: 0.5972 - val_loss: 3.0407 - val_accuracy: 0.6093\n",
            "Epoch 44/70\n",
            "74/74 [==============================] - 2s 24ms/step - loss: 2.9826 - accuracy: 0.5955 - val_loss: 2.9263 - val_accuracy: 0.6022\n",
            "Epoch 45/70\n",
            "74/74 [==============================] - 2s 24ms/step - loss: 2.8583 - accuracy: 0.5955 - val_loss: 2.7961 - val_accuracy: 0.6169\n",
            "Epoch 46/70\n",
            "74/74 [==============================] - 2s 24ms/step - loss: 2.7429 - accuracy: 0.5979 - val_loss: 2.6886 - val_accuracy: 0.6179\n",
            "Epoch 47/70\n",
            "74/74 [==============================] - 2s 23ms/step - loss: 2.6464 - accuracy: 0.5980 - val_loss: 2.6029 - val_accuracy: 0.6060\n",
            "Epoch 48/70\n",
            "74/74 [==============================] - 2s 23ms/step - loss: 2.5501 - accuracy: 0.5971 - val_loss: 2.5130 - val_accuracy: 0.6145\n",
            "Epoch 49/70\n",
            "74/74 [==============================] - 2s 24ms/step - loss: 2.4616 - accuracy: 0.6002 - val_loss: 2.4253 - val_accuracy: 0.6116\n",
            "Epoch 50/70\n",
            "74/74 [==============================] - 2s 24ms/step - loss: 2.3824 - accuracy: 0.6053 - val_loss: 2.3621 - val_accuracy: 0.5940\n",
            "Epoch 51/70\n",
            "74/74 [==============================] - 2s 24ms/step - loss: 2.3137 - accuracy: 0.5999 - val_loss: 2.2720 - val_accuracy: 0.6220\n",
            "Epoch 52/70\n",
            "74/74 [==============================] - 2s 24ms/step - loss: 2.2416 - accuracy: 0.6068 - val_loss: 2.2206 - val_accuracy: 0.6100\n",
            "Epoch 53/70\n",
            "74/74 [==============================] - 2s 24ms/step - loss: 2.1782 - accuracy: 0.6055 - val_loss: 2.1516 - val_accuracy: 0.6149\n",
            "Epoch 54/70\n",
            "74/74 [==============================] - 2s 24ms/step - loss: 2.1258 - accuracy: 0.6010 - val_loss: 2.1204 - val_accuracy: 0.6038\n",
            "Epoch 55/70\n",
            "74/74 [==============================] - 2s 24ms/step - loss: 2.0679 - accuracy: 0.6123 - val_loss: 2.0648 - val_accuracy: 0.6143\n",
            "Epoch 56/70\n",
            "74/74 [==============================] - 2s 23ms/step - loss: 2.0238 - accuracy: 0.6056 - val_loss: 2.0172 - val_accuracy: 0.6044\n",
            "Epoch 57/70\n",
            "74/74 [==============================] - 2s 24ms/step - loss: 1.9790 - accuracy: 0.6042 - val_loss: 1.9625 - val_accuracy: 0.6169\n",
            "Epoch 58/70\n",
            "74/74 [==============================] - 2s 23ms/step - loss: 1.9377 - accuracy: 0.6119 - val_loss: 1.9294 - val_accuracy: 0.6119\n",
            "Epoch 59/70\n",
            "74/74 [==============================] - 2s 23ms/step - loss: 1.9028 - accuracy: 0.6092 - val_loss: 1.8843 - val_accuracy: 0.6259\n",
            "Epoch 60/70\n",
            "74/74 [==============================] - 2s 23ms/step - loss: 1.8668 - accuracy: 0.6104 - val_loss: 1.8646 - val_accuracy: 0.6197\n",
            "Epoch 61/70\n",
            "74/74 [==============================] - 2s 23ms/step - loss: 1.8345 - accuracy: 0.6100 - val_loss: 1.8310 - val_accuracy: 0.6089\n",
            "Epoch 62/70\n",
            "74/74 [==============================] - 2s 23ms/step - loss: 1.8045 - accuracy: 0.6090 - val_loss: 1.8058 - val_accuracy: 0.6116\n",
            "Epoch 63/70\n",
            "74/74 [==============================] - 2s 23ms/step - loss: 1.7796 - accuracy: 0.6112 - val_loss: 1.7819 - val_accuracy: 0.6194\n",
            "Epoch 64/70\n",
            "74/74 [==============================] - 2s 23ms/step - loss: 1.7526 - accuracy: 0.6109 - val_loss: 1.7623 - val_accuracy: 0.6089\n",
            "Epoch 65/70\n",
            "74/74 [==============================] - 2s 23ms/step - loss: 1.7279 - accuracy: 0.6181 - val_loss: 1.7275 - val_accuracy: 0.6209\n",
            "Epoch 66/70\n",
            "74/74 [==============================] - 2s 24ms/step - loss: 1.7061 - accuracy: 0.6062 - val_loss: 1.7065 - val_accuracy: 0.6201\n",
            "Epoch 67/70\n",
            "74/74 [==============================] - 2s 24ms/step - loss: 1.6931 - accuracy: 0.6071 - val_loss: 1.6910 - val_accuracy: 0.6221\n",
            "Epoch 68/70\n",
            "74/74 [==============================] - 2s 23ms/step - loss: 1.6690 - accuracy: 0.6123 - val_loss: 1.6747 - val_accuracy: 0.6220\n",
            "Epoch 69/70\n",
            "74/74 [==============================] - 2s 23ms/step - loss: 1.6567 - accuracy: 0.6108 - val_loss: 1.6419 - val_accuracy: 0.6312\n",
            "Epoch 70/70\n",
            "74/74 [==============================] - 2s 23ms/step - loss: 1.6410 - accuracy: 0.6115 - val_loss: 1.6453 - val_accuracy: 0.6262\n"
          ],
          "name": "stdout"
        },
        {
          "output_type": "display_data",
          "data": {
            "image/png": "[encoded data removed]",
            "text/plain": [
              "<Figure size 432x288 with 1 Axes>"
            ]
          },
          "metadata": {
            "tags": [],
            "needs_background": "light"
          }
        }
      ]
    },
    {
      "cell_type": "code",
      "metadata": {
        "id": "UrZvUz1pIUrb",
        "colab_type": "code",
        "colab": {
          "base_uri": "https://localhost:8080/",
          "height": 51
        },
        "outputId": "36baa4be-55c3-4b56-8d22-f19adc0f6de6"
      },
      "source": [
        "my_model.evaluate(x=x_test_norm, y=y_test, batch_size=batch_size)"
      ],
      "execution_count": 43,
      "outputs": [
        {
          "output_type": "stream",
          "text": [
            "31/31 [==============================] - 0s 8ms/step - loss: 1.6467 - accuracy: 0.6155\n"
          ],
          "name": "stdout"
        },
        {
          "output_type": "execute_result",
          "data": {
            "text/plain": [
              "[1.6467370986938477, 0.6154852509498596]"
            ]
          },
          "metadata": {
            "tags": []
          },
          "execution_count": 43
        }
      ]
    },
    {
      "cell_type": "markdown",
      "metadata": {
        "id": "ApqraewKJk2R",
        "colab_type": "text"
      },
      "source": [
        "# Convolutional Neural Network model"
      ]
    },
    {
      "cell_type": "code",
      "metadata": {
        "id": "LVN1ubvyrRVx",
        "colab_type": "code",
        "colab": {}
      },
      "source": [
        "# define Convolutional Neural Network model.\n",
        "# we are implementing AlexNet architecture  for our CNN model\n",
        "def create_cnn_model(learning_rate):\n",
        "  \"\"\"Create and compile deep neural net model\"\"\"\n",
        "  model = tf.keras.models.Sequential()\n",
        "\n",
        "  # Add 1st Convolutional layer\n",
        "  model.add(layers.Conv2D(filters=96, kernel_size=(11, 11), strides=(4,4), \n",
        "                          activation='relu', input_shape=(100, 100, 3), padding='valid'))\n",
        "  \n",
        "  # Max Pooling\n",
        "  model.add(layers.MaxPool2D(pool_size=(3,3), strides=(2,2), padding='valid'))\n",
        "  \n",
        "  # Add 2nd Convolutional layer\n",
        "  model.add(layers.Conv2D(filters=256, kernel_size=(5, 5), strides=(1,1), \n",
        "                          activation='relu', padding='same'))\n",
        "   # Max Pooling\n",
        "  model.add(layers.MaxPool2D(pool_size=(3,3), strides=(2,2), padding='valid'))\n",
        "\n",
        "  # Add 3rd Convolutional layer\n",
        "  model.add(layers.Conv2D(filters=384, kernel_size=(3, 3), strides=(1,1), \n",
        "                          activation='relu', padding='same'))\n",
        "  \n",
        "  # Add 4th Convolutional layer\n",
        "  model.add(layers.Conv2D(filters=384, kernel_size=(3, 3), strides=(1,1), \n",
        "                          activation='relu', padding='same'))\n",
        "  \n",
        "  # Add 5th Convolutional layer\n",
        "  model.add(layers.Conv2D(filters=256, kernel_size=(3, 3), strides=(1,1), \n",
        "                          activation='relu', padding='same'))\n",
        "\n",
        "  # Max pooling\n",
        "  model.add(layers.MaxPool2D(pool_size=(3,3), strides=(2,2), padding='valid'))\n",
        "\n",
        "  # passing to fully connected layer\n",
        "  model.add(layers.Flatten())\n",
        "  # Define the first fully connected layer\n",
        "  model.add(layers.Dense(units=9216, activation='relu', name='fully1'))\n",
        "\n",
        "  # Define a dropout regularization layer for first fully connected layer. \n",
        "  model.add(layers.Dropout(rate=0.5))\n",
        "\n",
        "  # Define the second fully connected layer\n",
        "  model.add(layers.Dense(units=4096, activation='relu', name='fully2'))\n",
        "\n",
        "  # Define a dropout regularization layer for second fully connected layer. \n",
        "  model.add(layers.Dropout(rate=0.5))\n",
        "\n",
        "  # Define third fully connected layer\n",
        "  model.add(layers.Dense(units=1000, activation='relu', name='fully3'))\n",
        "\n",
        "  # Define a dropout regularization layer for third fully connected layer. \n",
        "  model.add(layers.Dropout(rate=0.5))\n",
        "\n",
        "  # Define the output layer\n",
        "  model.add(layers.Dense(units=10,\n",
        "                                  activation='softmax',\n",
        "                                  name='Output'))\n",
        "  \n",
        "  model.compile(optimizer=tf.keras.optimizers.Adam(lr=learning_rate),\n",
        "                loss=\"sparse_categorical_crossentropy\",\n",
        "                metrics=['accuracy'])\n",
        "  \n",
        "  return model"
      ],
      "execution_count": null,
      "outputs": []
    },
    {
      "cell_type": "code",
      "metadata": {
        "id": "mUNXhYCcQYyE",
        "colab_type": "code",
        "colab": {}
      },
      "source": [
        "# define hyperparameters\n",
        "epochs = 22\n",
        "batch_size = 150\n",
        "validation_split = 0.4\n",
        "learning_rate = 0.00007"
      ],
      "execution_count": null,
      "outputs": []
    },
    {
      "cell_type": "code",
      "metadata": {
        "id": "xvHrXeCVlKAC",
        "colab_type": "code",
        "colab": {}
      },
      "source": [
        "# Established model's topography\n",
        "my_model = create_cnn_model(learning_rate)"
      ],
      "execution_count": null,
      "outputs": []
    },
    {
      "cell_type": "markdown",
      "metadata": {
        "id": "Xxl3K7LFJ8Vh",
        "colab_type": "text"
      },
      "source": [
        "## Define train function for cnn model"
      ]
    },
    {
      "cell_type": "code",
      "metadata": {
        "id": "3R9ykKMAJ5Pt",
        "colab_type": "code",
        "colab": {}
      },
      "source": [
        "def train_cnn_model(model, train_features, train_label, epochs,\n",
        "                batch_size, validation_split=0.05):\n",
        "  \"\"\"Train the model by feeding it data.\"\"\"\n",
        "\n",
        "  history = model.fit(x=train_features, y=train_label, batch_size=batch_size,\n",
        "                      epochs=epochs, shuffle=True,\n",
        "                      validation_split=validation_split)\n",
        "  \n",
        "  # The list of epochs of the model\n",
        "  epochs = history.epoch\n",
        "\n",
        "  # gather a snapshot of the model's mean squared error\n",
        "  # at each epoch.\n",
        "  hist = pd.DataFrame(history.history)\n",
        "\n",
        "  return epochs, hist"
      ],
      "execution_count": null,
      "outputs": []
    },
    {
      "cell_type": "markdown",
      "metadata": {
        "id": "svP-Wd8XKBT5",
        "colab_type": "text"
      },
      "source": [
        "## Train CNN model"
      ]
    },
    {
      "cell_type": "code",
      "metadata": {
        "id": "GvwrmxaJKC_R",
        "colab_type": "code",
        "colab": {
          "base_uri": "https://localhost:8080/",
          "height": 1000
        },
        "outputId": "bffc83d7-6ace-4a36-a4e0-06013a9f0300"
      },
      "source": [
        "# Train the model on normalized training set\n",
        "epochs, hist = train_cnn_model(my_model, x_train_norm, y_train, epochs, batch_size, validation_split)\n",
        "\n",
        "# plot accuracy vs epochs of training\n",
        "list_of_metrics_to_plot = ['accuracy'] \n",
        "plot_curve(epochs, hist, list_of_metrics_to_plot)"
      ],
      "execution_count": null,
      "outputs": [
        {
          "output_type": "stream",
          "text": [
            "Epoch 1/22\n",
            "74/74 [==============================] - 6s 76ms/step - loss: 2.2365 - accuracy: 0.1308 - val_loss: 2.0013 - val_accuracy: 0.2159\n",
            "Epoch 2/22\n",
            "74/74 [==============================] - 4s 55ms/step - loss: 1.8353 - accuracy: 0.2922 - val_loss: 1.7710 - val_accuracy: 0.3294\n",
            "Epoch 3/22\n",
            "74/74 [==============================] - 4s 55ms/step - loss: 1.5551 - accuracy: 0.4272 - val_loss: 1.2948 - val_accuracy: 0.5218\n",
            "Epoch 4/22\n",
            "74/74 [==============================] - 4s 55ms/step - loss: 1.1557 - accuracy: 0.5859 - val_loss: 0.8549 - val_accuracy: 0.7056\n",
            "Epoch 5/22\n",
            "74/74 [==============================] - 4s 55ms/step - loss: 0.8661 - accuracy: 0.6891 - val_loss: 0.7152 - val_accuracy: 0.7416\n",
            "Epoch 6/22\n",
            "74/74 [==============================] - 4s 55ms/step - loss: 0.7462 - accuracy: 0.7340 - val_loss: 0.6782 - val_accuracy: 0.7561\n",
            "Epoch 7/22\n",
            "74/74 [==============================] - 4s 55ms/step - loss: 0.6340 - accuracy: 0.7703 - val_loss: 0.6660 - val_accuracy: 0.7626\n",
            "Epoch 8/22\n",
            "74/74 [==============================] - 4s 55ms/step - loss: 0.5321 - accuracy: 0.8106 - val_loss: 0.5968 - val_accuracy: 0.7865\n",
            "Epoch 9/22\n",
            "74/74 [==============================] - 4s 55ms/step - loss: 0.4983 - accuracy: 0.8221 - val_loss: 0.4570 - val_accuracy: 0.8357\n",
            "Epoch 10/22\n",
            "74/74 [==============================] - 4s 56ms/step - loss: 0.4227 - accuracy: 0.8475 - val_loss: 0.5159 - val_accuracy: 0.8237\n",
            "Epoch 11/22\n",
            "74/74 [==============================] - 4s 56ms/step - loss: 0.3778 - accuracy: 0.8638 - val_loss: 0.4271 - val_accuracy: 0.8456\n",
            "Epoch 12/22\n",
            "74/74 [==============================] - 4s 55ms/step - loss: 0.3443 - accuracy: 0.8739 - val_loss: 0.5126 - val_accuracy: 0.8328\n",
            "Epoch 13/22\n",
            "74/74 [==============================] - 4s 55ms/step - loss: 0.3143 - accuracy: 0.8893 - val_loss: 0.3460 - val_accuracy: 0.8808\n",
            "Epoch 14/22\n",
            "74/74 [==============================] - 4s 55ms/step - loss: 0.2535 - accuracy: 0.9111 - val_loss: 0.3855 - val_accuracy: 0.8681\n",
            "Epoch 15/22\n",
            "74/74 [==============================] - 4s 55ms/step - loss: 0.2041 - accuracy: 0.9299 - val_loss: 0.3326 - val_accuracy: 0.8904\n",
            "Epoch 16/22\n",
            "74/74 [==============================] - 4s 55ms/step - loss: 0.2157 - accuracy: 0.9277 - val_loss: 0.4435 - val_accuracy: 0.8547\n",
            "Epoch 17/22\n",
            "74/74 [==============================] - 4s 55ms/step - loss: 0.1647 - accuracy: 0.9423 - val_loss: 0.4448 - val_accuracy: 0.8560\n",
            "Epoch 18/22\n",
            "74/74 [==============================] - 4s 55ms/step - loss: 0.1703 - accuracy: 0.9387 - val_loss: 0.4711 - val_accuracy: 0.8441\n",
            "Epoch 19/22\n",
            "74/74 [==============================] - 4s 55ms/step - loss: 0.1377 - accuracy: 0.9524 - val_loss: 0.3030 - val_accuracy: 0.9039\n",
            "Epoch 20/22\n",
            "74/74 [==============================] - 4s 55ms/step - loss: 0.0963 - accuracy: 0.9678 - val_loss: 0.4041 - val_accuracy: 0.8812\n",
            "Epoch 21/22\n",
            "74/74 [==============================] - 4s 55ms/step - loss: 0.0785 - accuracy: 0.9725 - val_loss: 0.2895 - val_accuracy: 0.9156\n",
            "Epoch 22/22\n",
            "74/74 [==============================] - 4s 55ms/step - loss: 0.0711 - accuracy: 0.9764 - val_loss: 0.4290 - val_accuracy: 0.8723\n"
          ],
          "name": "stdout"
        },
        {
          "output_type": "display_data",
          "data": {
            "image/png": "[encoded data removed]",
            "text/plain": [
              "<Figure size 432x288 with 1 Axes>"
            ]
          },
          "metadata": {
            "tags": []
          }
        }
      ]
    },
    {
      "cell_type": "code",
      "metadata": {
        "id": "bJKrCLcBJ_Vd",
        "colab_type": "code",
        "colab": {
          "base_uri": "https://localhost:8080/",
          "height": 50
        },
        "outputId": "f54f9d92-257d-4048-d47b-341b0f25d4e9"
      },
      "source": [
        "my_model.evaluate(x=x_test_norm, y=y_test, batch_size=batch_size)"
      ],
      "execution_count": null,
      "outputs": [
        {
          "output_type": "stream",
          "text": [
            "31/31 [==============================] - 1s 18ms/step - loss: 0.4593 - accuracy: 0.8661\n"
          ],
          "name": "stdout"
        },
        {
          "output_type": "execute_result",
          "data": {
            "text/plain": [
              "[0.4592846632003784, 0.8660850524902344]"
            ]
          },
          "metadata": {
            "tags": []
          },
          "execution_count": 22
        }
      ]
    }
  ]
}