{
  "nbformat": 4,
  "nbformat_minor": 0,
  "metadata": {
    "kernelspec": {
      "display_name": "Python 3",
      "language": "python",
      "name": "python3"
    },
    "language_info": {
      "codemirror_mode": {
        "name": "ipython",
        "version": 3
      },
      "file_extension": ".py",
      "mimetype": "text/x-python",
      "name": "python",
      "nbconvert_exporter": "python",
      "pygments_lexer": "ipython3",
      "version": "3.7.3"
    },
    "colab": {
      "name": "playstore.ipynb",
      "provenance": [],
      "collapsed_sections": [],
      "include_colab_link": true
    }
  },
  "cells": [
    {
      "cell_type": "markdown",
      "metadata": {
        "id": "view-in-github",
        "colab_type": "text"
      },
      "source": [
        "<a href=\"https://colab.research.google.com/github/wiiloebis/bangkit_machine_learning_assigment/blob/master/playstore.ipynb\" target=\"_parent\"><img src=\"https://colab.research.google.com/assets/colab-badge.svg\" alt=\"Open In Colab\"/></a>"
      ]
    },
    {
      "cell_type": "code",
      "metadata": {
        "id": "rSM7sBJzhvcX",
        "colab_type": "code",
        "outputId": "853e816c-9330-4859-d087-e223a497eae2",
        "colab": {
          "base_uri": "https://localhost:8080/",
          "height": 17
        }
      },
      "source": [
        "import numpy as np\n",
        "import pandas as pd\n",
        "import matplotlib.pyplot as plt\n",
        "import seaborn as sns\n",
        "from sklearn.ensemble import ExtraTreesClassifier\n",
        "from sklearn.feature_selection import SelectKBest\n",
        "from sklearn.feature_selection import chi2\n",
        "from sklearn.preprocessing import LabelEncoder\n",
        "sns.set(style=\"darkgrid\")\n",
        "import plotly\n",
        "plotly.offline.init_notebook_mode(connected=True)\n",
        "import plotly.graph_objs as go"
      ],
      "execution_count": 126,
      "outputs": [
        {
          "output_type": "display_data",
          "data": {
            "text/html": [
              "        <script type=\"text/javascript\">\n",
              "        window.PlotlyConfig = {MathJaxConfig: 'local'};\n",
              "        if (window.MathJax) {MathJax.Hub.Config({SVG: {font: \"STIX-Web\"}});}\n",
              "        if (typeof require !== 'undefined') {\n",
              "        require.undef(\"plotly\");\n",
              "        requirejs.config({\n",
              "            paths: {\n",
              "                'plotly': ['https://cdn.plot.ly/plotly-latest.min']\n",
              "            }\n",
              "        });\n",
              "        require(['plotly'], function(Plotly) {\n",
              "            window._Plotly = Plotly;\n",
              "        });\n",
              "        }\n",
              "        </script>\n",
              "        "
            ]
          },
          "metadata": {
            "tags": []
          }
        }
      ]
    },
    {
      "cell_type": "code",
      "metadata": {
        "id": "Mv2wL7v-hvci",
        "colab_type": "code",
        "outputId": "9693dcd7-915e-44aa-f46e-34cb9e9c0c06",
        "colab": {
          "base_uri": "https://localhost:8080/",
          "height": 238
        }
      },
      "source": [
        "# read the Google Playstore csv file\n",
        "apps = pd.read_csv(\"Google-Playstore-32K.csv\")\n",
        "# App Name will be unvaluable feature so we remove it\n",
        "# Last Update indicates the time the last version of the app released. It also won't give much impact as feature\n",
        "# Latest Version indicates the last version of the app released. It also won't give much impact as feature\n",
        "apps = apps.drop(columns=['App Name', 'Last Updated', 'Latest Version'])\n",
        "apps = apps.rename(columns={'Minimum Version': 'Minimum_Version', 'Content Rating': 'Content_Rating'})\n",
        "apps.info()"
      ],
      "execution_count": 127,
      "outputs": [
        {
          "output_type": "stream",
          "text": [
            "<class 'pandas.core.frame.DataFrame'>\n",
            "RangeIndex: 8777 entries, 0 to 8776\n",
            "Data columns (total 8 columns):\n",
            "Category           8777 non-null object\n",
            "Rating             8777 non-null object\n",
            "Reviews            8775 non-null float64\n",
            "Installs           8776 non-null object\n",
            "Size               8776 non-null object\n",
            "Price              8776 non-null object\n",
            "Content_Rating     8776 non-null object\n",
            "Minimum_Version    8776 non-null object\n",
            "dtypes: float64(1), object(7)\n",
            "memory usage: 548.7+ KB\n"
          ],
          "name": "stdout"
        }
      ]
    },
    {
      "cell_type": "markdown",
      "metadata": {
        "id": "rVpY4zXshvco",
        "colab_type": "text"
      },
      "source": [
        "## Cleaning the data\n",
        "remove the string \"+ M $ ,\" from the Installs, Size and Price. remove Strings that are inconvertible to numeric value to NaN."
      ]
    },
    {
      "cell_type": "code",
      "metadata": {
        "id": "Zg8rHrxshvcp",
        "colab_type": "code",
        "colab": {}
      },
      "source": [
        "string_to_remove = [\"+\", \",\", \"M\", \"$\", \"k\"]\n",
        "columns = [\"Installs\",\"Size\", \"Price\", \"Rating\"]\n",
        "\n",
        "# loop over columns that we want to remove a substring from\n",
        "for col in columns:\n",
        "    # remove string from columns one by one\n",
        "    for string in string_to_remove:\n",
        "        apps[col] = apps[col].str.replace(string, '')\n",
        "    # convert the column to numeric\n",
        "    apps[col] = pd.to_numeric(apps[col], errors=\"coerce\")"
      ],
      "execution_count": 0,
      "outputs": []
    },
    {
      "cell_type": "code",
      "metadata": {
        "id": "bUTEkCGZhvcw",
        "colab_type": "code",
        "colab": {}
      },
      "source": [
        "# check the dataframe information after replacing the string\n",
        "apps.info()"
      ],
      "execution_count": 0,
      "outputs": []
    },
    {
      "cell_type": "code",
      "metadata": {
        "id": "Qf-9jfSThvdA",
        "colab_type": "code",
        "outputId": "adc48db5-f853-4ff0-d139-ddc99bdbe1bb",
        "colab": {
          "base_uri": "https://localhost:8080/",
          "height": 51
        }
      },
      "source": [
        "# drop the rows with NaN value\n",
        "# drop the rows with Redundant Value\n",
        "print(apps.shape)\n",
        "apps = apps.drop_duplicates(keep=\"first\", inplace=False)\n",
        "print(apps.shape)\n",
        "apps = apps.dropna()"
      ],
      "execution_count": 129,
      "outputs": [
        {
          "output_type": "stream",
          "text": [
            "(8777, 8)\n",
            "(8774, 8)\n"
          ],
          "name": "stdout"
        }
      ]
    },
    {
      "cell_type": "code",
      "metadata": {
        "scrolled": true,
        "id": "XgZJfZLphvdJ",
        "colab_type": "code",
        "colab": {}
      },
      "source": [
        "apps.info()\n",
        "print(apps.shape)"
      ],
      "execution_count": 0,
      "outputs": []
    },
    {
      "cell_type": "markdown",
      "metadata": {
        "id": "c7NtYcLTxS7v",
        "colab_type": "text"
      },
      "source": [
        "## Feature Selection Process"
      ]
    },
    {
      "cell_type": "code",
      "metadata": {
        "id": "0jfNGR7Kw5EH",
        "colab_type": "code",
        "colab": {}
      },
      "source": [
        "X = apps.iloc[:, apps.columns != 'Installs'].values\n",
        "Y = apps.iloc[:, 3].values\n",
        "# print(X.shape)\n",
        "# print(Y.shape)\n",
        "\n",
        "labelEncoder_Category =  LabelEncoder()\n",
        "# print(apps.Category.unique())\n",
        "X[:,0] = labelEncoder_Category.fit_transform(X[:,0])\n",
        "# print(X[:4,:])\n",
        "\n",
        "# print(apps.Minimum_Version.unique())\n",
        "labelEncoder_MinimumVersion =  LabelEncoder()\n",
        "# print(X[:4,:])\n",
        "X[:,6] = labelEncoder_MinimumVersion.fit_transform(X[:,6])\n",
        "# print(X[:4,:])\n",
        "\n",
        "# print(apps.Rating.unique())\n",
        "# print(X[:, 1])\n",
        "# X[:, [1]] = np.vstack(X[:, [1]]).astype(np.float)\n",
        "# print(X[:10, :])\n",
        "\n",
        "# print(apps.Content_Rating.unique())\n",
        "labelEncoder_Content_Rating =  LabelEncoder()\n",
        "# print(X[:10, :])\n",
        "X[:,5] = labelEncoder_Content_Rating.fit_transform(X[:,5])\n",
        "# print(X[:10, :])\n",
        "\n",
        "\n",
        "print(Y.shape)\n",
        "print(X.shape)\n",
        "print(X[0,:])\n",
        "dataframeX = pd.DataFrame(X)\n",
        "dataframeY = pd.DataFrame(Y)\n",
        "dataframeX = dataframeX.rename(columns={0: \"Category\", 1: \"Rating\", 2: \"Reviews\", 3: \"Size\", 4: \"Price\", 5:\"Content_Rating\", 6:\"Minimum_Version\"})\n",
        "print(dataframeX.info())\n",
        "bestfeatures = SelectKBest(score_func=chi2, k=7)\n",
        "fit = bestfeatures.fit(dataframeX,dataframeY)\n",
        "appsScores = pd.DataFrame(fit.scores_)\n",
        "appscolumns = pd.DataFrame(dataframeX.columns)\n",
        "# #concat two dataframes for better visualization \n",
        "featureScores = pd.concat([appscolumns,appsScores],axis=1)\n",
        "featureScores.columns = ['Specs','Score']  #naming the dataframe columns\n",
        "print(featureScores.nlargest(7,'Score'))  #print 5 best features\n",
        "\n",
        "\n",
        "model = ExtraTreesClassifier()\n",
        "dataframeX = dataframeX.rename(columns={0: \"Category\", 1: \"Rating\", 2: \"Reviews\", 3: \"Size\", 4: \"Price\", 5:\"Content_Rating\", 6:\"Minimum_Version\"})\n",
        "model.fit(dataframeX,dataframeY)\n",
        "print(model.feature_importances_) #use inbuilt class feature_importances of tree based classifiers\n",
        "#plot graph of feature importances for better visualization\n",
        "feat_importances = pd.Series(model.feature_importances_, index=dataframeX.columns)\n",
        "feat_importances.nlargest(10).plot(kind='barh')\n",
        "plt.show()\n",
        "\n",
        "\n",
        "corrmat = apps.corr()\n",
        "top_corr_features = corrmat.index\n",
        "plt.figure(figsize=(20,20))\n",
        "#plot heat map\n",
        "g=sns.heatmap(apps[top_corr_features].corr(),annot=True,cmap=\"RdYlGn\")"
      ],
      "execution_count": 0,
      "outputs": []
    },
    {
      "cell_type": "code",
      "metadata": {
        "id": "NsmsNFMGo69G",
        "colab_type": "code",
        "colab": {}
      },
      "source": [
        ""
      ],
      "execution_count": 0,
      "outputs": []
    },
    {
      "cell_type": "markdown",
      "metadata": {
        "id": "jzl6PWXNhvdO",
        "colab_type": "text"
      },
      "source": [
        "## Write preprocessed data to CSV\n",
        "run the cell below to save dataframe to csv file"
      ]
    },
    {
      "cell_type": "code",
      "metadata": {
        "id": "nFJRVH2yhvdP",
        "colab_type": "code",
        "colab": {}
      },
      "source": [
        "apps.to_csv(\"googleplaystore_processed.csv\")"
      ],
      "execution_count": 0,
      "outputs": []
    },
    {
      "cell_type": "code",
      "metadata": {
        "id": "1J9Wac6YhvdU",
        "colab_type": "code",
        "colab": {}
      },
      "source": [
        "apps.sample(20)"
      ],
      "execution_count": 0,
      "outputs": []
    },
    {
      "cell_type": "markdown",
      "metadata": {
        "id": "s-SycMmIhvdZ",
        "colab_type": "text"
      },
      "source": [
        "## Check Distribution of apps across Categories"
      ]
    },
    {
      "cell_type": "code",
      "metadata": {
        "id": "5UC2PUOPhvda",
        "colab_type": "code",
        "colab": {}
      },
      "source": [
        "# Check number of apps in each category and sort by descending order\n",
        "no_apps_by_category = apps[\"Category\"].value_counts().sort_values(ascending=False)\n",
        "print(\"Number of category:\",len(no_apps_by_category))\n",
        "no_apps_by_category.plot.bar(figsize=(20,10))"
      ],
      "execution_count": 0,
      "outputs": []
    },
    {
      "cell_type": "markdown",
      "metadata": {
        "id": "TCPSYN1fhvdg",
        "colab_type": "text"
      },
      "source": [
        "## App Rating Distribution\n",
        "finding the distribution of apps with histogram"
      ]
    },
    {
      "cell_type": "code",
      "metadata": {
        "id": "LNLVnmCNhvdh",
        "colab_type": "code",
        "colab": {}
      },
      "source": [
        "# Average rating of apps\n",
        "avg_app_rating = apps['Rating'].mean()\n",
        "print('Average app rating = ', avg_app_rating)\n",
        "\n",
        "# Distribution of apps according to their ratings\n",
        "data = [go.Histogram(\n",
        "        x = apps['Rating']\n",
        ")]\n",
        "\n",
        "# Vertical dashed line to indicate the average app rating\n",
        "layout = {'shapes': [{\n",
        "              'type' :'line',\n",
        "              'x0': avg_app_rating,\n",
        "              'y0': 0,\n",
        "              'x1': avg_app_rating,\n",
        "              'y1': 1000,\n",
        "              'line': { 'dash': 'dashdot'}\n",
        "          }]\n",
        "          }\n",
        "\n",
        "plotly.offline.iplot({'data': data, 'layout': layout})"
      ],
      "execution_count": 0,
      "outputs": []
    },
    {
      "cell_type": "markdown",
      "metadata": {
        "id": "WkiZk6zihvdn",
        "colab_type": "text"
      },
      "source": [
        "## Size vs Rating\n",
        "seems that most apps with small size have higher rating"
      ]
    },
    {
      "cell_type": "code",
      "metadata": {
        "id": "YMxkw5guhvdo",
        "colab_type": "code",
        "colab": {}
      },
      "source": [
        "# Plot size vs Price\n",
        "plot_size_vs_rating = sns.jointplot(x=apps[\"Size\"], y=apps[\"Rating\"], kind=\"hex\")\n",
        "plot_scatter = apps.plot.scatter(x=\"Size\", y=\"Rating\")"
      ],
      "execution_count": 0,
      "outputs": []
    },
    {
      "cell_type": "markdown",
      "metadata": {
        "id": "LthS2Ov4hvdt",
        "colab_type": "text"
      },
      "source": [
        "## Paid vs Rating\n",
        "Cheaper apps mostly have higher rating. there are 2 apps which has too high of a price."
      ]
    },
    {
      "cell_type": "code",
      "metadata": {
        "id": "IASet3xKhvdu",
        "colab_type": "code",
        "colab": {}
      },
      "source": [
        "plot_price_vs_Rating = sns.jointplot(x=apps[\"Price\"], y=apps[\"Rating\"], kind=\"hex\")\n",
        "plot_scatter = apps.plot.scatter(x=\"Price\", y=\"Rating\")"
      ],
      "execution_count": 0,
      "outputs": []
    },
    {
      "cell_type": "code",
      "metadata": {
        "id": "Bsk99pUqhvdz",
        "colab_type": "code",
        "colab": {}
      },
      "source": [
        "# Apps with outlier price\n",
        "apps[apps[\"Price\"] > 250]"
      ],
      "execution_count": 0,
      "outputs": []
    },
    {
      "cell_type": "code",
      "metadata": {
        "id": "V6EqSaj6hvd3",
        "colab_type": "code",
        "colab": {}
      },
      "source": [
        "# remove the two outlier\n",
        "apps.drop(apps[apps[\"Price\"] > 250].index, inplace=True)"
      ],
      "execution_count": 0,
      "outputs": []
    },
    {
      "cell_type": "markdown",
      "metadata": {
        "id": "hHkEMvN5hvd9",
        "colab_type": "text"
      },
      "source": [
        "## Price vs Category"
      ]
    },
    {
      "cell_type": "code",
      "metadata": {
        "id": "2nlNPGXWhveA",
        "colab_type": "code",
        "colab": {}
      },
      "source": [
        "fig, ax = plt.subplots()\n",
        "fig.set_size_inches(20, 25)\n",
        "\n",
        "# seems that we need to reduce the number of category\n",
        "sns.stripplot(x=\"Price\", y=\"Category\", data=apps, linewidth=1)"
      ],
      "execution_count": 0,
      "outputs": []
    },
    {
      "cell_type": "code",
      "metadata": {
        "id": "PuVTZ9iwhveE",
        "colab_type": "code",
        "colab": {}
      },
      "source": [
        "fig, ax = plt.subplots()\n",
        "fig.set_size_inches(12, 10)\n",
        "\n",
        "# sort the apps by number of apps category in descending order\n",
        "sorted_apps_by_category = apps[\"Category\"].value_counts().sort_values(ascending=False)\n",
        "# Take the first 15 Categories with most apps\n",
        "category_list = list(sorted_apps_by_category.index[0:10])\n",
        "apps_to_plot = apps[apps[\"Category\"].isin(category_list)]\n",
        "sns.stripplot(x=\"Price\", y=\"Category\", data=apps_to_plot, linewidth=1)"
      ],
      "execution_count": 0,
      "outputs": []
    },
    {
      "cell_type": "markdown",
      "metadata": {
        "id": "hbsbgLUUhveJ",
        "colab_type": "text"
      },
      "source": [
        "## Paid downloads vs Free downloads"
      ]
    },
    {
      "cell_type": "code",
      "metadata": {
        "id": "PYENchqChveK",
        "colab_type": "code",
        "colab": {}
      },
      "source": [
        "apps[\"Type\"] = np.where(apps[\"Price\"] > 0, \"Paid\",\"Free\")\n",
        "apps.boxplot(by=\"Type\", column=[\"Installs\"], grid=True)\n",
        "plt.yscale('log')\n",
        "plt.yticks([10, 1000, 100000, 10000000, 1000000000], [\"10\", \"1k\", \"100k\", \"10M\", \"1B\"])"
      ],
      "execution_count": 0,
      "outputs": []
    }
  ]
}