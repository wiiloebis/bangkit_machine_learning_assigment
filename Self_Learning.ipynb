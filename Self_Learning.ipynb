{
  "nbformat": 4,
  "nbformat_minor": 0,
  "metadata": {
    "colab": {
      "name": "Self Learning.ipynb",
      "provenance": [],
      "collapsed_sections": [],
      "toc_visible": true,
      "authorship_tag": "ABX9TyONGiyHVODC5oYaHQ5D/d/6",
      "include_colab_link": true
    },
    "kernelspec": {
      "name": "python3",
      "display_name": "Python 3"
    }
  },
  "cells": [
    {
      "cell_type": "markdown",
      "metadata": {
        "id": "view-in-github",
        "colab_type": "text"
      },
      "source": [
        "<a href=\"https://colab.research.google.com/github/wiiloebis/bangkit_machine_learning_assigment/blob/master/Self_Learning.ipynb\" target=\"_parent\"><img src=\"https://colab.research.google.com/assets/colab-badge.svg\" alt=\"Open In Colab\"/></a>"
      ]
    },
    {
      "cell_type": "code",
      "metadata": {
        "id": "cmKmOUvhLpbz",
        "colab_type": "code",
        "colab": {}
      },
      "source": [
        "import pandas as pd\n",
        "import numpy as np\n",
        "from sklearn.feature_selection import SelectKBest\n",
        "from sklearn.feature_selection import chi2\n",
        "from sklearn.preprocessing import LabelEncoder"
      ],
      "execution_count": 0,
      "outputs": []
    },
    {
      "cell_type": "code",
      "metadata": {
        "id": "WD2OSJHdhWsV",
        "colab_type": "code",
        "outputId": "7fbf8b7e-6725-4f60-95e0-af93b9d9313c",
        "colab": {
          "base_uri": "https://localhost:8080/",
          "height": 306
        }
      },
      "source": [
        "df = pd.read_csv('sample_data/googleplaystore.csv')\n",
        "df = df.drop(columns=['App', 'Last Updated', 'Current Ver'])\n",
        "df = df.rename(columns={\"Android Ver\": \"Android_Ver\", \"Content Rating\": \"Content_Rating\"})\n",
        "\n",
        "string_to_remove = [\"$\", \"M\"]\n",
        "columns = [\"Price\", \"Size\"]\n",
        "\n",
        "# print(df.iloc[36, :])\n",
        "\n",
        "# loop over columns that we want to remove a substring from\n",
        "for col in columns:\n",
        "    # remove string from columns one by one\n",
        "    for string in string_to_remove:\n",
        "        df[col] = df[col].str.replace(string, '')\n",
        "    # convert the column to numeric\n",
        "    df[col] = pd.to_numeric(df[col], errors=\"coerce\")\n",
        "\n",
        "df.info()\n",
        "df = df.dropna()\n",
        "\n",
        "# print(df.Size.unique())\n",
        "X = df.iloc[:, df.columns != 'Installs'].values\n",
        "Y = df.iloc[:, 4].values\n",
        "print(X.shape)\n",
        "print(Y.shape)"
      ],
      "execution_count": 0,
      "outputs": [
        {
          "output_type": "stream",
          "text": [
            "<class 'pandas.core.frame.DataFrame'>\n",
            "RangeIndex: 10841 entries, 0 to 10840\n",
            "Data columns (total 10 columns):\n",
            "Category          10841 non-null object\n",
            "Rating            9367 non-null float64\n",
            "Reviews           10841 non-null object\n",
            "Size              8829 non-null float64\n",
            "Installs          10841 non-null object\n",
            "Type              10840 non-null object\n",
            "Price             10840 non-null float64\n",
            "Content_Rating    10840 non-null object\n",
            "Genres            10841 non-null object\n",
            "Android_Ver       10838 non-null object\n",
            "dtypes: float64(3), object(7)\n",
            "memory usage: 847.1+ KB\n",
            "(7469, 9)\n",
            "(7469,)\n"
          ],
          "name": "stdout"
        }
      ]
    },
    {
      "cell_type": "code",
      "metadata": {
        "id": "vgZSYssehYTx",
        "colab_type": "code",
        "outputId": "8b1ef305-f652-4553-ed26-3460e43a8789",
        "colab": {
          "base_uri": "https://localhost:8080/",
          "height": 221
        }
      },
      "source": [
        "labelEncoder_Category =  LabelEncoder()\n",
        "print(df.Category.unique())\n",
        "X[:,0] = labelEncoder_Category.fit_transform(X[:,0])\n",
        "print(X[:4,:])"
      ],
      "execution_count": 0,
      "outputs": [
        {
          "output_type": "stream",
          "text": [
            "['ART_AND_DESIGN' 'AUTO_AND_VEHICLES' 'BEAUTY' 'BOOKS_AND_REFERENCE'\n",
            " 'BUSINESS' 'COMICS' 'COMMUNICATION' 'DATING' 'EDUCATION' 'ENTERTAINMENT'\n",
            " 'EVENTS' 'FINANCE' 'FOOD_AND_DRINK' 'HEALTH_AND_FITNESS' 'HOUSE_AND_HOME'\n",
            " 'LIBRARIES_AND_DEMO' 'LIFESTYLE' 'GAME' 'FAMILY' 'MEDICAL' 'SOCIAL'\n",
            " 'SHOPPING' 'PHOTOGRAPHY' 'SPORTS' 'TRAVEL_AND_LOCAL' 'TOOLS'\n",
            " 'PERSONALIZATION' 'PRODUCTIVITY' 'PARENTING' 'WEATHER' 'VIDEO_PLAYERS'\n",
            " 'NEWS_AND_MAGAZINES' 'MAPS_AND_NAVIGATION']\n",
            "[[0 4.1 '159' 19.0 'Free' 0.0 'Everyone' 'Art & Design' '4.0.3 and up']\n",
            " [0 3.9 '967' 14.0 'Free' 0.0 'Everyone' 'Art & Design;Pretend Play'\n",
            "  '4.0.3 and up']\n",
            " [0 4.7 '87510' 8.7 'Free' 0.0 'Everyone' 'Art & Design' '4.0.3 and up']\n",
            " [0 4.5 '215644' 25.0 'Free' 0.0 'Teen' 'Art & Design' '4.2 and up']]\n"
          ],
          "name": "stdout"
        }
      ]
    },
    {
      "cell_type": "code",
      "metadata": {
        "id": "LbkI6yXzm3Et",
        "colab_type": "code",
        "outputId": "faa4e863-3404-49cb-a4cd-a84b3f53311d",
        "colab": {
          "base_uri": "https://localhost:8080/",
          "height": 170
        }
      },
      "source": [
        "labelEncoder_Genre =  LabelEncoder()\n",
        "# print(df.Genres.unique())\n",
        "print(X[:4,:])\n",
        "X[:,7] = labelEncoder_Genre.fit_transform(X[:,7])\n",
        "print(X[:4,:])"
      ],
      "execution_count": 0,
      "outputs": [
        {
          "output_type": "stream",
          "text": [
            "[[0 4.1 '159' 19.0 'Free' 0.0 'Everyone' 'Art & Design' '4.0.3 and up']\n",
            " [0 3.9 '967' 14.0 'Free' 0.0 'Everyone' 'Art & Design;Pretend Play'\n",
            "  '4.0.3 and up']\n",
            " [0 4.7 '87510' 8.7 'Free' 0.0 'Everyone' 'Art & Design' '4.0.3 and up']\n",
            " [0 4.5 '215644' 25.0 'Free' 0.0 'Teen' 'Art & Design' '4.2 and up']]\n",
            "[[0 4.1 '159' 19.0 'Free' 0.0 'Everyone' 9 '4.0.3 and up']\n",
            " [0 3.9 '967' 14.0 'Free' 0.0 'Everyone' 11 '4.0.3 and up']\n",
            " [0 4.7 '87510' 8.7 'Free' 0.0 'Everyone' 9 '4.0.3 and up']\n",
            " [0 4.5 '215644' 25.0 'Free' 0.0 'Teen' 9 '4.2 and up']]\n"
          ],
          "name": "stdout"
        }
      ]
    },
    {
      "cell_type": "code",
      "metadata": {
        "id": "NjpAmB6tkfLE",
        "colab_type": "code",
        "outputId": "4e5bc9b5-5b5c-4ab9-85d5-37497429ad49",
        "colab": {
          "base_uri": "https://localhost:8080/",
          "height": 153
        }
      },
      "source": [
        "# print(df.Type.unique())\n",
        "labelEncoder_Type =  LabelEncoder()\n",
        "print(X[:4,:])\n",
        "X[:,4] = labelEncoder_Type.fit_transform(X[:,4])\n",
        "print(X[:4,:])"
      ],
      "execution_count": 0,
      "outputs": [
        {
          "output_type": "stream",
          "text": [
            "[[0 4.1 '159' 19.0 'Free' 0.0 'Everyone' 9 '4.0.3 and up']\n",
            " [0 3.9 '967' 14.0 'Free' 0.0 'Everyone' 11 '4.0.3 and up']\n",
            " [0 4.7 '87510' 8.7 'Free' 0.0 'Everyone' 9 '4.0.3 and up']\n",
            " [0 4.5 '215644' 25.0 'Free' 0.0 'Teen' 9 '4.2 and up']]\n",
            "[[0 4.1 '159' 19.0 0 0.0 'Everyone' 9 '4.0.3 and up']\n",
            " [0 3.9 '967' 14.0 0 0.0 'Everyone' 11 '4.0.3 and up']\n",
            " [0 4.7 '87510' 8.7 0 0.0 'Everyone' 9 '4.0.3 and up']\n",
            " [0 4.5 '215644' 25.0 0 0.0 'Teen' 9 '4.2 and up']]\n"
          ],
          "name": "stdout"
        }
      ]
    },
    {
      "cell_type": "code",
      "metadata": {
        "id": "wONoGlpnptZf",
        "colab_type": "code",
        "outputId": "6aca31ef-278a-467d-9789-2c2245b2e980",
        "colab": {
          "base_uri": "https://localhost:8080/",
          "height": 272
        }
      },
      "source": [
        "# print(df.Android_Ver.unique())\n",
        "labelEncoder_AndroidVersion =  LabelEncoder()\n",
        "print(X[:4,:])\n",
        "X[:,8] = labelEncoder_AndroidVersion.fit_transform(X[:,8])\n",
        "print(X[:4,:])"
      ],
      "execution_count": 0,
      "outputs": [
        {
          "output_type": "stream",
          "text": [
            "['4.0.3 and up' '4.2 and up' '4.4 and up' '2.3 and up' '3.0 and up'\n",
            " '4.1 and up' '4.0 and up' '5.0 and up' '6.0 and up' '1.6 and up'\n",
            " '2.1 and up' '2.2 and up' '1.5 and up' '7.0 and up' '4.3 and up'\n",
            " '4.0.3 - 7.1.1' '2.3.3 and up' 'Varies with device' '3.2 and up'\n",
            " '2.0 and up' '4.4W and up' '5.1 and up' '7.0 - 7.1.1' '8.0 and up'\n",
            " '5.0 - 8.0' '3.1 and up' '7.1 and up' '2.0.1 and up' '4.1 - 7.1.1'\n",
            " '5.0 - 6.0' '1.0 and up']\n",
            "[[0 4.1 '159' 19.0 0 0.0 'Everyone' 9 '4.0.3 and up']\n",
            " [0 3.9 '967' 14.0 0 0.0 'Everyone' 11 '4.0.3 and up']\n",
            " [0 4.7 '87510' 8.7 0 0.0 'Everyone' 9 '4.0.3 and up']\n",
            " [0 4.5 '215644' 25.0 0 0.0 'Teen' 9 '4.2 and up']]\n",
            "[[0 4.1 '159' 19.0 0 0.0 'Everyone' 9 14]\n",
            " [0 3.9 '967' 14.0 0 0.0 'Everyone' 11 14]\n",
            " [0 4.7 '87510' 8.7 0 0.0 'Everyone' 9 14]\n",
            " [0 4.5 '215644' 25.0 0 0.0 'Teen' 9 17]]\n"
          ],
          "name": "stdout"
        }
      ]
    },
    {
      "cell_type": "code",
      "metadata": {
        "id": "hvGu_IAPr1rg",
        "colab_type": "code",
        "outputId": "aa95c92e-ec71-42a4-a484-979363e902fa",
        "colab": {
          "base_uri": "https://localhost:8080/",
          "height": 238
        }
      },
      "source": [
        "print(df.Rating.unique())\n",
        "X[:, [1]] = np.vstack(X[:, [1]]).astype(np.float)\n",
        "print(X[:10, :])"
      ],
      "execution_count": 0,
      "outputs": [
        {
          "output_type": "stream",
          "text": [
            "[4.1 3.9 4.7 4.5 4.3 4.4 3.8 4.2 4.6 3.2 4.  4.8 4.9 3.6 3.7 3.3 3.4 3.5\n",
            " 5.  2.6 3.1 3.  1.9 2.5 2.8 2.7 1.  2.9 2.3 2.2 1.7 2.  1.8 2.4 1.6 2.1\n",
            " 1.4 1.5 1.2]\n",
            "[[0 4.1 '159' 19.0 0 0.0 'Everyone' 9 14]\n",
            " [0 3.9 '967' 14.0 0 0.0 'Everyone' 11 14]\n",
            " [0 4.7 '87510' 8.7 0 0.0 'Everyone' 9 14]\n",
            " [0 4.5 '215644' 25.0 0 0.0 'Teen' 9 17]\n",
            " [0 4.3 '967' 2.8 0 0.0 'Everyone' 10 19]\n",
            " [0 4.4 '167' 5.6 0 0.0 'Everyone' 9 7]\n",
            " [0 3.8 '178' 19.0 0 0.0 'Everyone' 9 14]\n",
            " [0 4.1 '36815' 29.0 0 0.0 'Everyone' 9 17]\n",
            " [0 4.4 '13791' 33.0 0 0.0 'Everyone' 9 9]\n",
            " [0 4.7 '121' 3.1 0 0.0 'Everyone' 10 14]]\n"
          ],
          "name": "stdout"
        }
      ]
    },
    {
      "cell_type": "code",
      "metadata": {
        "id": "wS-Qj1K42MMe",
        "colab_type": "code",
        "outputId": "99da0752-2123-4307-b816-f4ab88bc763f",
        "colab": {
          "base_uri": "https://localhost:8080/",
          "height": 374
        }
      },
      "source": [
        "print(df.Content_Rating.unique())\n",
        "labelEncoder_Content_Rating =  LabelEncoder()\n",
        "print(X[:10, :])\n",
        "X[:,6] = labelEncoder_Content_Rating.fit_transform(X[:,6])\n",
        "print(X[:10, :])"
      ],
      "execution_count": 0,
      "outputs": [
        {
          "output_type": "stream",
          "text": [
            "['Everyone' 'Teen' 'Everyone 10+' 'Mature 17+' 'Adults only 18+' 'Unrated']\n",
            "[[0 4.1 '159' 19.0 0 0.0 'Everyone' 9 14]\n",
            " [0 3.9 '967' 14.0 0 0.0 'Everyone' 11 14]\n",
            " [0 4.7 '87510' 8.7 0 0.0 'Everyone' 9 14]\n",
            " [0 4.5 '215644' 25.0 0 0.0 'Teen' 9 17]\n",
            " [0 4.3 '967' 2.8 0 0.0 'Everyone' 10 19]\n",
            " [0 4.4 '167' 5.6 0 0.0 'Everyone' 9 7]\n",
            " [0 3.8 '178' 19.0 0 0.0 'Everyone' 9 14]\n",
            " [0 4.1 '36815' 29.0 0 0.0 'Everyone' 9 17]\n",
            " [0 4.4 '13791' 33.0 0 0.0 'Everyone' 9 9]\n",
            " [0 4.7 '121' 3.1 0 0.0 'Everyone' 10 14]]\n",
            "[[0 4.1 '159' 19.0 0 0.0 1 9 14]\n",
            " [0 3.9 '967' 14.0 0 0.0 1 11 14]\n",
            " [0 4.7 '87510' 8.7 0 0.0 1 9 14]\n",
            " [0 4.5 '215644' 25.0 0 0.0 4 9 17]\n",
            " [0 4.3 '967' 2.8 0 0.0 1 10 19]\n",
            " [0 4.4 '167' 5.6 0 0.0 1 9 7]\n",
            " [0 3.8 '178' 19.0 0 0.0 1 9 14]\n",
            " [0 4.1 '36815' 29.0 0 0.0 1 9 17]\n",
            " [0 4.4 '13791' 33.0 0 0.0 1 9 9]\n",
            " [0 4.7 '121' 3.1 0 0.0 1 10 14]]\n"
          ],
          "name": "stdout"
        }
      ]
    },
    {
      "cell_type": "markdown",
      "metadata": {
        "id": "cu72f6b_Lsyy",
        "colab_type": "text"
      },
      "source": [
        "Load data from CSV"
      ]
    },
    {
      "cell_type": "code",
      "metadata": {
        "id": "vnmUSJqfTOLY",
        "colab_type": "code",
        "outputId": "4d9aa4f3-914a-4dd0-a9ee-9c331476197d",
        "colab": {
          "base_uri": "https://localhost:8080/",
          "height": 153
        }
      },
      "source": [
        "print(Y.shape)\n",
        "print(X.shape)\n",
        "# print(X[0,:])\n",
        "dataframeX = pd.DataFrame(X)\n",
        "dataframeY = pd.DataFrame(Y)\n",
        "bestfeatures = SelectKBest(score_func=chi2, k=7)\n",
        "fit = bestfeatures.fit(dataframeX,dataframeY)\n",
        "dfscores = pd.DataFrame(fit.scores_)\n",
        "dfcolumns = pd.DataFrame(dataframeX.columns)\n",
        "#concat two dataframes for better visualization \n",
        "featureScores = pd.concat([dfcolumns,dfscores],axis=1)\n",
        "featureScores.columns = ['Specs','Score']  #naming the dataframe columns\n",
        "print(featureScores.nlargest(5,'Score'))  #print 10 best features"
      ],
      "execution_count": 0,
      "outputs": [
        {
          "output_type": "stream",
          "text": [
            "(7469,)\n",
            "(7469, 9)\n",
            "   Specs         Score\n",
            "2      2  4.370237e+10\n",
            "3      3  2.222939e+04\n",
            "5      5  1.128823e+04\n",
            "7      7  1.216147e+03\n",
            "4      4  5.203057e+02\n"
          ],
          "name": "stdout"
        }
      ]
    },
    {
      "cell_type": "code",
      "metadata": {
        "id": "geNOdQLrUKpS",
        "colab_type": "code",
        "outputId": "8d331eec-641b-4a7c-f84e-62e882bf5e88",
        "colab": {
          "base_uri": "https://localhost:8080/",
          "height": 353
        }
      },
      "source": [
        "from sklearn.ensemble import ExtraTreesClassifier\n",
        "import matplotlib.pyplot as plt\n",
        "model = ExtraTreesClassifier()\n",
        "model.fit(dataframeX,dataframeY)\n",
        "print(model.feature_importances_) #use inbuilt class feature_importances of tree based classifiers\n",
        "#plot graph of feature importances for better visualization\n",
        "feat_importances = pd.Series(model.feature_importances_, index=dataframeX.columns)\n",
        "feat_importances.nlargest(10).plot(kind='barh')\n",
        "plt.show()"
      ],
      "execution_count": 0,
      "outputs": [
        {
          "output_type": "stream",
          "text": [
            "/usr/local/lib/python3.6/dist-packages/ipykernel_launcher.py:4: DataConversionWarning: A column-vector y was passed when a 1d array was expected. Please change the shape of y to (n_samples,), for example using ravel().\n",
            "  after removing the cwd from sys.path.\n"
          ],
          "name": "stderr"
        },
        {
          "output_type": "stream",
          "text": [
            "[0.07742966 0.13475523 0.36487568 0.16786575 0.00705072 0.00854216\n",
            " 0.02669006 0.09386022 0.11893051]\n"
          ],
          "name": "stdout"
        },
        {
          "output_type": "display_data",
          "data": {
            "image/png": "[encoded data removed]",
            "text/plain": [
              "<Figure size 432x288 with 1 Axes>"
            ]
          },
          "metadata": {
            "tags": []
          }
        }
      ]
    },
    {
      "cell_type": "code",
      "metadata": {
        "id": "nxvgEoXmUb3K",
        "colab_type": "code",
        "outputId": "0ee81f67-70de-45f2-e099-21e039e4d9e7",
        "colab": {
          "base_uri": "https://localhost:8080/",
          "height": 1000
        }
      },
      "source": [
        "import seaborn as sns\n",
        "corrmat = df.corr()\n",
        "top_corr_features = corrmat.index\n",
        "plt.figure(figsize=(20,20))\n",
        "#plot heat map\n",
        "g=sns.heatmap(df[top_corr_features].corr(),annot=True,cmap=\"RdYlGn\")"
      ],
      "execution_count": 0,
      "outputs": [
        {
          "output_type": "display_data",
          "data": {
            "image/png": "[encoded data removed]",
            "text/plain": [
              "<Figure size 1440x1440 with 2 Axes>"
            ]
          },
          "metadata": {
            "tags": []
          }
        }
      ]
    }
  ]
}